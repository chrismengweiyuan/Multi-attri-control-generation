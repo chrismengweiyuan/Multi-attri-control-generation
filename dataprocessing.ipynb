{
 "cells": [
  {
   "cell_type": "markdown",
   "id": "753bfa4b-41a8-47a4-921f-843c7eded819",
   "metadata": {},
   "source": [
    "## process genre data"
   ]
  },
  {
   "cell_type": "code",
   "execution_count": 320,
   "id": "d2bb3178-984d-454d-8005-daf0a0a00bd9",
   "metadata": {
    "tags": []
   },
   "outputs": [
    {
     "name": "stderr",
     "output_type": "stream",
     "text": [
      "[nltk_data] Downloading package punkt to /Users/kexinchen/nltk_data...\n",
      "[nltk_data]   Package punkt is already up-to-date!\n"
     ]
    }
   ],
   "source": [
    "import pandas as pd\n",
    "import nltk\n",
    "nltk.download('punkt')\n",
    "import json\n",
    "from functools import reduce\n",
    "from collections import Counter\n",
    "import re"
   ]
  },
  {
   "cell_type": "code",
   "execution_count": 321,
   "id": "18b4519a-55d8-4aeb-b94a-45f473d6b617",
   "metadata": {},
   "outputs": [],
   "source": [
    "with open(\"./MovieSummaries/plot_summaries.txt\") as file:\n",
    "    lines = file.readlines()\n",
    "\n",
    "summary_data = []\n",
    "for line in lines:\n",
    "    line = line.split(\"\\t\")\n",
    "    line = [x.strip() for x in line]\n",
    "    if len(nltk.word_tokenize(line[1])) < 100:\n",
    "        continue\n",
    "    summary_data.append(line)\n",
    "    \n",
    "    "
   ]
  },
  {
   "cell_type": "code",
   "execution_count": 322,
   "id": "f68c5e7c-2fd2-404c-9f92-7013c91a4acc",
   "metadata": {},
   "outputs": [
    {
     "data": {
      "text/plain": [
       "31559"
      ]
     },
     "execution_count": 322,
     "metadata": {},
     "output_type": "execute_result"
    }
   ],
   "source": [
    "len(summary_data)"
   ]
  },
  {
   "cell_type": "code",
   "execution_count": 323,
   "id": "5c10a251-651b-4a74-bd2b-987734493464",
   "metadata": {},
   "outputs": [],
   "source": [
    "summary_df = pd.DataFrame(summary_data, columns=['Movie ID', 'Summary'])"
   ]
  },
  {
   "cell_type": "code",
   "execution_count": 324,
   "id": "5621bbca-f264-4e04-9ae1-1d77f0d25e64",
   "metadata": {},
   "outputs": [
    {
     "data": {
      "text/html": [
       "<div>\n",
       "<style scoped>\n",
       "    .dataframe tbody tr th:only-of-type {\n",
       "        vertical-align: middle;\n",
       "    }\n",
       "\n",
       "    .dataframe tbody tr th {\n",
       "        vertical-align: top;\n",
       "    }\n",
       "\n",
       "    .dataframe thead th {\n",
       "        text-align: right;\n",
       "    }\n",
       "</style>\n",
       "<table border=\"1\" class=\"dataframe\">\n",
       "  <thead>\n",
       "    <tr style=\"text-align: right;\">\n",
       "      <th></th>\n",
       "      <th>Movie ID</th>\n",
       "      <th>Summary</th>\n",
       "    </tr>\n",
       "  </thead>\n",
       "  <tbody>\n",
       "    <tr>\n",
       "      <th>0</th>\n",
       "      <td>31186339</td>\n",
       "      <td>The nation of Panem consists of a wealthy Capi...</td>\n",
       "    </tr>\n",
       "    <tr>\n",
       "      <th>1</th>\n",
       "      <td>20663735</td>\n",
       "      <td>Poovalli Induchoodan  is sentenced for six yea...</td>\n",
       "    </tr>\n",
       "    <tr>\n",
       "      <th>2</th>\n",
       "      <td>2231378</td>\n",
       "      <td>The Lemon Drop Kid , a New York City swindler,...</td>\n",
       "    </tr>\n",
       "    <tr>\n",
       "      <th>3</th>\n",
       "      <td>595909</td>\n",
       "      <td>Seventh-day Adventist Church pastor Michael Ch...</td>\n",
       "    </tr>\n",
       "    <tr>\n",
       "      <th>4</th>\n",
       "      <td>5272176</td>\n",
       "      <td>The president is on his way to give a speech. ...</td>\n",
       "    </tr>\n",
       "    <tr>\n",
       "      <th>...</th>\n",
       "      <td>...</td>\n",
       "      <td>...</td>\n",
       "    </tr>\n",
       "    <tr>\n",
       "      <th>31554</th>\n",
       "      <td>2867597</td>\n",
       "      <td>An attempt to bring the famed \"Mr. Bill\" clay ...</td>\n",
       "    </tr>\n",
       "    <tr>\n",
       "      <th>31555</th>\n",
       "      <td>1096473</td>\n",
       "      <td>In 1928 Hollywood, director Leo Andreyev  look...</td>\n",
       "    </tr>\n",
       "    <tr>\n",
       "      <th>31556</th>\n",
       "      <td>35102018</td>\n",
       "      <td>American Luthier focuses on Randy Parsons’ tra...</td>\n",
       "    </tr>\n",
       "    <tr>\n",
       "      <th>31557</th>\n",
       "      <td>8628195</td>\n",
       "      <td>Abdur Rehman Khan , a middle-aged dry fruit se...</td>\n",
       "    </tr>\n",
       "    <tr>\n",
       "      <th>31558</th>\n",
       "      <td>6040782</td>\n",
       "      <td>1940 - Operation Dynamo has just taken place. ...</td>\n",
       "    </tr>\n",
       "  </tbody>\n",
       "</table>\n",
       "<p>31559 rows × 2 columns</p>\n",
       "</div>"
      ],
      "text/plain": [
       "       Movie ID                                            Summary\n",
       "0      31186339  The nation of Panem consists of a wealthy Capi...\n",
       "1      20663735  Poovalli Induchoodan  is sentenced for six yea...\n",
       "2       2231378  The Lemon Drop Kid , a New York City swindler,...\n",
       "3        595909  Seventh-day Adventist Church pastor Michael Ch...\n",
       "4       5272176  The president is on his way to give a speech. ...\n",
       "...         ...                                                ...\n",
       "31554   2867597  An attempt to bring the famed \"Mr. Bill\" clay ...\n",
       "31555   1096473  In 1928 Hollywood, director Leo Andreyev  look...\n",
       "31556  35102018  American Luthier focuses on Randy Parsons’ tra...\n",
       "31557   8628195  Abdur Rehman Khan , a middle-aged dry fruit se...\n",
       "31558   6040782  1940 - Operation Dynamo has just taken place. ...\n",
       "\n",
       "[31559 rows x 2 columns]"
      ]
     },
     "execution_count": 324,
     "metadata": {},
     "output_type": "execute_result"
    }
   ],
   "source": [
    "summary_df"
   ]
  },
  {
   "cell_type": "code",
   "execution_count": 325,
   "id": "73042696-a4af-4a91-a53f-be1a3e643885",
   "metadata": {},
   "outputs": [],
   "source": [
    "header =  [\"Wikipedia movie ID\", \"Freebase movie ID\", \"Movie name\", \"Movie release date\", \"Movie box office revenue\", \"Movie runtime\", \n",
    "\"Movie languages\", \"Movie countries\", \"Movie genres\"]\n",
    "metadata_df = pd.read_csv('./MovieSummaries/movie.metadata.tsv', sep='\\t', names=header)\n",
    "metadata_df = metadata_df[['Wikipedia movie ID', 'Freebase movie ID', \"Movie name\", \"Movie genres\"]]\n"
   ]
  },
  {
   "cell_type": "code",
   "execution_count": 326,
   "id": "92598976-216c-40c1-bc0b-039ba97da7ea",
   "metadata": {},
   "outputs": [
    {
     "data": {
      "text/html": [
       "<div>\n",
       "<style scoped>\n",
       "    .dataframe tbody tr th:only-of-type {\n",
       "        vertical-align: middle;\n",
       "    }\n",
       "\n",
       "    .dataframe tbody tr th {\n",
       "        vertical-align: top;\n",
       "    }\n",
       "\n",
       "    .dataframe thead th {\n",
       "        text-align: right;\n",
       "    }\n",
       "</style>\n",
       "<table border=\"1\" class=\"dataframe\">\n",
       "  <thead>\n",
       "    <tr style=\"text-align: right;\">\n",
       "      <th></th>\n",
       "      <th>Wikipedia movie ID</th>\n",
       "      <th>Freebase movie ID</th>\n",
       "      <th>Movie name</th>\n",
       "      <th>Movie genres</th>\n",
       "    </tr>\n",
       "  </thead>\n",
       "  <tbody>\n",
       "    <tr>\n",
       "      <th>0</th>\n",
       "      <td>975900</td>\n",
       "      <td>/m/03vyhn</td>\n",
       "      <td>Ghosts of Mars</td>\n",
       "      <td>{\"/m/01jfsb\": \"Thriller\", \"/m/06n90\": \"Science...</td>\n",
       "    </tr>\n",
       "    <tr>\n",
       "      <th>1</th>\n",
       "      <td>3196793</td>\n",
       "      <td>/m/08yl5d</td>\n",
       "      <td>Getting Away with Murder: The JonBenét Ramsey ...</td>\n",
       "      <td>{\"/m/02n4kr\": \"Mystery\", \"/m/03bxz7\": \"Biograp...</td>\n",
       "    </tr>\n",
       "    <tr>\n",
       "      <th>2</th>\n",
       "      <td>28463795</td>\n",
       "      <td>/m/0crgdbh</td>\n",
       "      <td>Brun bitter</td>\n",
       "      <td>{\"/m/0lsxr\": \"Crime Fiction\", \"/m/07s9rl0\": \"D...</td>\n",
       "    </tr>\n",
       "    <tr>\n",
       "      <th>3</th>\n",
       "      <td>9363483</td>\n",
       "      <td>/m/0285_cd</td>\n",
       "      <td>White Of The Eye</td>\n",
       "      <td>{\"/m/01jfsb\": \"Thriller\", \"/m/0glj9q\": \"Erotic...</td>\n",
       "    </tr>\n",
       "    <tr>\n",
       "      <th>4</th>\n",
       "      <td>261236</td>\n",
       "      <td>/m/01mrr1</td>\n",
       "      <td>A Woman in Flames</td>\n",
       "      <td>{\"/m/07s9rl0\": \"Drama\"}</td>\n",
       "    </tr>\n",
       "    <tr>\n",
       "      <th>...</th>\n",
       "      <td>...</td>\n",
       "      <td>...</td>\n",
       "      <td>...</td>\n",
       "      <td>...</td>\n",
       "    </tr>\n",
       "    <tr>\n",
       "      <th>81736</th>\n",
       "      <td>35228177</td>\n",
       "      <td>/m/0j7hxnt</td>\n",
       "      <td>Mermaids: The Body Found</td>\n",
       "      <td>{\"/m/07s9rl0\": \"Drama\"}</td>\n",
       "    </tr>\n",
       "    <tr>\n",
       "      <th>81737</th>\n",
       "      <td>34980460</td>\n",
       "      <td>/m/0g4pl34</td>\n",
       "      <td>Knuckle</td>\n",
       "      <td>{\"/m/03bxz7\": \"Biographical film\", \"/m/07s9rl0...</td>\n",
       "    </tr>\n",
       "    <tr>\n",
       "      <th>81738</th>\n",
       "      <td>9971909</td>\n",
       "      <td>/m/02pygw1</td>\n",
       "      <td>Another Nice Mess</td>\n",
       "      <td>{\"/m/06nbt\": \"Satire\", \"/m/01z4y\": \"Comedy\"}</td>\n",
       "    </tr>\n",
       "    <tr>\n",
       "      <th>81739</th>\n",
       "      <td>913762</td>\n",
       "      <td>/m/03pcrp</td>\n",
       "      <td>The Super Dimension Fortress Macross II: Lover...</td>\n",
       "      <td>{\"/m/06n90\": \"Science Fiction\", \"/m/0gw5n2f\": ...</td>\n",
       "    </tr>\n",
       "    <tr>\n",
       "      <th>81740</th>\n",
       "      <td>12476867</td>\n",
       "      <td>/m/02w7zz8</td>\n",
       "      <td>Spliced</td>\n",
       "      <td>{\"/m/01jfsb\": \"Thriller\", \"/m/03npn\": \"Horror\"...</td>\n",
       "    </tr>\n",
       "  </tbody>\n",
       "</table>\n",
       "<p>81741 rows × 4 columns</p>\n",
       "</div>"
      ],
      "text/plain": [
       "       Wikipedia movie ID Freebase movie ID  \\\n",
       "0                  975900         /m/03vyhn   \n",
       "1                 3196793         /m/08yl5d   \n",
       "2                28463795        /m/0crgdbh   \n",
       "3                 9363483        /m/0285_cd   \n",
       "4                  261236         /m/01mrr1   \n",
       "...                   ...               ...   \n",
       "81736            35228177        /m/0j7hxnt   \n",
       "81737            34980460        /m/0g4pl34   \n",
       "81738             9971909        /m/02pygw1   \n",
       "81739              913762         /m/03pcrp   \n",
       "81740            12476867        /m/02w7zz8   \n",
       "\n",
       "                                              Movie name  \\\n",
       "0                                         Ghosts of Mars   \n",
       "1      Getting Away with Murder: The JonBenét Ramsey ...   \n",
       "2                                            Brun bitter   \n",
       "3                                       White Of The Eye   \n",
       "4                                      A Woman in Flames   \n",
       "...                                                  ...   \n",
       "81736                           Mermaids: The Body Found   \n",
       "81737                                            Knuckle   \n",
       "81738                                  Another Nice Mess   \n",
       "81739  The Super Dimension Fortress Macross II: Lover...   \n",
       "81740                                            Spliced   \n",
       "\n",
       "                                            Movie genres  \n",
       "0      {\"/m/01jfsb\": \"Thriller\", \"/m/06n90\": \"Science...  \n",
       "1      {\"/m/02n4kr\": \"Mystery\", \"/m/03bxz7\": \"Biograp...  \n",
       "2      {\"/m/0lsxr\": \"Crime Fiction\", \"/m/07s9rl0\": \"D...  \n",
       "3      {\"/m/01jfsb\": \"Thriller\", \"/m/0glj9q\": \"Erotic...  \n",
       "4                                {\"/m/07s9rl0\": \"Drama\"}  \n",
       "...                                                  ...  \n",
       "81736                            {\"/m/07s9rl0\": \"Drama\"}  \n",
       "81737  {\"/m/03bxz7\": \"Biographical film\", \"/m/07s9rl0...  \n",
       "81738       {\"/m/06nbt\": \"Satire\", \"/m/01z4y\": \"Comedy\"}  \n",
       "81739  {\"/m/06n90\": \"Science Fiction\", \"/m/0gw5n2f\": ...  \n",
       "81740  {\"/m/01jfsb\": \"Thriller\", \"/m/03npn\": \"Horror\"...  \n",
       "\n",
       "[81741 rows x 4 columns]"
      ]
     },
     "execution_count": 326,
     "metadata": {},
     "output_type": "execute_result"
    }
   ],
   "source": [
    "metadata_df"
   ]
  },
  {
   "cell_type": "code",
   "execution_count": 327,
   "id": "d1821898-4dd0-46ae-b9a7-f0b3d1dc347f",
   "metadata": {},
   "outputs": [
    {
     "data": {
      "text/html": [
       "<div>\n",
       "<style scoped>\n",
       "    .dataframe tbody tr th:only-of-type {\n",
       "        vertical-align: middle;\n",
       "    }\n",
       "\n",
       "    .dataframe tbody tr th {\n",
       "        vertical-align: top;\n",
       "    }\n",
       "\n",
       "    .dataframe thead th {\n",
       "        text-align: right;\n",
       "    }\n",
       "</style>\n",
       "<table border=\"1\" class=\"dataframe\">\n",
       "  <thead>\n",
       "    <tr style=\"text-align: right;\">\n",
       "      <th></th>\n",
       "      <th>Wikipedia movie ID</th>\n",
       "      <th>Freebase movie ID</th>\n",
       "      <th>Movie name</th>\n",
       "      <th>Movie genres</th>\n",
       "      <th>Movie ID</th>\n",
       "      <th>Summary</th>\n",
       "    </tr>\n",
       "  </thead>\n",
       "  <tbody>\n",
       "    <tr>\n",
       "      <th>0</th>\n",
       "      <td>975900</td>\n",
       "      <td>/m/03vyhn</td>\n",
       "      <td>Ghosts of Mars</td>\n",
       "      <td>{\"/m/01jfsb\": \"Thriller\", \"/m/06n90\": \"Science...</td>\n",
       "      <td>31186339</td>\n",
       "      <td>The nation of Panem consists of a wealthy Capi...</td>\n",
       "    </tr>\n",
       "    <tr>\n",
       "      <th>1</th>\n",
       "      <td>3196793</td>\n",
       "      <td>/m/08yl5d</td>\n",
       "      <td>Getting Away with Murder: The JonBenét Ramsey ...</td>\n",
       "      <td>{\"/m/02n4kr\": \"Mystery\", \"/m/03bxz7\": \"Biograp...</td>\n",
       "      <td>20663735</td>\n",
       "      <td>Poovalli Induchoodan  is sentenced for six yea...</td>\n",
       "    </tr>\n",
       "    <tr>\n",
       "      <th>2</th>\n",
       "      <td>28463795</td>\n",
       "      <td>/m/0crgdbh</td>\n",
       "      <td>Brun bitter</td>\n",
       "      <td>{\"/m/0lsxr\": \"Crime Fiction\", \"/m/07s9rl0\": \"D...</td>\n",
       "      <td>2231378</td>\n",
       "      <td>The Lemon Drop Kid , a New York City swindler,...</td>\n",
       "    </tr>\n",
       "    <tr>\n",
       "      <th>3</th>\n",
       "      <td>9363483</td>\n",
       "      <td>/m/0285_cd</td>\n",
       "      <td>White Of The Eye</td>\n",
       "      <td>{\"/m/01jfsb\": \"Thriller\", \"/m/0glj9q\": \"Erotic...</td>\n",
       "      <td>595909</td>\n",
       "      <td>Seventh-day Adventist Church pastor Michael Ch...</td>\n",
       "    </tr>\n",
       "    <tr>\n",
       "      <th>4</th>\n",
       "      <td>261236</td>\n",
       "      <td>/m/01mrr1</td>\n",
       "      <td>A Woman in Flames</td>\n",
       "      <td>{\"/m/07s9rl0\": \"Drama\"}</td>\n",
       "      <td>5272176</td>\n",
       "      <td>The president is on his way to give a speech. ...</td>\n",
       "    </tr>\n",
       "    <tr>\n",
       "      <th>...</th>\n",
       "      <td>...</td>\n",
       "      <td>...</td>\n",
       "      <td>...</td>\n",
       "      <td>...</td>\n",
       "      <td>...</td>\n",
       "      <td>...</td>\n",
       "    </tr>\n",
       "    <tr>\n",
       "      <th>31554</th>\n",
       "      <td>11178030</td>\n",
       "      <td>/m/02r2pm6</td>\n",
       "      <td>A.I. Assault</td>\n",
       "      <td>{\"/m/01jfsb\": \"Thriller\", \"/m/06n90\": \"Science...</td>\n",
       "      <td>2867597</td>\n",
       "      <td>An attempt to bring the famed \"Mr. Bill\" clay ...</td>\n",
       "    </tr>\n",
       "    <tr>\n",
       "      <th>31555</th>\n",
       "      <td>29896629</td>\n",
       "      <td>/m/0fqp5zx</td>\n",
       "      <td>Santa and the Ice Cream Bunny</td>\n",
       "      <td>{\"/m/0bj8m2\": \"Children's\"}</td>\n",
       "      <td>1096473</td>\n",
       "      <td>In 1928 Hollywood, director Leo Andreyev  look...</td>\n",
       "    </tr>\n",
       "    <tr>\n",
       "      <th>31556</th>\n",
       "      <td>17672486</td>\n",
       "      <td>/m/047s548</td>\n",
       "      <td>The Bottom of the Bottle</td>\n",
       "      <td>{\"/m/02l7c8\": \"Romance Film\", \"/m/07s9rl0\": \"D...</td>\n",
       "      <td>35102018</td>\n",
       "      <td>American Luthier focuses on Randy Parsons’ tra...</td>\n",
       "    </tr>\n",
       "    <tr>\n",
       "      <th>31557</th>\n",
       "      <td>14132268</td>\n",
       "      <td>/m/03cvl41</td>\n",
       "      <td>Beethoven Lives Upstairs</td>\n",
       "      <td>{\"/m/0hj3myq\": \"Children's/Family\", \"/m/04xvh5...</td>\n",
       "      <td>8628195</td>\n",
       "      <td>Abdur Rehman Khan , a middle-aged dry fruit se...</td>\n",
       "    </tr>\n",
       "    <tr>\n",
       "      <th>31558</th>\n",
       "      <td>5090583</td>\n",
       "      <td>/m/0d27mw</td>\n",
       "      <td>C.I.D.</td>\n",
       "      <td>{\"/m/04t36\": \"Musical\", \"/m/07s9rl0\": \"Drama\",...</td>\n",
       "      <td>6040782</td>\n",
       "      <td>1940 - Operation Dynamo has just taken place. ...</td>\n",
       "    </tr>\n",
       "  </tbody>\n",
       "</table>\n",
       "<p>31559 rows × 6 columns</p>\n",
       "</div>"
      ],
      "text/plain": [
       "       Wikipedia movie ID Freebase movie ID  \\\n",
       "0                  975900         /m/03vyhn   \n",
       "1                 3196793         /m/08yl5d   \n",
       "2                28463795        /m/0crgdbh   \n",
       "3                 9363483        /m/0285_cd   \n",
       "4                  261236         /m/01mrr1   \n",
       "...                   ...               ...   \n",
       "31554            11178030        /m/02r2pm6   \n",
       "31555            29896629        /m/0fqp5zx   \n",
       "31556            17672486        /m/047s548   \n",
       "31557            14132268        /m/03cvl41   \n",
       "31558             5090583         /m/0d27mw   \n",
       "\n",
       "                                              Movie name  \\\n",
       "0                                         Ghosts of Mars   \n",
       "1      Getting Away with Murder: The JonBenét Ramsey ...   \n",
       "2                                            Brun bitter   \n",
       "3                                       White Of The Eye   \n",
       "4                                      A Woman in Flames   \n",
       "...                                                  ...   \n",
       "31554                                       A.I. Assault   \n",
       "31555                      Santa and the Ice Cream Bunny   \n",
       "31556                           The Bottom of the Bottle   \n",
       "31557                           Beethoven Lives Upstairs   \n",
       "31558                                             C.I.D.   \n",
       "\n",
       "                                            Movie genres  Movie ID  \\\n",
       "0      {\"/m/01jfsb\": \"Thriller\", \"/m/06n90\": \"Science...  31186339   \n",
       "1      {\"/m/02n4kr\": \"Mystery\", \"/m/03bxz7\": \"Biograp...  20663735   \n",
       "2      {\"/m/0lsxr\": \"Crime Fiction\", \"/m/07s9rl0\": \"D...   2231378   \n",
       "3      {\"/m/01jfsb\": \"Thriller\", \"/m/0glj9q\": \"Erotic...    595909   \n",
       "4                                {\"/m/07s9rl0\": \"Drama\"}   5272176   \n",
       "...                                                  ...       ...   \n",
       "31554  {\"/m/01jfsb\": \"Thriller\", \"/m/06n90\": \"Science...   2867597   \n",
       "31555                        {\"/m/0bj8m2\": \"Children's\"}   1096473   \n",
       "31556  {\"/m/02l7c8\": \"Romance Film\", \"/m/07s9rl0\": \"D...  35102018   \n",
       "31557  {\"/m/0hj3myq\": \"Children's/Family\", \"/m/04xvh5...   8628195   \n",
       "31558  {\"/m/04t36\": \"Musical\", \"/m/07s9rl0\": \"Drama\",...   6040782   \n",
       "\n",
       "                                                 Summary  \n",
       "0      The nation of Panem consists of a wealthy Capi...  \n",
       "1      Poovalli Induchoodan  is sentenced for six yea...  \n",
       "2      The Lemon Drop Kid , a New York City swindler,...  \n",
       "3      Seventh-day Adventist Church pastor Michael Ch...  \n",
       "4      The president is on his way to give a speech. ...  \n",
       "...                                                  ...  \n",
       "31554  An attempt to bring the famed \"Mr. Bill\" clay ...  \n",
       "31555  In 1928 Hollywood, director Leo Andreyev  look...  \n",
       "31556  American Luthier focuses on Randy Parsons’ tra...  \n",
       "31557  Abdur Rehman Khan , a middle-aged dry fruit se...  \n",
       "31558  1940 - Operation Dynamo has just taken place. ...  \n",
       "\n",
       "[31559 rows x 6 columns]"
      ]
     },
     "execution_count": 327,
     "metadata": {},
     "output_type": "execute_result"
    }
   ],
   "source": [
    "df = pd.concat([metadata_df, summary_df], axis=1, join=\"inner\")\n",
    "df"
   ]
  },
  {
   "cell_type": "code",
   "execution_count": 328,
   "id": "ea53d92f-7294-45d1-812d-782376c925c1",
   "metadata": {},
   "outputs": [],
   "source": [
    "def get_genres(x):\n",
    "    genre_dict = json.loads(x)\n",
    "    return list(genre_dict.values())\n",
    "\n",
    "df[\"Movie genres\"] = df[\"Movie genres\"].map(lambda x: get_genres(x))"
   ]
  },
  {
   "cell_type": "code",
   "execution_count": 329,
   "id": "e3a6556e-d922-4b9a-b63d-a33bd86fba3f",
   "metadata": {
    "collapsed": true,
    "jupyter": {
     "outputs_hidden": true
    },
    "tags": []
   },
   "outputs": [
    {
     "data": {
      "text/plain": [
       "{'Absurdism',\n",
       " 'Acid western',\n",
       " 'Action',\n",
       " 'Action Comedy',\n",
       " 'Action Thrillers',\n",
       " 'Action/Adventure',\n",
       " 'Addiction Drama',\n",
       " 'Adult',\n",
       " 'Adventure',\n",
       " 'Adventure Comedy',\n",
       " 'Airplanes and airports',\n",
       " 'Albino bias',\n",
       " 'Alien Film',\n",
       " 'Alien invasion',\n",
       " 'Americana',\n",
       " 'Animal Picture',\n",
       " 'Animals',\n",
       " 'Animated Musical',\n",
       " 'Animated cartoon',\n",
       " 'Animation',\n",
       " 'Anime',\n",
       " 'Anthology',\n",
       " 'Anthropology',\n",
       " 'Anti-war',\n",
       " 'Anti-war film',\n",
       " 'Apocalyptic and post-apocalyptic fiction',\n",
       " 'Archaeology',\n",
       " 'Archives and records',\n",
       " 'Art film',\n",
       " 'Auto racing',\n",
       " 'Avant-garde',\n",
       " 'B-Western',\n",
       " 'B-movie',\n",
       " 'Backstage Musical',\n",
       " 'Baseball',\n",
       " 'Beach Film',\n",
       " 'Beach Party film',\n",
       " 'Bengali Cinema',\n",
       " 'Biker Film',\n",
       " 'Biographical film',\n",
       " 'Biography',\n",
       " 'Biopic [feature]',\n",
       " 'Black comedy',\n",
       " 'Black-and-white',\n",
       " 'Blaxploitation',\n",
       " 'Bloopers & Candid Camera',\n",
       " 'Bollywood',\n",
       " 'Boxing',\n",
       " 'Breakdance',\n",
       " 'British Empire Film',\n",
       " 'British New Wave',\n",
       " 'Bruceploitation',\n",
       " 'Buddy cop',\n",
       " 'Buddy film',\n",
       " 'Business',\n",
       " 'C-Movie',\n",
       " 'Camp',\n",
       " 'Caper story',\n",
       " 'Cavalry Film',\n",
       " 'Chase Movie',\n",
       " 'Childhood Drama',\n",
       " \"Children's\",\n",
       " \"Children's Entertainment\",\n",
       " \"Children's Fantasy\",\n",
       " \"Children's Issues\",\n",
       " \"Children's/Family\",\n",
       " 'Chinese Movies',\n",
       " 'Christian film',\n",
       " 'Christmas movie',\n",
       " 'Clay animation',\n",
       " 'Cold War',\n",
       " 'Combat Films',\n",
       " 'Comdedy',\n",
       " 'Comedy',\n",
       " 'Comedy Thriller',\n",
       " 'Comedy Western',\n",
       " 'Comedy film',\n",
       " 'Comedy horror',\n",
       " 'Comedy of Errors',\n",
       " 'Comedy of manners',\n",
       " 'Comedy-drama',\n",
       " 'Coming of age',\n",
       " 'Coming-of-age film',\n",
       " 'Computer Animation',\n",
       " 'Computers',\n",
       " 'Concert film',\n",
       " 'Conspiracy fiction',\n",
       " 'Costume Adventure',\n",
       " 'Costume Horror',\n",
       " 'Costume drama',\n",
       " 'Courtroom Comedy',\n",
       " 'Courtroom Drama',\n",
       " 'Creature Film',\n",
       " 'Crime',\n",
       " 'Crime Comedy',\n",
       " 'Crime Drama',\n",
       " 'Crime Fiction',\n",
       " 'Crime Thriller',\n",
       " 'Cult',\n",
       " 'Culture & Society',\n",
       " 'Cyberpunk',\n",
       " 'Czechoslovak New Wave',\n",
       " 'Dance',\n",
       " 'Demonic child',\n",
       " 'Detective',\n",
       " 'Detective fiction',\n",
       " 'Disaster',\n",
       " 'Docudrama',\n",
       " 'Documentary',\n",
       " 'Dogme 95',\n",
       " 'Domestic Comedy',\n",
       " 'Doomsday film',\n",
       " 'Drama',\n",
       " 'Dystopia',\n",
       " 'Ealing Comedies',\n",
       " 'Early Black Cinema',\n",
       " 'Education',\n",
       " 'Educational',\n",
       " 'Ensemble Film',\n",
       " 'Environmental Science',\n",
       " 'Epic',\n",
       " 'Epic Western',\n",
       " 'Erotic Drama',\n",
       " 'Erotic thriller',\n",
       " 'Erotica',\n",
       " 'Escape Film',\n",
       " 'Essay Film',\n",
       " 'Existentialism',\n",
       " 'Experimental film',\n",
       " 'Exploitation',\n",
       " 'Expressionism',\n",
       " 'Extreme Sports',\n",
       " 'Fairy tale',\n",
       " 'Family & Personal Relationships',\n",
       " 'Family Drama',\n",
       " 'Family Film',\n",
       " 'Family-Oriented Adventure',\n",
       " 'Fan film',\n",
       " 'Fantasy',\n",
       " 'Fantasy Adventure',\n",
       " 'Fantasy Comedy',\n",
       " 'Fantasy Drama',\n",
       " 'Feature film',\n",
       " 'Female buddy film',\n",
       " 'Feminist Film',\n",
       " 'Fictional film',\n",
       " 'Filipino',\n",
       " 'Filipino Movies',\n",
       " 'Film',\n",
       " 'Film & Television History',\n",
       " 'Film adaptation',\n",
       " 'Film noir',\n",
       " 'Film à clef',\n",
       " 'Film-Opera',\n",
       " 'Filmed Play',\n",
       " 'Finance & Investing',\n",
       " 'Foreign legion',\n",
       " 'Future noir',\n",
       " 'Gangster Film',\n",
       " 'Gay',\n",
       " 'Gay Interest',\n",
       " 'Gay Themed',\n",
       " 'Gay pornography',\n",
       " 'Gender Issues',\n",
       " 'Giallo',\n",
       " 'Glamorized Spy Film',\n",
       " 'Goat gland',\n",
       " 'Gothic Film',\n",
       " 'Graphic & Applied Arts',\n",
       " 'Gross out',\n",
       " 'Gross-out film',\n",
       " 'Gulf War',\n",
       " 'Hagiography',\n",
       " 'Hardcore pornography',\n",
       " 'Haunted House Film',\n",
       " 'Health & Fitness',\n",
       " 'Heaven-Can-Wait Fantasies',\n",
       " 'Heavenly Comedy',\n",
       " 'Heist',\n",
       " 'Hip hop movies',\n",
       " 'Historical Documentaries',\n",
       " 'Historical Epic',\n",
       " 'Historical drama',\n",
       " 'Historical fiction',\n",
       " 'History',\n",
       " 'Holiday Film',\n",
       " 'Horror',\n",
       " 'Horror Comedy',\n",
       " 'Horse racing',\n",
       " 'Humour',\n",
       " 'Hybrid Western',\n",
       " 'Illnesses & Disabilities',\n",
       " 'Indian Western',\n",
       " 'Indie',\n",
       " 'Inspirational Drama',\n",
       " 'Instrumental Music',\n",
       " 'Interpersonal Relationships',\n",
       " 'Inventions & Innovations',\n",
       " 'Japanese Movies',\n",
       " 'Journalism',\n",
       " 'Jukebox musical',\n",
       " 'Jungle Film',\n",
       " 'Juvenile Delinquency Film',\n",
       " 'Kafkaesque',\n",
       " 'Kitchen sink realism',\n",
       " 'LGBT',\n",
       " 'Language & Literature',\n",
       " 'Latino',\n",
       " 'Law & Crime',\n",
       " 'Legal drama',\n",
       " 'Libraries and librarians',\n",
       " 'Linguistics',\n",
       " 'Live action',\n",
       " 'Malayalam Cinema',\n",
       " 'Marriage Drama',\n",
       " 'Martial Arts Film',\n",
       " 'Master Criminal Films',\n",
       " 'Media Satire',\n",
       " 'Media Studies',\n",
       " 'Medical fiction',\n",
       " 'Melodrama',\n",
       " 'Mockumentary',\n",
       " 'Mondo film',\n",
       " 'Monster',\n",
       " 'Monster movie',\n",
       " 'Movie serial',\n",
       " 'Movies About Gladiators',\n",
       " 'Mumblecore',\n",
       " 'Music',\n",
       " 'Musical',\n",
       " 'Musical Drama',\n",
       " 'Musical comedy',\n",
       " 'Mystery',\n",
       " 'Mythological Fantasy',\n",
       " 'Natural disaster',\n",
       " 'Natural horror films',\n",
       " 'Nature',\n",
       " 'Neo-noir',\n",
       " 'New Hollywood',\n",
       " 'News',\n",
       " 'Northern',\n",
       " 'Nuclear warfare',\n",
       " 'Operetta',\n",
       " 'Outlaw',\n",
       " 'Outlaw biker film',\n",
       " 'Parkour in popular culture',\n",
       " 'Parody',\n",
       " 'Period Horror',\n",
       " 'Period piece',\n",
       " 'Pinku eiga',\n",
       " 'Plague',\n",
       " 'Political Documetary',\n",
       " 'Political cinema',\n",
       " 'Political drama',\n",
       " 'Political satire',\n",
       " 'Political thriller',\n",
       " 'Pornographic movie',\n",
       " 'Pornography',\n",
       " 'Pre-Code',\n",
       " 'Prison',\n",
       " 'Prison escape',\n",
       " 'Prison film',\n",
       " 'Private military company',\n",
       " 'Propaganda film',\n",
       " 'Psycho-biddy',\n",
       " 'Psychological horror',\n",
       " 'Psychological thriller',\n",
       " 'Punk rock',\n",
       " 'Race movie',\n",
       " 'Reboot',\n",
       " 'Religious Film',\n",
       " 'Remake',\n",
       " 'Revenge',\n",
       " 'Revisionist Western',\n",
       " 'Road movie',\n",
       " 'Road-Horror',\n",
       " 'Roadshow theatrical release',\n",
       " 'Roadshow/Carny',\n",
       " 'Rockumentary',\n",
       " 'Romance Film',\n",
       " 'Romantic comedy',\n",
       " 'Romantic drama',\n",
       " 'Romantic fantasy',\n",
       " 'Samurai cinema',\n",
       " 'Satire',\n",
       " 'School story',\n",
       " 'Sci Fi Pictures original films',\n",
       " 'Sci-Fi Adventure',\n",
       " 'Sci-Fi Horror',\n",
       " 'Sci-Fi Thriller',\n",
       " 'Science Fiction',\n",
       " 'Science fiction Western',\n",
       " 'Screwball comedy',\n",
       " 'Sex comedy',\n",
       " 'Sexploitation',\n",
       " 'Short Film',\n",
       " 'Silent film',\n",
       " 'Silhouette animation',\n",
       " 'Slapstick',\n",
       " 'Slasher',\n",
       " 'Slice of life story',\n",
       " 'Social issues',\n",
       " 'Social problem film',\n",
       " 'Softcore Porn',\n",
       " 'Space opera',\n",
       " 'Space western',\n",
       " 'Spaghetti Western',\n",
       " 'Splatter film',\n",
       " 'Sponsored film',\n",
       " 'Sports',\n",
       " 'Spy',\n",
       " 'Stand-up comedy',\n",
       " 'Star vehicle',\n",
       " 'Steampunk',\n",
       " 'Stoner film',\n",
       " 'Stop motion',\n",
       " 'Superhero',\n",
       " 'Superhero movie',\n",
       " 'Supermarionation',\n",
       " 'Supernatural',\n",
       " 'Surrealism',\n",
       " 'Suspense',\n",
       " 'Swashbuckler films',\n",
       " 'Sword and Sandal',\n",
       " 'Sword and sorcery',\n",
       " 'Sword and sorcery films',\n",
       " 'Tamil cinema',\n",
       " 'Teen',\n",
       " 'Television movie',\n",
       " 'Therimin music',\n",
       " 'Thriller',\n",
       " 'Time travel',\n",
       " 'Tokusatsu',\n",
       " 'Tollywood',\n",
       " 'Tragedy',\n",
       " 'Tragicomedy',\n",
       " 'Travel',\n",
       " 'Vampire movies',\n",
       " 'War effort',\n",
       " 'War film',\n",
       " 'Werewolf fiction',\n",
       " 'Western',\n",
       " 'Whodunit',\n",
       " 'Women in prison films',\n",
       " 'Workplace Comedy',\n",
       " 'World History',\n",
       " 'World cinema',\n",
       " 'Wuxia',\n",
       " 'Z movie',\n",
       " 'Zombie Film'}"
      ]
     },
     "execution_count": 329,
     "metadata": {},
     "output_type": "execute_result"
    }
   ],
   "source": [
    "flatlist = reduce(lambda a,b:a+b, df[\"Movie genres\"].values.tolist())\n",
    "genre_set = set(flatlist)\n",
    "genre_set"
   ]
  },
  {
   "cell_type": "code",
   "execution_count": null,
   "id": "fdf0f32b-9b8f-4838-9b88-d96cd3123de3",
   "metadata": {},
   "outputs": [],
   "source": []
  },
  {
   "cell_type": "code",
   "execution_count": 330,
   "id": "cacf01a1-12ed-4b76-9d86-e84db590f03c",
   "metadata": {
    "collapsed": true,
    "jupyter": {
     "outputs_hidden": true
    },
    "tags": []
   },
   "outputs": [
    {
     "data": {
      "text/plain": [
       "[('Drama', 13232),\n",
       " ('Comedy', 6311),\n",
       " ('Romance Film', 3988),\n",
       " ('Black-and-white', 3432),\n",
       " ('Thriller', 3384),\n",
       " ('Action', 3376),\n",
       " ('Short Film', 3096),\n",
       " ('Crime Fiction', 2737),\n",
       " ('World cinema', 2708),\n",
       " ('Indie', 2582),\n",
       " ('Documentary', 2130),\n",
       " ('Horror', 2060),\n",
       " ('Silent film', 1930),\n",
       " ('Adventure', 1906),\n",
       " ('Action/Adventure', 1803),\n",
       " ('Family Film', 1728),\n",
       " ('Comedy film', 1703),\n",
       " ('Musical', 1644),\n",
       " ('Romantic drama', 1317),\n",
       " ('Animation', 1312),\n",
       " ('Mystery', 1246),\n",
       " ('Science Fiction', 1212),\n",
       " ('Fantasy', 1040),\n",
       " ('Romantic comedy', 1030),\n",
       " ('War film', 1020),\n",
       " ('Western', 918),\n",
       " ('Japanese Movies', 864),\n",
       " ('Crime Thriller', 804),\n",
       " ('Period piece', 711),\n",
       " ('Comedy-drama', 684),\n",
       " ('Chinese Movies', 591),\n",
       " ('Film adaptation', 583),\n",
       " ('Biography', 559),\n",
       " ('Psychological thriller', 523),\n",
       " ('Bollywood', 515),\n",
       " ('Sports', 490),\n",
       " ('Biographical film', 467),\n",
       " ('LGBT', 450),\n",
       " ('Black comedy', 405),\n",
       " ('Family Drama', 405),\n",
       " ('Music', 403),\n",
       " ('Television movie', 400),\n",
       " ('Parody', 395),\n",
       " ('Coming of age', 356),\n",
       " ('Teen', 355),\n",
       " (\"Children's/Family\", 347),\n",
       " ('History', 346),\n",
       " ('Martial Arts Film', 344),\n",
       " ('Slasher', 309),\n",
       " ('Culture & Society', 295),\n",
       " ('Melodrama', 291),\n",
       " ('Cult', 289),\n",
       " ('Political drama', 287),\n",
       " ('Suspense', 279),\n",
       " ('Satire', 269),\n",
       " ('Biopic [feature]', 259),\n",
       " ('Film noir', 257),\n",
       " ('Historical fiction', 249),\n",
       " ('Supernatural', 244),\n",
       " ('Slapstick', 235),\n",
       " ('Crime Drama', 210),\n",
       " ('Action Thrillers', 208),\n",
       " ('Spy', 198),\n",
       " ('Costume drama', 197),\n",
       " (\"Children's\", 197),\n",
       " ('B-movie', 193),\n",
       " ('Ensemble Film', 190),\n",
       " ('Art film', 186),\n",
       " ('Political cinema', 166),\n",
       " ('Creature Film', 161),\n",
       " ('Gangster Film', 160),\n",
       " ('Anime', 158),\n",
       " ('Docudrama', 154),\n",
       " ('Historical drama', 151),\n",
       " ('Detective', 150),\n",
       " ('Filipino Movies', 146),\n",
       " ('Buddy film', 137),\n",
       " ('Gay Themed', 137),\n",
       " ('Social issues', 133),\n",
       " ('Road movie', 132),\n",
       " ('Detective fiction', 131),\n",
       " ('Disaster', 129),\n",
       " ('Screwball comedy', 122),\n",
       " ('Epic', 115),\n",
       " ('Pornographic movie', 115),\n",
       " ('Concert film', 114),\n",
       " ('Gay Interest', 114),\n",
       " ('Erotica', 113),\n",
       " ('Crime Comedy', 113),\n",
       " ('Gay', 113),\n",
       " ('Zombie Film', 112),\n",
       " ('Sex comedy', 110),\n",
       " ('Superhero movie', 109),\n",
       " ('Musical comedy', 103),\n",
       " (\"Children's Fantasy\", 100),\n",
       " ('Political thriller', 100),\n",
       " ('Comedy of manners', 99),\n",
       " ('Experimental film', 94),\n",
       " ('Horror Comedy', 94),\n",
       " ('Domestic Comedy', 90),\n",
       " ('Courtroom Drama', 88),\n",
       " ('Family-Oriented Adventure', 88),\n",
       " ('Fantasy Comedy', 87),\n",
       " ('Adult', 85),\n",
       " ('Marriage Drama', 83),\n",
       " ('Computer Animation', 83),\n",
       " ('Comedy of Errors', 81),\n",
       " ('Propaganda film', 79),\n",
       " ('Erotic thriller', 76),\n",
       " ('Fantasy Adventure', 75),\n",
       " ('Rockumentary', 75),\n",
       " ('Heist', 75),\n",
       " ('Musical Drama', 74),\n",
       " ('Pre-Code', 74),\n",
       " ('Avant-garde', 72),\n",
       " ('Monster movie', 71),\n",
       " ('Natural horror films', 71),\n",
       " ('Mockumentary', 70),\n",
       " ('Surrealism', 69),\n",
       " ('Christian film', 69),\n",
       " ('Sci-Fi Horror', 68),\n",
       " ('Childhood Drama', 65),\n",
       " ('Animal Picture', 62),\n",
       " ('Spaghetti Western', 61),\n",
       " ('Action Comedy', 60),\n",
       " ('Erotic Drama', 60),\n",
       " ('Stop motion', 56),\n",
       " ('Blaxploitation', 54),\n",
       " ('Dance', 50),\n",
       " ('Swashbuckler films', 50),\n",
       " ('Animated cartoon', 50),\n",
       " ('Superhero', 49),\n",
       " ('Alien Film', 49),\n",
       " ('Prison', 48),\n",
       " ('Doomsday film', 48),\n",
       " ('Film', 48),\n",
       " ('Social problem film', 48),\n",
       " ('Chase Movie', 48),\n",
       " ('Wuxia', 47),\n",
       " ('Adventure Comedy', 47),\n",
       " ('Monster', 46),\n",
       " ('Tragedy', 45),\n",
       " ('Slice of life story', 45),\n",
       " ('Costume Adventure', 44),\n",
       " ('Historical Epic', 43),\n",
       " ('Sexploitation', 43),\n",
       " ('Americana', 43),\n",
       " ('Feminist Film', 43),\n",
       " ('Caper story', 43),\n",
       " ('Dystopia', 42),\n",
       " ('Christmas movie', 41),\n",
       " ('Holiday Film', 41),\n",
       " ('New Hollywood', 40),\n",
       " ('Remake', 40),\n",
       " ('Media Satire', 39),\n",
       " ('Film & Television History', 38),\n",
       " ('Workplace Comedy', 38),\n",
       " ('Political satire', 37),\n",
       " ('Stand-up comedy', 37),\n",
       " ('Absurdism', 35),\n",
       " ('Comedy Thriller', 35),\n",
       " ('Comedy Western', 34),\n",
       " ('Haunted House Film', 33),\n",
       " ('Combat Films', 32),\n",
       " ('Time travel', 32),\n",
       " ('Medical fiction', 32),\n",
       " ('Addiction Drama', 32),\n",
       " ('Whodunit', 32),\n",
       " ('Gender Issues', 31),\n",
       " ('Jungle Film', 29),\n",
       " ('Hip hop movies', 29),\n",
       " ('Boxing', 29),\n",
       " ('Tragicomedy', 28),\n",
       " ('Auto racing', 27),\n",
       " ('Romantic fantasy', 27),\n",
       " ('Religious Film', 27),\n",
       " ('B-Western', 27),\n",
       " ('Gross-out film', 26),\n",
       " ('Gross out', 26),\n",
       " ('Punk rock', 26),\n",
       " ('Tamil cinema', 26),\n",
       " ('Law & Crime', 24),\n",
       " ('Airplanes and airports', 24),\n",
       " ('Animated Musical', 23),\n",
       " ('Revisionist Western', 23),\n",
       " ('Escape Film', 22),\n",
       " ('Stoner film', 22),\n",
       " ('Interpersonal Relationships', 22),\n",
       " ('Gothic Film', 21),\n",
       " ('Juvenile Delinquency Film', 21),\n",
       " ('Softcore Porn', 20),\n",
       " ('Glamorized Spy Film', 20),\n",
       " ('Tollywood', 19),\n",
       " ('Travel', 19),\n",
       " ('Fairy tale', 19),\n",
       " ('Nature', 19),\n",
       " ('Fan film', 18),\n",
       " ('Sword and sorcery', 18),\n",
       " ('Hybrid Western', 18),\n",
       " ('Gay pornography', 18),\n",
       " ('Animals', 18),\n",
       " ('Illnesses & Disabilities', 18),\n",
       " ('Neo-noir', 18),\n",
       " ('Film à clef', 17),\n",
       " ('Roadshow theatrical release', 17),\n",
       " ('Apocalyptic and post-apocalyptic fiction', 16),\n",
       " ('Costume Horror', 15),\n",
       " ('Heavenly Comedy', 15),\n",
       " ('Giallo', 15),\n",
       " ('Anti-war', 15),\n",
       " ('Inspirational Drama', 15),\n",
       " ('Media Studies', 15),\n",
       " ('Existentialism', 14),\n",
       " ('Sword and sorcery films', 14),\n",
       " ('Crime', 14),\n",
       " ('Comedy horror', 13),\n",
       " ('Language & Literature', 13),\n",
       " ('Samurai cinema', 13),\n",
       " ('Anti-war film', 13),\n",
       " ('Sword and Sandal', 13),\n",
       " ('Future noir', 12),\n",
       " ('Sci-Fi Adventure', 12),\n",
       " ('Extreme Sports', 12),\n",
       " ('Master Criminal Films', 12),\n",
       " ('Indian Western', 12),\n",
       " ('Epic Western', 11),\n",
       " ('Educational', 11),\n",
       " ('Environmental Science', 11),\n",
       " ('Graphic & Applied Arts', 11),\n",
       " ('Mythological Fantasy', 11),\n",
       " ('Hagiography', 10),\n",
       " ('Essay Film', 10),\n",
       " ('Dogme 95', 9),\n",
       " ('Backstage Musical', 9),\n",
       " ('Women in prison films', 9),\n",
       " ('Anthropology', 9),\n",
       " ('Kitchen sink realism', 9),\n",
       " ('British Empire Film', 9),\n",
       " ('Splatter film', 9),\n",
       " ('Heaven-Can-Wait Fantasies', 9),\n",
       " ('Feature film', 9),\n",
       " ('Instrumental Music', 9),\n",
       " ('Albino bias', 9),\n",
       " ('Steampunk', 9),\n",
       " ('Cavalry Film', 8),\n",
       " ('Pinku eiga', 8),\n",
       " ('Exploitation', 8),\n",
       " ('Road-Horror', 8),\n",
       " ('Beach Film', 8),\n",
       " ('Fantasy Drama', 8),\n",
       " ('Space western', 7),\n",
       " ('Malayalam Cinema', 7),\n",
       " ('British New Wave', 7),\n",
       " ('Hardcore pornography', 7),\n",
       " ('Mumblecore', 7),\n",
       " ('Business', 7),\n",
       " ('Prison film', 7),\n",
       " ('Computers', 7),\n",
       " ('News', 7),\n",
       " ('Family & Personal Relationships', 7),\n",
       " ('Filipino', 6),\n",
       " ('Movie serial', 6),\n",
       " ('Biker Film', 6),\n",
       " ('Psycho-biddy', 6),\n",
       " ('Health & Fitness', 6),\n",
       " ('Reboot', 6),\n",
       " ('Pornography', 5),\n",
       " ('Bengali Cinema', 5),\n",
       " (\"Children's Entertainment\", 5),\n",
       " ('Mondo film', 5),\n",
       " ('Jukebox musical', 5),\n",
       " ('World History', 5),\n",
       " ('Ealing Comedies', 5),\n",
       " ('Space opera', 4),\n",
       " ('Journalism', 4),\n",
       " ('Sponsored film', 4),\n",
       " ('Foreign legion', 4),\n",
       " ('Baseball', 4),\n",
       " ('Outlaw biker film', 4),\n",
       " ('Legal drama', 3),\n",
       " ('Anthology', 3),\n",
       " ('Gulf War', 3),\n",
       " ('Archaeology', 3),\n",
       " ('Libraries and librarians', 3),\n",
       " ('Early Black Cinema', 3),\n",
       " ('Northern', 3),\n",
       " ('Historical Documentaries', 3),\n",
       " ('Werewolf fiction', 3),\n",
       " ('Horse racing', 3),\n",
       " ('Inventions & Innovations', 3),\n",
       " ('Archives and records', 3),\n",
       " ('Z movie', 3),\n",
       " ('Live action', 3),\n",
       " ('Education', 3),\n",
       " (\"Children's Issues\", 3),\n",
       " ('Science fiction Western', 3),\n",
       " ('Bloopers & Candid Camera', 3),\n",
       " ('Courtroom Comedy', 3),\n",
       " ('Operetta', 3),\n",
       " ('Coming-of-age film', 3),\n",
       " ('Cold War', 3),\n",
       " ('Plague', 2),\n",
       " ('Buddy cop', 2),\n",
       " ('Natural disaster', 2),\n",
       " ('Tokusatsu', 2),\n",
       " ('Demonic child', 2),\n",
       " ('Filmed Play', 2),\n",
       " ('Humour', 2),\n",
       " ('Roadshow/Carny', 2),\n",
       " ('Star vehicle', 2),\n",
       " ('Camp', 2),\n",
       " ('Latino', 2),\n",
       " ('Finance & Investing', 2),\n",
       " ('Movies About Gladiators', 2),\n",
       " ('Nuclear warfare', 2),\n",
       " ('Fictional film', 2),\n",
       " ('Cyberpunk', 2),\n",
       " ('School story', 2),\n",
       " ('Clay animation', 2),\n",
       " ('Supermarionation', 2),\n",
       " ('Sci Fi Pictures original films', 2),\n",
       " ('Outlaw', 2),\n",
       " ('Kafkaesque', 2),\n",
       " ('Therimin music', 2),\n",
       " ('C-Movie', 1),\n",
       " ('Linguistics', 1),\n",
       " ('Czechoslovak New Wave', 1),\n",
       " ('Expressionism', 1),\n",
       " ('Alien invasion', 1),\n",
       " ('Revenge', 1),\n",
       " ('Conspiracy fiction', 1),\n",
       " ('Private military company', 1),\n",
       " ('Prison escape', 1),\n",
       " ('Film-Opera', 1),\n",
       " ('Period Horror', 1),\n",
       " ('Comdedy', 1),\n",
       " ('Psychological horror', 1),\n",
       " ('Sci-Fi Thriller', 1),\n",
       " ('Parkour in popular culture', 1),\n",
       " ('Political Documetary', 1),\n",
       " ('Bruceploitation', 1),\n",
       " ('Silhouette animation', 1),\n",
       " ('Female buddy film', 1),\n",
       " ('Race movie', 1),\n",
       " ('Breakdance', 1),\n",
       " ('Acid western', 1),\n",
       " ('War effort', 1),\n",
       " ('Vampire movies', 1),\n",
       " ('Goat gland', 1),\n",
       " ('Beach Party film', 1)]"
      ]
     },
     "execution_count": 330,
     "metadata": {},
     "output_type": "execute_result"
    }
   ],
   "source": [
    "Counter(flatlist).most_common()"
   ]
  },
  {
   "cell_type": "code",
   "execution_count": 331,
   "id": "f401594e-fea2-4366-953f-949a2356e203",
   "metadata": {},
   "outputs": [
    {
     "data": {
      "text/plain": [
       "350"
      ]
     },
     "execution_count": 331,
     "metadata": {},
     "output_type": "execute_result"
    }
   ],
   "source": [
    "len(genre_set)"
   ]
  },
  {
   "cell_type": "code",
   "execution_count": 332,
   "id": "0a063927-fd59-4e18-a63d-9679993ad296",
   "metadata": {},
   "outputs": [
    {
     "data": {
      "text/html": [
       "<div>\n",
       "<style scoped>\n",
       "    .dataframe tbody tr th:only-of-type {\n",
       "        vertical-align: middle;\n",
       "    }\n",
       "\n",
       "    .dataframe tbody tr th {\n",
       "        vertical-align: top;\n",
       "    }\n",
       "\n",
       "    .dataframe thead th {\n",
       "        text-align: right;\n",
       "    }\n",
       "</style>\n",
       "<table border=\"1\" class=\"dataframe\">\n",
       "  <thead>\n",
       "    <tr style=\"text-align: right;\">\n",
       "      <th></th>\n",
       "      <th>Wikipedia movie ID</th>\n",
       "      <th>Movie genres</th>\n",
       "    </tr>\n",
       "  </thead>\n",
       "  <tbody>\n",
       "    <tr>\n",
       "      <th>0</th>\n",
       "      <td>975900</td>\n",
       "      <td>[Thriller, Science Fiction, Horror, Adventure,...</td>\n",
       "    </tr>\n",
       "    <tr>\n",
       "      <th>1</th>\n",
       "      <td>3196793</td>\n",
       "      <td>[Mystery, Biographical film, Drama, Crime Drama]</td>\n",
       "    </tr>\n",
       "    <tr>\n",
       "      <th>2</th>\n",
       "      <td>28463795</td>\n",
       "      <td>[Crime Fiction, Drama]</td>\n",
       "    </tr>\n",
       "    <tr>\n",
       "      <th>3</th>\n",
       "      <td>9363483</td>\n",
       "      <td>[Thriller, Erotic thriller, Psychological thri...</td>\n",
       "    </tr>\n",
       "    <tr>\n",
       "      <th>4</th>\n",
       "      <td>261236</td>\n",
       "      <td>[Drama]</td>\n",
       "    </tr>\n",
       "    <tr>\n",
       "      <th>...</th>\n",
       "      <td>...</td>\n",
       "      <td>...</td>\n",
       "    </tr>\n",
       "    <tr>\n",
       "      <th>31554</th>\n",
       "      <td>11178030</td>\n",
       "      <td>[Thriller, Science Fiction, Action]</td>\n",
       "    </tr>\n",
       "    <tr>\n",
       "      <th>31555</th>\n",
       "      <td>29896629</td>\n",
       "      <td>[Children's]</td>\n",
       "    </tr>\n",
       "    <tr>\n",
       "      <th>31556</th>\n",
       "      <td>17672486</td>\n",
       "      <td>[Romance Film, Drama]</td>\n",
       "    </tr>\n",
       "    <tr>\n",
       "      <th>31557</th>\n",
       "      <td>14132268</td>\n",
       "      <td>[Children's/Family, Costume drama, Family Dram...</td>\n",
       "    </tr>\n",
       "    <tr>\n",
       "      <th>31558</th>\n",
       "      <td>5090583</td>\n",
       "      <td>[Musical, Drama, Bollywood, World cinema]</td>\n",
       "    </tr>\n",
       "  </tbody>\n",
       "</table>\n",
       "<p>31559 rows × 2 columns</p>\n",
       "</div>"
      ],
      "text/plain": [
       "       Wikipedia movie ID                                       Movie genres\n",
       "0                  975900  [Thriller, Science Fiction, Horror, Adventure,...\n",
       "1                 3196793   [Mystery, Biographical film, Drama, Crime Drama]\n",
       "2                28463795                             [Crime Fiction, Drama]\n",
       "3                 9363483  [Thriller, Erotic thriller, Psychological thri...\n",
       "4                  261236                                            [Drama]\n",
       "...                   ...                                                ...\n",
       "31554            11178030                [Thriller, Science Fiction, Action]\n",
       "31555            29896629                                       [Children's]\n",
       "31556            17672486                              [Romance Film, Drama]\n",
       "31557            14132268  [Children's/Family, Costume drama, Family Dram...\n",
       "31558             5090583          [Musical, Drama, Bollywood, World cinema]\n",
       "\n",
       "[31559 rows x 2 columns]"
      ]
     },
     "execution_count": 332,
     "metadata": {},
     "output_type": "execute_result"
    }
   ],
   "source": [
    "raw_movie_genres = df[[\"Wikipedia movie ID\", \"Movie genres\"]]\n",
    "raw_movie_genres"
   ]
  },
  {
   "cell_type": "code",
   "execution_count": 333,
   "id": "0c91f5ca-6d49-48a8-9f99-a22649e4ead4",
   "metadata": {},
   "outputs": [
    {
     "data": {
      "text/html": [
       "<div>\n",
       "<style scoped>\n",
       "    .dataframe tbody tr th:only-of-type {\n",
       "        vertical-align: middle;\n",
       "    }\n",
       "\n",
       "    .dataframe tbody tr th {\n",
       "        vertical-align: top;\n",
       "    }\n",
       "\n",
       "    .dataframe thead th {\n",
       "        text-align: right;\n",
       "    }\n",
       "</style>\n",
       "<table border=\"1\" class=\"dataframe\">\n",
       "  <thead>\n",
       "    <tr style=\"text-align: right;\">\n",
       "      <th></th>\n",
       "      <th>Wikipedia movie ID</th>\n",
       "      <th>Movie genres</th>\n",
       "    </tr>\n",
       "  </thead>\n",
       "  <tbody>\n",
       "    <tr>\n",
       "      <th>0</th>\n",
       "      <td>975900</td>\n",
       "      <td>Thriller</td>\n",
       "    </tr>\n",
       "    <tr>\n",
       "      <th>0</th>\n",
       "      <td>975900</td>\n",
       "      <td>Science Fiction</td>\n",
       "    </tr>\n",
       "    <tr>\n",
       "      <th>0</th>\n",
       "      <td>975900</td>\n",
       "      <td>Horror</td>\n",
       "    </tr>\n",
       "    <tr>\n",
       "      <th>0</th>\n",
       "      <td>975900</td>\n",
       "      <td>Adventure</td>\n",
       "    </tr>\n",
       "    <tr>\n",
       "      <th>0</th>\n",
       "      <td>975900</td>\n",
       "      <td>Supernatural</td>\n",
       "    </tr>\n",
       "    <tr>\n",
       "      <th>...</th>\n",
       "      <td>...</td>\n",
       "      <td>...</td>\n",
       "    </tr>\n",
       "    <tr>\n",
       "      <th>31557</th>\n",
       "      <td>14132268</td>\n",
       "      <td>Family Film</td>\n",
       "    </tr>\n",
       "    <tr>\n",
       "      <th>31558</th>\n",
       "      <td>5090583</td>\n",
       "      <td>Musical</td>\n",
       "    </tr>\n",
       "    <tr>\n",
       "      <th>31558</th>\n",
       "      <td>5090583</td>\n",
       "      <td>Drama</td>\n",
       "    </tr>\n",
       "    <tr>\n",
       "      <th>31558</th>\n",
       "      <td>5090583</td>\n",
       "      <td>Bollywood</td>\n",
       "    </tr>\n",
       "    <tr>\n",
       "      <th>31558</th>\n",
       "      <td>5090583</td>\n",
       "      <td>World cinema</td>\n",
       "    </tr>\n",
       "  </tbody>\n",
       "</table>\n",
       "<p>94000 rows × 2 columns</p>\n",
       "</div>"
      ],
      "text/plain": [
       "       Wikipedia movie ID     Movie genres\n",
       "0                  975900         Thriller\n",
       "0                  975900  Science Fiction\n",
       "0                  975900           Horror\n",
       "0                  975900        Adventure\n",
       "0                  975900     Supernatural\n",
       "...                   ...              ...\n",
       "31557            14132268      Family Film\n",
       "31558             5090583          Musical\n",
       "31558             5090583            Drama\n",
       "31558             5090583        Bollywood\n",
       "31558             5090583     World cinema\n",
       "\n",
       "[94000 rows x 2 columns]"
      ]
     },
     "execution_count": 333,
     "metadata": {},
     "output_type": "execute_result"
    }
   ],
   "source": [
    "expand_raw_movie_genres = raw_movie_genres.explode(\"Movie genres\")\n",
    "expand_raw_movie_genres = expand_raw_movie_genres.dropna()\n",
    "expand_raw_movie_genres"
   ]
  },
  {
   "cell_type": "code",
   "execution_count": 138,
   "id": "2791d805-5279-426c-a530-c2e9213f70a1",
   "metadata": {},
   "outputs": [],
   "source": [
    "def categorize_genres(x):\n",
    "    # category = {\"Comedy\": [\"Comedy\"], \"Romance\": [\"Romance\", \"Romantic\"], \"Action\": [\"Action\"], \n",
    "    #             \"Thriller\": [\"Thriller\"], \"Horror\": [\"Horror\"], \"Crime\": [\"Crime\"], \n",
    "    #             \"Science\";[\"Science\", \"Sci-Fi\"], \"Fantasy\": [\"Fantasy\"]}\n",
    "    genres = set()\n",
    "    if \"Comedy\" in x:\n",
    "        genres.add(\"Comedy\")\n",
    "    if \"Romance\" in x or \"Romantic\" in x:\n",
    "        genres.add(\"Romance\")\n",
    "    if \"Action\" in x:\n",
    "        genres.add(\"Action\")\n",
    "    if \"Thriller\" in x:\n",
    "        genres.add(\"Thriller\")\n",
    "    if \"Horror\" in x:\n",
    "        genres.add(\"Horror\")\n",
    "    if \"Crime\" in x:\n",
    "        genres.add(\"Crime\")\n",
    "    if \"Science\" in x or \"Sci-Fi\" in x:\n",
    "        genres.add(\"Science\")\n",
    "    if \"Fantasy\" in x:\n",
    "        genres.add(\"Fantasy\")\n",
    "\n",
    "    return list(genres)\n",
    "    \n",
    "   \n",
    "    \n",
    "\n",
    "expand_raw_movie_genres[\"Movie Category\"] = expand_raw_movie_genres[\"Movie genres\"].map(lambda x: categorize_genres(x))\n",
    "        "
   ]
  },
  {
   "cell_type": "code",
   "execution_count": null,
   "id": "fc75be11-d25f-44a4-a75d-22888755cee4",
   "metadata": {},
   "outputs": [],
   "source": [
    "expand_raw_movie_genres"
   ]
  },
  {
   "cell_type": "code",
   "execution_count": 139,
   "id": "d0dfe713-b198-456e-ba8c-40c80f0069c7",
   "metadata": {},
   "outputs": [],
   "source": [
    "expand_movie_category = expand_raw_movie_genres.explode(\"Movie Category\").dropna()"
   ]
  },
  {
   "cell_type": "code",
   "execution_count": 140,
   "id": "0f7fb321-517b-4554-8baa-8f8a0f2015f7",
   "metadata": {},
   "outputs": [
    {
     "data": {
      "text/html": [
       "<div>\n",
       "<style scoped>\n",
       "    .dataframe tbody tr th:only-of-type {\n",
       "        vertical-align: middle;\n",
       "    }\n",
       "\n",
       "    .dataframe tbody tr th {\n",
       "        vertical-align: top;\n",
       "    }\n",
       "\n",
       "    .dataframe thead th {\n",
       "        text-align: right;\n",
       "    }\n",
       "</style>\n",
       "<table border=\"1\" class=\"dataframe\">\n",
       "  <thead>\n",
       "    <tr style=\"text-align: right;\">\n",
       "      <th></th>\n",
       "      <th>index</th>\n",
       "      <th>Wikipedia movie ID</th>\n",
       "      <th>Movie genres</th>\n",
       "      <th>Movie Category</th>\n",
       "    </tr>\n",
       "  </thead>\n",
       "  <tbody>\n",
       "    <tr>\n",
       "      <th>0</th>\n",
       "      <td>0</td>\n",
       "      <td>975900</td>\n",
       "      <td>Thriller</td>\n",
       "      <td>Thriller</td>\n",
       "    </tr>\n",
       "    <tr>\n",
       "      <th>1</th>\n",
       "      <td>0</td>\n",
       "      <td>975900</td>\n",
       "      <td>Science Fiction</td>\n",
       "      <td>Science</td>\n",
       "    </tr>\n",
       "    <tr>\n",
       "      <th>2</th>\n",
       "      <td>0</td>\n",
       "      <td>975900</td>\n",
       "      <td>Horror</td>\n",
       "      <td>Horror</td>\n",
       "    </tr>\n",
       "    <tr>\n",
       "      <th>3</th>\n",
       "      <td>0</td>\n",
       "      <td>975900</td>\n",
       "      <td>Action</td>\n",
       "      <td>Action</td>\n",
       "    </tr>\n",
       "    <tr>\n",
       "      <th>4</th>\n",
       "      <td>1</td>\n",
       "      <td>3196793</td>\n",
       "      <td>Crime Drama</td>\n",
       "      <td>Crime</td>\n",
       "    </tr>\n",
       "    <tr>\n",
       "      <th>...</th>\n",
       "      <td>...</td>\n",
       "      <td>...</td>\n",
       "      <td>...</td>\n",
       "      <td>...</td>\n",
       "    </tr>\n",
       "    <tr>\n",
       "      <th>34519</th>\n",
       "      <td>31554</td>\n",
       "      <td>11178030</td>\n",
       "      <td>Thriller</td>\n",
       "      <td>Thriller</td>\n",
       "    </tr>\n",
       "    <tr>\n",
       "      <th>34520</th>\n",
       "      <td>31554</td>\n",
       "      <td>11178030</td>\n",
       "      <td>Science Fiction</td>\n",
       "      <td>Science</td>\n",
       "    </tr>\n",
       "    <tr>\n",
       "      <th>34521</th>\n",
       "      <td>31554</td>\n",
       "      <td>11178030</td>\n",
       "      <td>Action</td>\n",
       "      <td>Action</td>\n",
       "    </tr>\n",
       "    <tr>\n",
       "      <th>34522</th>\n",
       "      <td>31556</td>\n",
       "      <td>17672486</td>\n",
       "      <td>Romance Film</td>\n",
       "      <td>Romance</td>\n",
       "    </tr>\n",
       "    <tr>\n",
       "      <th>34523</th>\n",
       "      <td>31557</td>\n",
       "      <td>14132268</td>\n",
       "      <td>Fantasy</td>\n",
       "      <td>Fantasy</td>\n",
       "    </tr>\n",
       "  </tbody>\n",
       "</table>\n",
       "<p>34524 rows × 4 columns</p>\n",
       "</div>"
      ],
      "text/plain": [
       "       index  Wikipedia movie ID     Movie genres Movie Category\n",
       "0          0              975900         Thriller       Thriller\n",
       "1          0              975900  Science Fiction        Science\n",
       "2          0              975900           Horror         Horror\n",
       "3          0              975900           Action         Action\n",
       "4          1             3196793      Crime Drama          Crime\n",
       "...      ...                 ...              ...            ...\n",
       "34519  31554            11178030         Thriller       Thriller\n",
       "34520  31554            11178030  Science Fiction        Science\n",
       "34521  31554            11178030           Action         Action\n",
       "34522  31556            17672486     Romance Film        Romance\n",
       "34523  31557            14132268          Fantasy        Fantasy\n",
       "\n",
       "[34524 rows x 4 columns]"
      ]
     },
     "execution_count": 140,
     "metadata": {},
     "output_type": "execute_result"
    }
   ],
   "source": [
    "expand_movie_category = expand_movie_category.reset_index()\n",
    "expand_movie_category"
   ]
  },
  {
   "cell_type": "code",
   "execution_count": 141,
   "id": "be9e21be-72b0-4869-92e0-158a9042d9d1",
   "metadata": {},
   "outputs": [
    {
     "data": {
      "text/plain": [
       "index                  int64\n",
       "Wikipedia movie ID     int64\n",
       "Movie genres          object\n",
       "Movie Category        object\n",
       "dtype: object"
      ]
     },
     "execution_count": 141,
     "metadata": {},
     "output_type": "execute_result"
    }
   ],
   "source": [
    "expand_movie_category.dtypes"
   ]
  },
  {
   "cell_type": "code",
   "execution_count": 142,
   "id": "30903577-ebd3-477e-9c56-77b671a5247f",
   "metadata": {},
   "outputs": [],
   "source": [
    "summary_df = summary_df.astype({\"Movie ID\": int})"
   ]
  },
  {
   "cell_type": "code",
   "execution_count": 143,
   "id": "81f3777d-fb7e-4e80-b63a-b9bcf292aa04",
   "metadata": {},
   "outputs": [
    {
     "data": {
      "text/html": [
       "<div>\n",
       "<style scoped>\n",
       "    .dataframe tbody tr th:only-of-type {\n",
       "        vertical-align: middle;\n",
       "    }\n",
       "\n",
       "    .dataframe tbody tr th {\n",
       "        vertical-align: top;\n",
       "    }\n",
       "\n",
       "    .dataframe thead th {\n",
       "        text-align: right;\n",
       "    }\n",
       "</style>\n",
       "<table border=\"1\" class=\"dataframe\">\n",
       "  <thead>\n",
       "    <tr style=\"text-align: right;\">\n",
       "      <th></th>\n",
       "      <th>index</th>\n",
       "      <th>Wikipedia movie ID</th>\n",
       "      <th>Movie genres</th>\n",
       "      <th>Movie Category</th>\n",
       "      <th>Movie ID</th>\n",
       "      <th>Summary</th>\n",
       "    </tr>\n",
       "  </thead>\n",
       "  <tbody>\n",
       "    <tr>\n",
       "      <th>0</th>\n",
       "      <td>0</td>\n",
       "      <td>975900</td>\n",
       "      <td>Thriller</td>\n",
       "      <td>Thriller</td>\n",
       "      <td>975900</td>\n",
       "      <td>Set in the second half of the 22nd century, th...</td>\n",
       "    </tr>\n",
       "    <tr>\n",
       "      <th>1</th>\n",
       "      <td>0</td>\n",
       "      <td>975900</td>\n",
       "      <td>Science Fiction</td>\n",
       "      <td>Science</td>\n",
       "      <td>975900</td>\n",
       "      <td>Set in the second half of the 22nd century, th...</td>\n",
       "    </tr>\n",
       "    <tr>\n",
       "      <th>2</th>\n",
       "      <td>0</td>\n",
       "      <td>975900</td>\n",
       "      <td>Horror</td>\n",
       "      <td>Horror</td>\n",
       "      <td>975900</td>\n",
       "      <td>Set in the second half of the 22nd century, th...</td>\n",
       "    </tr>\n",
       "    <tr>\n",
       "      <th>3</th>\n",
       "      <td>0</td>\n",
       "      <td>975900</td>\n",
       "      <td>Action</td>\n",
       "      <td>Action</td>\n",
       "      <td>975900</td>\n",
       "      <td>Set in the second half of the 22nd century, th...</td>\n",
       "    </tr>\n",
       "    <tr>\n",
       "      <th>4</th>\n",
       "      <td>3</td>\n",
       "      <td>9363483</td>\n",
       "      <td>Thriller</td>\n",
       "      <td>Thriller</td>\n",
       "      <td>9363483</td>\n",
       "      <td>A series of murders of rich young women throug...</td>\n",
       "    </tr>\n",
       "    <tr>\n",
       "      <th>...</th>\n",
       "      <td>...</td>\n",
       "      <td>...</td>\n",
       "      <td>...</td>\n",
       "      <td>...</td>\n",
       "      <td>...</td>\n",
       "      <td>...</td>\n",
       "    </tr>\n",
       "    <tr>\n",
       "      <th>19170</th>\n",
       "      <td>31544</td>\n",
       "      <td>24409284</td>\n",
       "      <td>Thriller</td>\n",
       "      <td>Thriller</td>\n",
       "      <td>24409284</td>\n",
       "      <td>Suresh Gopi plays the role of Vishwam, a man w...</td>\n",
       "    </tr>\n",
       "    <tr>\n",
       "      <th>19171</th>\n",
       "      <td>31544</td>\n",
       "      <td>24409284</td>\n",
       "      <td>Crime Fiction</td>\n",
       "      <td>Crime</td>\n",
       "      <td>24409284</td>\n",
       "      <td>Suresh Gopi plays the role of Vishwam, a man w...</td>\n",
       "    </tr>\n",
       "    <tr>\n",
       "      <th>19172</th>\n",
       "      <td>31545</td>\n",
       "      <td>8623704</td>\n",
       "      <td>Comedy</td>\n",
       "      <td>Comedy</td>\n",
       "      <td>8623704</td>\n",
       "      <td>Desperate to pay their rent, the Stooges get s...</td>\n",
       "    </tr>\n",
       "    <tr>\n",
       "      <th>19173</th>\n",
       "      <td>31551</td>\n",
       "      <td>19270580</td>\n",
       "      <td>Romance Film</td>\n",
       "      <td>Romance</td>\n",
       "      <td>19270580</td>\n",
       "      <td>The focus is on hero Raj  and not so much on t...</td>\n",
       "    </tr>\n",
       "    <tr>\n",
       "      <th>19174</th>\n",
       "      <td>31556</td>\n",
       "      <td>17672486</td>\n",
       "      <td>Romance Film</td>\n",
       "      <td>Romance</td>\n",
       "      <td>17672486</td>\n",
       "      <td>Patrick Martin , known as P.M., is a wealthy a...</td>\n",
       "    </tr>\n",
       "  </tbody>\n",
       "</table>\n",
       "<p>19175 rows × 6 columns</p>\n",
       "</div>"
      ],
      "text/plain": [
       "       index  Wikipedia movie ID     Movie genres Movie Category  Movie ID  \\\n",
       "0          0              975900         Thriller       Thriller    975900   \n",
       "1          0              975900  Science Fiction        Science    975900   \n",
       "2          0              975900           Horror         Horror    975900   \n",
       "3          0              975900           Action         Action    975900   \n",
       "4          3             9363483         Thriller       Thriller   9363483   \n",
       "...      ...                 ...              ...            ...       ...   \n",
       "19170  31544            24409284         Thriller       Thriller  24409284   \n",
       "19171  31544            24409284    Crime Fiction          Crime  24409284   \n",
       "19172  31545             8623704           Comedy         Comedy   8623704   \n",
       "19173  31551            19270580     Romance Film        Romance  19270580   \n",
       "19174  31556            17672486     Romance Film        Romance  17672486   \n",
       "\n",
       "                                                 Summary  \n",
       "0      Set in the second half of the 22nd century, th...  \n",
       "1      Set in the second half of the 22nd century, th...  \n",
       "2      Set in the second half of the 22nd century, th...  \n",
       "3      Set in the second half of the 22nd century, th...  \n",
       "4      A series of murders of rich young women throug...  \n",
       "...                                                  ...  \n",
       "19170  Suresh Gopi plays the role of Vishwam, a man w...  \n",
       "19171  Suresh Gopi plays the role of Vishwam, a man w...  \n",
       "19172  Desperate to pay their rent, the Stooges get s...  \n",
       "19173  The focus is on hero Raj  and not so much on t...  \n",
       "19174  Patrick Martin , known as P.M., is a wealthy a...  \n",
       "\n",
       "[19175 rows x 6 columns]"
      ]
     },
     "execution_count": 143,
     "metadata": {},
     "output_type": "execute_result"
    }
   ],
   "source": [
    "movie_category_summary = pd.merge(expand_movie_category, summary_df, left_on='Wikipedia movie ID', right_on='Movie ID')\n",
    "\n",
    "movie_category_summary\n"
   ]
  },
  {
   "cell_type": "code",
   "execution_count": 144,
   "id": "ab595196-4d38-4e9e-8c93-ef2db02e595e",
   "metadata": {},
   "outputs": [
    {
     "data": {
      "text/plain": [
       "Movie Category\n",
       "Action      3176\n",
       "Comedy      4673\n",
       "Crime       1984\n",
       "Fantasy      843\n",
       "Horror      1376\n",
       "Romance     3633\n",
       "Science      821\n",
       "Thriller    2669\n",
       "Name: Movie Category, dtype: int64"
      ]
     },
     "execution_count": 144,
     "metadata": {},
     "output_type": "execute_result"
    }
   ],
   "source": [
    "movie_category_summary.groupby(['Movie Category'])['Movie Category'].count()"
   ]
  },
  {
   "cell_type": "code",
   "execution_count": 146,
   "id": "abfa3775-6bca-4ba2-94b2-a58bd97af116",
   "metadata": {},
   "outputs": [],
   "source": [
    "movie_category_summary = movie_category_summary[[\"Movie ID\", \"Movie Category\", \"Summary\"]]\n",
    "# movie_category_summary.to_csv(\"movie_data.csv\", index=False)"
   ]
  },
  {
   "cell_type": "code",
   "execution_count": 148,
   "id": "66a8005e-7943-46d6-8579-efd86922aede",
   "metadata": {},
   "outputs": [],
   "source": [
    "movie_category_summary = movie_category_summary.drop_duplicates()"
   ]
  },
  {
   "cell_type": "code",
   "execution_count": 149,
   "id": "507754c9-2311-41df-85a8-b4ede4b9971f",
   "metadata": {},
   "outputs": [
    {
     "data": {
      "text/html": [
       "<div>\n",
       "<style scoped>\n",
       "    .dataframe tbody tr th:only-of-type {\n",
       "        vertical-align: middle;\n",
       "    }\n",
       "\n",
       "    .dataframe tbody tr th {\n",
       "        vertical-align: top;\n",
       "    }\n",
       "\n",
       "    .dataframe thead th {\n",
       "        text-align: right;\n",
       "    }\n",
       "</style>\n",
       "<table border=\"1\" class=\"dataframe\">\n",
       "  <thead>\n",
       "    <tr style=\"text-align: right;\">\n",
       "      <th></th>\n",
       "      <th>Movie ID</th>\n",
       "      <th>Movie Category</th>\n",
       "      <th>Summary</th>\n",
       "    </tr>\n",
       "  </thead>\n",
       "  <tbody>\n",
       "    <tr>\n",
       "      <th>0</th>\n",
       "      <td>975900</td>\n",
       "      <td>Thriller</td>\n",
       "      <td>Set in the second half of the 22nd century, th...</td>\n",
       "    </tr>\n",
       "    <tr>\n",
       "      <th>1</th>\n",
       "      <td>975900</td>\n",
       "      <td>Science</td>\n",
       "      <td>Set in the second half of the 22nd century, th...</td>\n",
       "    </tr>\n",
       "    <tr>\n",
       "      <th>2</th>\n",
       "      <td>975900</td>\n",
       "      <td>Horror</td>\n",
       "      <td>Set in the second half of the 22nd century, th...</td>\n",
       "    </tr>\n",
       "    <tr>\n",
       "      <th>3</th>\n",
       "      <td>975900</td>\n",
       "      <td>Action</td>\n",
       "      <td>Set in the second half of the 22nd century, th...</td>\n",
       "    </tr>\n",
       "    <tr>\n",
       "      <th>4</th>\n",
       "      <td>9363483</td>\n",
       "      <td>Thriller</td>\n",
       "      <td>A series of murders of rich young women throug...</td>\n",
       "    </tr>\n",
       "    <tr>\n",
       "      <th>...</th>\n",
       "      <td>...</td>\n",
       "      <td>...</td>\n",
       "      <td>...</td>\n",
       "    </tr>\n",
       "    <tr>\n",
       "      <th>19170</th>\n",
       "      <td>24409284</td>\n",
       "      <td>Thriller</td>\n",
       "      <td>Suresh Gopi plays the role of Vishwam, a man w...</td>\n",
       "    </tr>\n",
       "    <tr>\n",
       "      <th>19171</th>\n",
       "      <td>24409284</td>\n",
       "      <td>Crime</td>\n",
       "      <td>Suresh Gopi plays the role of Vishwam, a man w...</td>\n",
       "    </tr>\n",
       "    <tr>\n",
       "      <th>19172</th>\n",
       "      <td>8623704</td>\n",
       "      <td>Comedy</td>\n",
       "      <td>Desperate to pay their rent, the Stooges get s...</td>\n",
       "    </tr>\n",
       "    <tr>\n",
       "      <th>19173</th>\n",
       "      <td>19270580</td>\n",
       "      <td>Romance</td>\n",
       "      <td>The focus is on hero Raj  and not so much on t...</td>\n",
       "    </tr>\n",
       "    <tr>\n",
       "      <th>19174</th>\n",
       "      <td>17672486</td>\n",
       "      <td>Romance</td>\n",
       "      <td>Patrick Martin , known as P.M., is a wealthy a...</td>\n",
       "    </tr>\n",
       "  </tbody>\n",
       "</table>\n",
       "<p>14505 rows × 3 columns</p>\n",
       "</div>"
      ],
      "text/plain": [
       "       Movie ID Movie Category  \\\n",
       "0        975900       Thriller   \n",
       "1        975900        Science   \n",
       "2        975900         Horror   \n",
       "3        975900         Action   \n",
       "4       9363483       Thriller   \n",
       "...         ...            ...   \n",
       "19170  24409284       Thriller   \n",
       "19171  24409284          Crime   \n",
       "19172   8623704         Comedy   \n",
       "19173  19270580        Romance   \n",
       "19174  17672486        Romance   \n",
       "\n",
       "                                                 Summary  \n",
       "0      Set in the second half of the 22nd century, th...  \n",
       "1      Set in the second half of the 22nd century, th...  \n",
       "2      Set in the second half of the 22nd century, th...  \n",
       "3      Set in the second half of the 22nd century, th...  \n",
       "4      A series of murders of rich young women throug...  \n",
       "...                                                  ...  \n",
       "19170  Suresh Gopi plays the role of Vishwam, a man w...  \n",
       "19171  Suresh Gopi plays the role of Vishwam, a man w...  \n",
       "19172  Desperate to pay their rent, the Stooges get s...  \n",
       "19173  The focus is on hero Raj  and not so much on t...  \n",
       "19174  Patrick Martin , known as P.M., is a wealthy a...  \n",
       "\n",
       "[14505 rows x 3 columns]"
      ]
     },
     "execution_count": 149,
     "metadata": {},
     "output_type": "execute_result"
    }
   ],
   "source": [
    "movie_category_summary"
   ]
  },
  {
   "cell_type": "code",
   "execution_count": 150,
   "id": "56f55a87-193f-4ec3-9eac-ad22aeb86b7d",
   "metadata": {},
   "outputs": [],
   "source": [
    "movie_category_list_summary = movie_category_summary.groupby('Movie ID')['Movie Category'].apply(list)"
   ]
  },
  {
   "cell_type": "code",
   "execution_count": 151,
   "id": "4af3319b-0467-4f22-8a53-d96083ed26d4",
   "metadata": {
    "collapsed": true,
    "jupyter": {
     "outputs_hidden": true
    },
    "tags": []
   },
   "outputs": [
    {
     "data": {
      "text/plain": [
       "Movie ID\n",
       "3217        [Horror, Action, Fantasy, Comedy]\n",
       "3947                        [Thriller, Crime]\n",
       "4227                                [Romance]\n",
       "4231                 [Action, Horror, Comedy]\n",
       "4727                [Action, Fantasy, Comedy]\n",
       "                          ...                \n",
       "36457881                            [Fantasy]\n",
       "36548689                            [Romance]\n",
       "36567002                              [Crime]\n",
       "37257312                             [Comedy]\n",
       "37373877                             [Horror]\n",
       "Name: Movie Category, Length: 8867, dtype: object"
      ]
     },
     "execution_count": 151,
     "metadata": {},
     "output_type": "execute_result"
    }
   ],
   "source": [
    "movie_category_list_summary"
   ]
  },
  {
   "cell_type": "code",
   "execution_count": null,
   "id": "32c30b2e-a66f-42dd-85ed-9fc99e554fdf",
   "metadata": {},
   "outputs": [],
   "source": []
  },
  {
   "cell_type": "code",
   "execution_count": 55,
   "id": "342ea8b7-56cb-4324-aa8c-cc9a8e538b25",
   "metadata": {},
   "outputs": [],
   "source": [
    "unique_ids = set(movie_category_summary[\"Movie ID\"].values.tolist())"
   ]
  },
  {
   "cell_type": "code",
   "execution_count": 56,
   "id": "f5e49926-61e4-494c-8095-c7f46c79c149",
   "metadata": {},
   "outputs": [],
   "source": [
    "unique_id_summary_str = {}\n",
    "for id in unique_ids:\n",
    "    summary = movie_category_summary.loc[movie_category_summary['Movie ID'] == id, 'Summary'].iloc[0]\n",
    "    \n",
    "    summary = summary.replace('\"', r'\\\"')\n",
    "    unique_id_summary_str[id] = summary"
   ]
  },
  {
   "cell_type": "code",
   "execution_count": 97,
   "id": "81faa224-3d1e-46fd-8ce9-7c7283405b7b",
   "metadata": {
    "tags": []
   },
   "outputs": [
    {
     "data": {
      "text/plain": [
       "8867"
      ]
     },
     "execution_count": 97,
     "metadata": {},
     "output_type": "execute_result"
    }
   ],
   "source": [
    "len(unique_id_summary_str)"
   ]
  },
  {
   "cell_type": "code",
   "execution_count": 98,
   "id": "fc35dffe-0456-4a7b-8e77-5ccf0c439380",
   "metadata": {},
   "outputs": [],
   "source": [
    "unique_id_summary_str_df = pd.DataFrame(unique_id_summary_str.items(), columns=['Movie ID', 'Summary'])"
   ]
  },
  {
   "cell_type": "code",
   "execution_count": 100,
   "id": "89a7790a-239c-4a94-bda1-1042b55aeb0f",
   "metadata": {},
   "outputs": [],
   "source": [
    "unique_id_summary_str_df.to_csv(\"unique_movie_data.csv\", index=False)"
   ]
  },
  {
   "cell_type": "markdown",
   "id": "0eb52011-a3e9-435b-b202-7c5c9e0665e5",
   "metadata": {
    "tags": []
   },
   "source": [
    "## sentiment analysis"
   ]
  },
  {
   "cell_type": "code",
   "execution_count": 334,
   "id": "e7fa0c2f-10f3-4b45-bfe4-7fc3b4230547",
   "metadata": {},
   "outputs": [
    {
     "name": "stdout",
     "output_type": "stream",
     "text": [
      "Requirement already satisfied: pip in /Library/Frameworks/Python.framework/Versions/3.9/lib/python3.9/site-packages (23.1)\n",
      "Collecting pip\n",
      "  Downloading pip-23.1.1-py3-none-any.whl (2.1 MB)\n",
      "\u001b[2K     \u001b[90m━━━━━━━━━━━━━━━━━━━━━━━━━━━━━━━━━━━━━━━━\u001b[0m \u001b[32m2.1/2.1 MB\u001b[0m \u001b[31m19.3 MB/s\u001b[0m eta \u001b[36m0:00:00\u001b[0ma \u001b[36m0:00:01\u001b[0m\n",
      "\u001b[?25hInstalling collected packages: pip\n",
      "  Attempting uninstall: pip\n",
      "    Found existing installation: pip 23.1\n",
      "    Uninstalling pip-23.1:\n",
      "      Successfully uninstalled pip-23.1\n",
      "Successfully installed pip-23.1.1\n",
      "Note: you may need to restart the kernel to use updated packages.\n"
     ]
    }
   ],
   "source": [
    "pip install --upgrade pip"
   ]
  },
  {
   "cell_type": "markdown",
   "id": "f6410903-9808-43bf-b03d-afa024de1f6c",
   "metadata": {},
   "source": [
    "##### training"
   ]
  },
  {
   "cell_type": "code",
   "execution_count": null,
   "id": "2a4178e1-ac51-4f1f-ac1d-244c0089902a",
   "metadata": {
    "tags": []
   },
   "outputs": [],
   "source": [
    "\n",
    "\n",
    "unique_ids_list = list(unique_ids)\n",
    "unique_ids_sentiment = []\n",
    "\n",
    "# load the model\n",
    "tagger = Classifier.load('sentiment')\n",
    "\n",
    "for id in unique_ids_list:\n",
    "    \n",
    "    sentence = Sentence(unique_id_summary_str[id])\n",
    "\n",
    "    # predict NER tags\n",
    "    tagger.predict(sentence)\n",
    "\n",
    "    # print sentence with predicted tags\n",
    "    unique_ids_sentiment.append(sentence.get_labels()[0].value)"
   ]
  },
  {
   "cell_type": "code",
   "execution_count": null,
   "id": "e765722f-ead5-458b-acdd-0220cbb882d8",
   "metadata": {},
   "outputs": [],
   "source": [
    "sentiment_data = {\"Movie ID\": unique_ids_list, \"Sentiment\": unique_ids_sentiment}\n",
    "sentiment_df = pd.DataFrame(sentiment_data)"
   ]
  },
  {
   "cell_type": "code",
   "execution_count": null,
   "id": "5ff519a4-8ed2-4fb7-af0b-ac476418d476",
   "metadata": {
    "tags": []
   },
   "outputs": [],
   "source": [
    "sentiment_df"
   ]
  },
  {
   "cell_type": "code",
   "execution_count": null,
   "id": "ae3d8a4b-e331-4ab4-9fc0-b8814df15f73",
   "metadata": {},
   "outputs": [],
   "source": [
    "movie_category_sentiment_summary = pd.merge(movie_category_summary, sentiment_df, on=\"Movie ID\")"
   ]
  },
  {
   "cell_type": "code",
   "execution_count": null,
   "id": "5c276ba4-1d91-45e7-8be5-cfb3589c43ef",
   "metadata": {},
   "outputs": [],
   "source": [
    "\n",
    "movie_category_sentiment_summary.to_csv(\"movie_data.csv\", index=False)"
   ]
  },
  {
   "cell_type": "code",
   "execution_count": 157,
   "id": "4124dcbf-8685-43e3-8c23-a3df68c3f2c1",
   "metadata": {},
   "outputs": [],
   "source": [
    "df = pd.read_csv(\"movie_data.csv\")"
   ]
  },
  {
   "cell_type": "code",
   "execution_count": 159,
   "id": "eeda5ef5-3dd9-4d71-9865-59b4d5b7bc96",
   "metadata": {},
   "outputs": [],
   "source": [
    "df = df.drop_duplicates()"
   ]
  },
  {
   "cell_type": "code",
   "execution_count": 161,
   "id": "0d5f6e93-3080-417b-8eab-036ab8a63437",
   "metadata": {},
   "outputs": [],
   "source": [
    "df.to_csv(\"movie_data.csv\", index=False)"
   ]
  },
  {
   "cell_type": "markdown",
   "id": "7045b261-1a24-40d5-a163-5424bbed4738",
   "metadata": {},
   "source": [
    "## zero shot classification"
   ]
  },
  {
   "cell_type": "code",
   "execution_count": 101,
   "id": "7390aea9-f356-4e11-a5a8-e4d439f2ae59",
   "metadata": {},
   "outputs": [
    {
     "data": {
      "text/html": [
       "<div>\n",
       "<style scoped>\n",
       "    .dataframe tbody tr th:only-of-type {\n",
       "        vertical-align: middle;\n",
       "    }\n",
       "\n",
       "    .dataframe tbody tr th {\n",
       "        vertical-align: top;\n",
       "    }\n",
       "\n",
       "    .dataframe thead th {\n",
       "        text-align: right;\n",
       "    }\n",
       "</style>\n",
       "<table border=\"1\" class=\"dataframe\">\n",
       "  <thead>\n",
       "    <tr style=\"text-align: right;\">\n",
       "      <th></th>\n",
       "      <th>Movie ID</th>\n",
       "      <th>Summary</th>\n",
       "    </tr>\n",
       "  </thead>\n",
       "  <tbody>\n",
       "    <tr>\n",
       "      <th>0</th>\n",
       "      <td>32604160</td>\n",
       "      <td>Mahesh  is a thug in Thanjavur. His only ambit...</td>\n",
       "    </tr>\n",
       "    <tr>\n",
       "      <th>1</th>\n",
       "      <td>24608768</td>\n",
       "      <td>At a midwestern college, student Mary Crawford...</td>\n",
       "    </tr>\n",
       "    <tr>\n",
       "      <th>2</th>\n",
       "      <td>23199746</td>\n",
       "      <td>{{Plot}} The movie starts off in 1979 as a man...</td>\n",
       "    </tr>\n",
       "    <tr>\n",
       "      <th>3</th>\n",
       "      <td>18317315</td>\n",
       "      <td>Nihal Singh  is a teen from Chandigarh who lov...</td>\n",
       "    </tr>\n",
       "    <tr>\n",
       "      <th>4</th>\n",
       "      <td>983044</td>\n",
       "      <td>Once every generation, there is an inter-dimen...</td>\n",
       "    </tr>\n",
       "    <tr>\n",
       "      <th>...</th>\n",
       "      <td>...</td>\n",
       "      <td>...</td>\n",
       "    </tr>\n",
       "    <tr>\n",
       "      <th>8862</th>\n",
       "      <td>25493478</td>\n",
       "      <td>Visu , is a computer science student, who love...</td>\n",
       "    </tr>\n",
       "    <tr>\n",
       "      <th>8863</th>\n",
       "      <td>7471088</td>\n",
       "      <td>The story is based loosely on real events and ...</td>\n",
       "    </tr>\n",
       "    <tr>\n",
       "      <th>8864</th>\n",
       "      <td>9273330</td>\n",
       "      <td>A woman's infidelity leads her into a web of l...</td>\n",
       "    </tr>\n",
       "    <tr>\n",
       "      <th>8865</th>\n",
       "      <td>4292601</td>\n",
       "      <td>{{Plot}} At a plush cocktail party at Reisner ...</td>\n",
       "    </tr>\n",
       "    <tr>\n",
       "      <th>8866</th>\n",
       "      <td>25034749</td>\n",
       "      <td>Lingam , the younger son of Nasser, leads life...</td>\n",
       "    </tr>\n",
       "  </tbody>\n",
       "</table>\n",
       "<p>8867 rows × 2 columns</p>\n",
       "</div>"
      ],
      "text/plain": [
       "      Movie ID                                            Summary\n",
       "0     32604160  Mahesh  is a thug in Thanjavur. His only ambit...\n",
       "1     24608768  At a midwestern college, student Mary Crawford...\n",
       "2     23199746  {{Plot}} The movie starts off in 1979 as a man...\n",
       "3     18317315  Nihal Singh  is a teen from Chandigarh who lov...\n",
       "4       983044  Once every generation, there is an inter-dimen...\n",
       "...        ...                                                ...\n",
       "8862  25493478  Visu , is a computer science student, who love...\n",
       "8863   7471088  The story is based loosely on real events and ...\n",
       "8864   9273330  A woman's infidelity leads her into a web of l...\n",
       "8865   4292601  {{Plot}} At a plush cocktail party at Reisner ...\n",
       "8866  25034749  Lingam , the younger son of Nasser, leads life...\n",
       "\n",
       "[8867 rows x 2 columns]"
      ]
     },
     "execution_count": 101,
     "metadata": {},
     "output_type": "execute_result"
    }
   ],
   "source": [
    "unique_id_summary_str_df"
   ]
  },
  {
   "cell_type": "code",
   "execution_count": 152,
   "id": "5b4e1f5d-cb62-4714-a3d2-9de977543086",
   "metadata": {},
   "outputs": [
    {
     "data": {
      "text/plain": [
       "Movie ID\n",
       "3217        [Horror, Action, Fantasy, Comedy]\n",
       "3947                        [Thriller, Crime]\n",
       "4227                                [Romance]\n",
       "4231                 [Action, Horror, Comedy]\n",
       "4727                [Action, Fantasy, Comedy]\n",
       "                          ...                \n",
       "36457881                            [Fantasy]\n",
       "36548689                            [Romance]\n",
       "36567002                              [Crime]\n",
       "37257312                             [Comedy]\n",
       "37373877                             [Horror]\n",
       "Name: Movie Category, Length: 8867, dtype: object"
      ]
     },
     "execution_count": 152,
     "metadata": {},
     "output_type": "execute_result"
    }
   ],
   "source": [
    "movie_category_list_summary"
   ]
  },
  {
   "cell_type": "code",
   "execution_count": 153,
   "id": "f7b8e886-3fcb-4dbf-8d80-368e61c4cf7f",
   "metadata": {},
   "outputs": [],
   "source": [
    "unique_summary_genre_list_df = unique_id_summary_str_df.merge(movie_category_list_summary, on='Movie ID')"
   ]
  },
  {
   "cell_type": "code",
   "execution_count": 300,
   "id": "a9f4b681-fdf5-4873-a4e4-24b33d2aab48",
   "metadata": {},
   "outputs": [],
   "source": [
    "sample = unique_summary_genre_list_df.sample(10, random_state = 2)"
   ]
  },
  {
   "cell_type": "code",
   "execution_count": 301,
   "id": "fa9f430c-e10f-4c31-af85-fcbbbf40b612",
   "metadata": {},
   "outputs": [],
   "source": [
    "summaries = list(sample['Summary'].values)\n",
    "genre_list = list(sample['Movie Category'].values)"
   ]
  },
  {
   "cell_type": "code",
   "execution_count": 310,
   "id": "e6e526b5-a437-450c-9c7e-14262b189364",
   "metadata": {},
   "outputs": [
    {
     "data": {
      "text/html": [
       "<div>\n",
       "<style scoped>\n",
       "    .dataframe tbody tr th:only-of-type {\n",
       "        vertical-align: middle;\n",
       "    }\n",
       "\n",
       "    .dataframe tbody tr th {\n",
       "        vertical-align: top;\n",
       "    }\n",
       "\n",
       "    .dataframe thead th {\n",
       "        text-align: right;\n",
       "    }\n",
       "</style>\n",
       "<table border=\"1\" class=\"dataframe\">\n",
       "  <thead>\n",
       "    <tr style=\"text-align: right;\">\n",
       "      <th></th>\n",
       "      <th>Movie ID</th>\n",
       "      <th>Summary</th>\n",
       "      <th>Movie Category</th>\n",
       "    </tr>\n",
       "  </thead>\n",
       "  <tbody>\n",
       "    <tr>\n",
       "      <th>8852</th>\n",
       "      <td>17923997</td>\n",
       "      <td>In 1970s New York City, David Marks , the son ...</td>\n",
       "      <td>[Thriller, Crime, Romance]</td>\n",
       "    </tr>\n",
       "    <tr>\n",
       "      <th>5008</th>\n",
       "      <td>673694</td>\n",
       "      <td>{{plot}} John Tunstall , an educated Englishma...</td>\n",
       "      <td>[Thriller, Crime, Action, Comedy]</td>\n",
       "    </tr>\n",
       "    <tr>\n",
       "      <th>8214</th>\n",
       "      <td>12515074</td>\n",
       "      <td>Shaan is a charming, rustic, god fearing local...</td>\n",
       "      <td>[Crime, Action]</td>\n",
       "    </tr>\n",
       "    <tr>\n",
       "      <th>8790</th>\n",
       "      <td>26967746</td>\n",
       "      <td>In a world where 12 year old Michael Gerber ha...</td>\n",
       "      <td>[Comedy]</td>\n",
       "    </tr>\n",
       "    <tr>\n",
       "      <th>2295</th>\n",
       "      <td>3842309</td>\n",
       "      <td>After claiming he is an extraterrestrial from ...</td>\n",
       "      <td>[Science]</td>\n",
       "    </tr>\n",
       "    <tr>\n",
       "      <th>2440</th>\n",
       "      <td>31204098</td>\n",
       "      <td>On the eve of his society wedding, Dudley Leak...</td>\n",
       "      <td>[Comedy]</td>\n",
       "    </tr>\n",
       "    <tr>\n",
       "      <th>4668</th>\n",
       "      <td>14205601</td>\n",
       "      <td>Introduction: Like all Sam Sheepdog and Ralph ...</td>\n",
       "      <td>[Comedy]</td>\n",
       "    </tr>\n",
       "    <tr>\n",
       "      <th>900</th>\n",
       "      <td>5541106</td>\n",
       "      <td>Awaking alone in the middle of a dark forest, ...</td>\n",
       "      <td>[Thriller, Horror, Crime]</td>\n",
       "    </tr>\n",
       "    <tr>\n",
       "      <th>774</th>\n",
       "      <td>6097565</td>\n",
       "      <td>A woman named Karen , who is suffering from a ...</td>\n",
       "      <td>[Horror]</td>\n",
       "    </tr>\n",
       "    <tr>\n",
       "      <th>1195</th>\n",
       "      <td>3510662</td>\n",
       "      <td>Set in the rural West Country in Victorian Eng...</td>\n",
       "      <td>[Romance]</td>\n",
       "    </tr>\n",
       "  </tbody>\n",
       "</table>\n",
       "</div>"
      ],
      "text/plain": [
       "      Movie ID                                            Summary  \\\n",
       "8852  17923997  In 1970s New York City, David Marks , the son ...   \n",
       "5008    673694  {{plot}} John Tunstall , an educated Englishma...   \n",
       "8214  12515074  Shaan is a charming, rustic, god fearing local...   \n",
       "8790  26967746  In a world where 12 year old Michael Gerber ha...   \n",
       "2295   3842309  After claiming he is an extraterrestrial from ...   \n",
       "2440  31204098  On the eve of his society wedding, Dudley Leak...   \n",
       "4668  14205601  Introduction: Like all Sam Sheepdog and Ralph ...   \n",
       "900    5541106  Awaking alone in the middle of a dark forest, ...   \n",
       "774    6097565  A woman named Karen , who is suffering from a ...   \n",
       "1195   3510662  Set in the rural West Country in Victorian Eng...   \n",
       "\n",
       "                         Movie Category  \n",
       "8852         [Thriller, Crime, Romance]  \n",
       "5008  [Thriller, Crime, Action, Comedy]  \n",
       "8214                    [Crime, Action]  \n",
       "8790                           [Comedy]  \n",
       "2295                          [Science]  \n",
       "2440                           [Comedy]  \n",
       "4668                           [Comedy]  \n",
       "900           [Thriller, Horror, Crime]  \n",
       "774                            [Horror]  \n",
       "1195                          [Romance]  "
      ]
     },
     "execution_count": 310,
     "metadata": {},
     "output_type": "execute_result"
    }
   ],
   "source": [
    "sample"
   ]
  },
  {
   "cell_type": "markdown",
   "id": "7bbda183-4d62-4353-affd-b1862493d19b",
   "metadata": {
    "tags": []
   },
   "source": [
    "## valhalla/distilbart-mnli-12-6"
   ]
  },
  {
   "cell_type": "code",
   "execution_count": 302,
   "id": "6211bfb7-cda2-4f7e-9173-bc40fc412e2c",
   "metadata": {
    "tags": []
   },
   "outputs": [],
   "source": [
    "from transformers import pipeline\n",
    "from sklearn.preprocessing import normalize\n",
    "\n",
    "classifier = pipeline(task='zero-shot-classification', model='valhalla/distilbart-mnli-12-6')\n"
   ]
  },
  {
   "cell_type": "code",
   "execution_count": 307,
   "id": "5ece6634-cc1d-4941-8a41-377b5da9ef77",
   "metadata": {
    "tags": []
   },
   "outputs": [],
   "source": [
    "def compute_average_score(original_genres, labels, scores):\n",
    "    scores = normalize([scores], norm='max')[0]\n",
    "    sum = 0\n",
    "    for g in original_genres:\n",
    "        index = labels.index(g)\n",
    "        score = scores[index]\n",
    "        sum += score\n",
    "    return sum / len(original_genres)"
   ]
  },
  {
   "cell_type": "code",
   "execution_count": 308,
   "id": "670e6444-6147-47a3-8e8e-6c58543b5e36",
   "metadata": {
    "tags": []
   },
   "outputs": [
    {
     "name": "stderr",
     "output_type": "stream",
     "text": [
      "100%|███████████████████████████████████████████| 10/10 [02:32<00:00, 15.23s/it]"
     ]
    },
    {
     "name": "stdout",
     "output_type": "stream",
     "text": [
      "Time:  152.28476549999323\n"
     ]
    },
    {
     "name": "stderr",
     "output_type": "stream",
     "text": [
      "\n"
     ]
    }
   ],
   "source": [
    "start = timeit.default_timer()\n",
    "\n",
    "avg_scores_list = []\n",
    "\n",
    "for i in tqdm(range(len(summaries))):\n",
    "    summary = summaries[i]\n",
    "    genres = genre_list[i]\n",
    "    sequences = summary\n",
    "    candidate_labels = [\"Comedy\", \"Romance\", \"Action\", \"Thriller\", \"Horror\", \"Crime\", \"Science\", \"Fantasy\"]\n",
    "    hypothesis_template = \"This is a summary of movie plot. The genre of this movie is {}.\"\n",
    "    prediction = classifier(sequences = sequences, candidate_labels = candidate_labels, hypothesis_template = hypothesis_template, multi_label=True)\n",
    "    labels = prediction['labels']\n",
    "    scores = prediction['scores']\n",
    "    avg_score = compute_average_score(genres, labels, scores)\n",
    "    avg_scores_list.append(avg_score)\n",
    "    \n",
    "stop = timeit.default_timer()\n",
    "print('Time: ', stop - start)  "
   ]
  },
  {
   "cell_type": "code",
   "execution_count": 316,
   "id": "2b981268-69bc-4399-8df5-638b9ef76280",
   "metadata": {
    "tags": []
   },
   "outputs": [
    {
     "data": {
      "text/plain": [
       "0.9581879754092969"
      ]
     },
     "execution_count": 316,
     "metadata": {},
     "output_type": "execute_result"
    }
   ],
   "source": [
    "from statistics import mean\n",
    "\n",
    "avg_score = mean(avg_scores_list)\n",
    "avg_score"
   ]
  },
  {
   "cell_type": "code",
   "execution_count": 317,
   "id": "1016b292-6967-45f4-9698-7a8110f9d599",
   "metadata": {
    "tags": []
   },
   "outputs": [
    {
     "data": {
      "text/plain": [
       "[0.9658642092684833,\n",
       " 0.9597331493892444,\n",
       " 0.9732998693672754,\n",
       " 0.7211156318997959,\n",
       " 1.0,\n",
       " 0.9775997177871604,\n",
       " 0.996761697128782,\n",
       " 0.9875054792522274,\n",
       " 1.0,\n",
       " 1.0]"
      ]
     },
     "execution_count": 317,
     "metadata": {},
     "output_type": "execute_result"
    }
   ],
   "source": [
    "avg_scores_list"
   ]
  },
  {
   "cell_type": "code",
   "execution_count": 318,
   "id": "d7894f78-f83c-4fd4-838e-987376af10f8",
   "metadata": {
    "tags": []
   },
   "outputs": [
    {
     "data": {
      "text/plain": [
       "9"
      ]
     },
     "execution_count": 318,
     "metadata": {},
     "output_type": "execute_result"
    }
   ],
   "source": [
    "len([s for s in avg_scores_list if s >= avg_score])"
   ]
  },
  {
   "cell_type": "code",
   "execution_count": 311,
   "id": "f01db67c-b2f9-4e67-94c8-e50c2ca38ad8",
   "metadata": {
    "collapsed": true,
    "jupyter": {
     "outputs_hidden": true
    },
    "tags": []
   },
   "outputs": [
    {
     "name": "stdout",
     "output_type": "stream",
     "text": [
      "['In a world where 12 year old Michael Gerber has no friends, he finds that sometimes, the best friendships come from within. Michael is an awkward young boy who is about to start junior high and has no real friends. His only companion is an imaginary friend he calls Fuzzbucket. In the first act of the film, both the viewer and every character except Michael is left to make the assumption that Fuzzbucket is an imaginary friend. When Michael cooks up a strange, green concoction for his friend to drink, Fuzzbucket turns visibile again. Astonished to see Fuzzbucket for the first time, young Michael becomes overjoyed. His newly visible friend exuberantly leaps around Michael\\'s treehouse in celebration. The two friends share a heartfelt moment in his treehouse when Fuzzbucket traces their hands with crayons, a ceremony that makes them blood brothers. At Fuzzbucket\\'s urgent request for \\\\\"Toons! Toons!\\\\\" Michael switches on his television and the two sit together watching classic cartoons, and they soon drift off to sleep. Hours later, Fuzzbucket wakens and insists on knowing the time. He urgently cries to Michael, \\\\\"How many clocks? How many clocks!?\\\\\" Fearing that if he doesn\\'t make it back home in time he will turn invisible again, only this time it will be forever. Fuzzbucket leaps out of the treehouse and to escapes into the woods. Michael, afraid of losing his one and only friend, takes off after him.']\n"
     ]
    }
   ],
   "source": [
    "print(list(sample.loc[sample['Movie ID'] == 26967746, 'Summary']))"
   ]
  },
  {
   "cell_type": "markdown",
   "id": "037e9e3d-d77f-4b5c-bce9-f0703c3755c1",
   "metadata": {},
   "source": [
    "##### test"
   ]
  },
  {
   "cell_type": "code",
   "execution_count": 339,
   "id": "4806eb15-629e-490b-90d4-16e9fd876708",
   "metadata": {
    "tags": []
   },
   "outputs": [],
   "source": [
    "sequences = \"This story is about a police officer, who has been undercover for two years, who is convinced by a doctor, Dr. Mahmud, to be right, and is persuaded to give them information. He meets a prostitute, Mahi, and the two become lovers. He gets a contract from Mahmud to get information on the two, but he gets killed in a car accident. The police detective, who helped him get killed, is Mohamad Khan, a madman from whom he tells the secret story of his lover. The film is a foreshadowing of the story of Salman Rushdie, who is in jail. The story is told in flashback, and it unfolds in a way. The story of Salman Rushdie starts in a small town in Pakistan. He is a young man who lives under the name of Mohammed. Mohammed, a beautiful young woman, is the widow of one of Mahmud and Mahi Mahmud's nephew. They have a son, Mohamad, who is married, and they have two children who are of varying ages and gender. Mohammed's friends and family are very strict and suspicious of him. He is very quiet, as well as peaceful. He is very understanding towards people, but still he is reluctant to talk about his past. There is a lot of emotion in his life. He wants to go away, but unfortunately for him, his father dies in a car accident. This enrages Mohammed, and she lies to him about her past, about what happened to Mohammed. When she has a baby, Mohammed asks her to tell him about her past. He is puzzled at first, but then, at the same time, he begins to realize that his life was different from the lives of other people. He feels sorry for her, and hopes that she will forgive him. He gives her a diary of her past, and asks her to tell him about her father. She does. After that, it is the family that is transformed. They have a home, and they have a son. His life is changed. They are for the first time. The family is different than before, as Mohammed is the son of Mahmud. Mohammed wants to get out of prison, but he is afraid of being in prison. Mohamad decides to get out. He tells Mohammed that he will go to the police, whom he once he gets out. The police detective tells Mohammed that he must get out of his lover, and Mohammed goes to get in a few days before beginning at the end.\"\n",
    "candidate_labels = [\"Comedy\", \"Romance\", \"Action\", \"Thriller\", \"Horror\", \"Crime\", \"Science\", \"Fantasy\"]\n",
    "hypothesis_template = \"This is a summary of movie plot. The genre of this is {}.\""
   ]
  },
  {
   "cell_type": "code",
   "execution_count": 340,
   "id": "d7dc40fb-63d4-4322-ae97-6c3a3dd9f7a4",
   "metadata": {
    "tags": []
   },
   "outputs": [],
   "source": [
    "prediction = classifier(sequences = sequences, candidate_labels = candidate_labels, hypothesis_template = hypothesis_template, multi_label=True)\n"
   ]
  },
  {
   "cell_type": "code",
   "execution_count": 341,
   "id": "bd72739c-46ac-4673-949d-97de9d492757",
   "metadata": {
    "tags": []
   },
   "outputs": [
    {
     "data": {
      "text/plain": [
       "{'sequence': \"This story is about a police officer, who has been undercover for two years, who is convinced by a doctor, Dr. Mahmud, to be right, and is persuaded to give them information. He meets a prostitute, Mahi, and the two become lovers. He gets a contract from Mahmud to get information on the two, but he gets killed in a car accident. The police detective, who helped him get killed, is Mohamad Khan, a madman from whom he tells the secret story of his lover. The film is a foreshadowing of the story of Salman Rushdie, who is in jail. The story is told in flashback, and it unfolds in a way. The story of Salman Rushdie starts in a small town in Pakistan. He is a young man who lives under the name of Mohammed. Mohammed, a beautiful young woman, is the widow of one of Mahmud and Mahi Mahmud's nephew. They have a son, Mohamad, who is married, and they have two children who are of varying ages and gender. Mohammed's friends and family are very strict and suspicious of him. He is very quiet, as well as peaceful. He is very understanding towards people, but still he is reluctant to talk about his past. There is a lot of emotion in his life. He wants to go away, but unfortunately for him, his father dies in a car accident. This enrages Mohammed, and she lies to him about her past, about what happened to Mohammed. When she has a baby, Mohammed asks her to tell him about her past. He is puzzled at first, but then, at the same time, he begins to realize that his life was different from the lives of other people. He feels sorry for her, and hopes that she will forgive him. He gives her a diary of her past, and asks her to tell him about her father. She does. After that, it is the family that is transformed. They have a home, and they have a son. His life is changed. They are for the first time. The family is different than before, as Mohammed is the son of Mahmud. Mohammed wants to get out of prison, but he is afraid of being in prison. Mohamad decides to get out. He tells Mohammed that he will go to the police, whom he once he gets out. The police detective tells Mohammed that he must get out of his lover, and Mohammed goes to get in a few days before beginning at the end.\",\n",
       " 'labels': ['Crime',\n",
       "  'Fantasy',\n",
       "  'Romance',\n",
       "  'Thriller',\n",
       "  'Horror',\n",
       "  'Comedy',\n",
       "  'Science',\n",
       "  'Action'],\n",
       " 'scores': [0.9365527629852295,\n",
       "  0.9142500758171082,\n",
       "  0.8972538709640503,\n",
       "  0.8873624205589294,\n",
       "  0.8836371898651123,\n",
       "  0.7806451320648193,\n",
       "  0.7769379615783691,\n",
       "  0.6104382276535034]}"
      ]
     },
     "execution_count": 341,
     "metadata": {},
     "output_type": "execute_result"
    }
   ],
   "source": [
    "prediction"
   ]
  },
  {
   "cell_type": "code",
   "execution_count": null,
   "id": "58568d6c-ac8d-4f62-beb6-ad24572f91cf",
   "metadata": {},
   "outputs": [],
   "source": []
  },
  {
   "cell_type": "markdown",
   "id": "e1689a74-db69-46ee-8cf5-05f061d5763a",
   "metadata": {
    "tags": []
   },
   "source": [
    "## facebook/bart-large-mnli"
   ]
  },
  {
   "cell_type": "code",
   "execution_count": 290,
   "id": "7aee3b01-1d6d-4148-a57e-81f105affb88",
   "metadata": {},
   "outputs": [
    {
     "name": "stdout",
     "output_type": "stream",
     "text": [
      "Requirement already satisfied: tqdm in /Users/kexinchen/Library/Python/3.9/lib/python/site-packages (4.64.1)\n"
     ]
    }
   ],
   "source": [
    "!pip3 install tqdm\n",
    "from tqdm import tqdm\n",
    "import timeit\n",
    "\n"
   ]
  },
  {
   "cell_type": "markdown",
   "id": "038deef7-c72e-4369-851a-bf25d82d26af",
   "metadata": {},
   "source": [
    "##### 200text 40min"
   ]
  },
  {
   "cell_type": "code",
   "execution_count": 289,
   "id": "d5523d19-738d-455e-becc-9709e2d11d45",
   "metadata": {
    "tags": []
   },
   "outputs": [],
   "source": [
    "from transformers import pipeline\n",
    "classifier = pipeline(task='zero-shot-classification', model='facebook/bart-large-mnli')"
   ]
  },
  {
   "cell_type": "code",
   "execution_count": 256,
   "id": "b4d5ec84-650e-47a9-9357-4fe9dbfe3e81",
   "metadata": {
    "tags": []
   },
   "outputs": [],
   "source": [
    "def compute_average_score(original_genres, labels, scores):\n",
    "    sum = 0\n",
    "    for g in original_genres:\n",
    "        index = labels.index(g)\n",
    "        score = scores[index]\n",
    "        sum += score\n",
    "    return sum / len(original_genres)"
   ]
  },
  {
   "cell_type": "code",
   "execution_count": 293,
   "id": "d3250dbc-ea58-4727-8582-e0f32284158a",
   "metadata": {
    "tags": []
   },
   "outputs": [
    {
     "name": "stderr",
     "output_type": "stream",
     "text": [
      "100%|███████████████████████████████████████████| 20/20 [08:22<00:00, 25.12s/it]"
     ]
    },
    {
     "name": "stdout",
     "output_type": "stream",
     "text": [
      "Time:  502.4917369999748\n"
     ]
    },
    {
     "name": "stderr",
     "output_type": "stream",
     "text": [
      "\n"
     ]
    }
   ],
   "source": [
    "start = timeit.default_timer()\n",
    "\n",
    "avg_scores_list = []\n",
    "\n",
    "for i in tqdm(range(len(summaries))):\n",
    "    summary = summaries[i]\n",
    "    genres = genre_list[i]\n",
    "    sequences = summary\n",
    "    candidate_labels = [\"Comedy\", \"Romance\", \"Action\", \"Thriller\", \"Horror\", \"Crime\", \"Science\", \"Fantasy\"]\n",
    "    hypothesis_template = \"This is a summary of movie plot. The genre of this movie is {}.\"\n",
    "    prediction = classifier(sequences = sequences, candidate_labels = candidate_labels, hypothesis_template = hypothesis_template, multi_label=True)\n",
    "    labels = prediction['labels']\n",
    "    scores = prediction['scores']\n",
    "    avg_score = compute_average_score(genres, labels, scores)\n",
    "    avg_scores_list.append(avg_score)\n",
    "    \n",
    "stop = timeit.default_timer()\n",
    "print('Time: ', stop - start)  \n"
   ]
  },
  {
   "cell_type": "code",
   "execution_count": null,
   "id": "cd2ee7ab-f6d9-4f97-a7f8-9edaf9bbdb13",
   "metadata": {
    "tags": []
   },
   "outputs": [],
   "source": [
    "from statistics import mean\n",
    "\n",
    "avg_score = mean(avg_scores_list)\n",
    "avg_score"
   ]
  },
  {
   "cell_type": "code",
   "execution_count": 294,
   "id": "f923a903-fe86-4d5f-bc6b-92e543679a35",
   "metadata": {
    "tags": []
   },
   "outputs": [
    {
     "data": {
      "text/plain": [
       "[0.6664131879806519,\n",
       " 0.9398733675479889,\n",
       " 0.6285017430782318,\n",
       " 0.10646507889032364,\n",
       " 0.6937809586524963,\n",
       " 0.7451310157775879,\n",
       " 0.7456769347190857,\n",
       " 0.9214355746905009,\n",
       " 0.9246132373809814,\n",
       " 0.8937371373176575,\n",
       " 0.19186416019996008,\n",
       " 0.9033108353614807,\n",
       " 0.6912443041801453,\n",
       " 0.596308171749115,\n",
       " 0.6105490326881409,\n",
       " 0.04410838335752487,\n",
       " 0.7132342755794525,\n",
       " 0.6979719400405884,\n",
       " 0.7617500424385071,\n",
       " 0.32131947576999664]"
      ]
     },
     "execution_count": 294,
     "metadata": {},
     "output_type": "execute_result"
    }
   ],
   "source": [
    "avg_scores_list"
   ]
  },
  {
   "cell_type": "code",
   "execution_count": 205,
   "id": "bf430bbe-f08c-4c44-9fe1-f092da86d536",
   "metadata": {
    "tags": []
   },
   "outputs": [
    {
     "data": {
      "text/plain": [
       "461"
      ]
     },
     "execution_count": 205,
     "metadata": {},
     "output_type": "execute_result"
    }
   ],
   "source": [
    "len([s for s in avg_scores_list if s >= avg_score])"
   ]
  },
  {
   "cell_type": "code",
   "execution_count": 276,
   "id": "2e4663c5-d373-44a2-af03-6c8a233f88ae",
   "metadata": {},
   "outputs": [
    {
     "data": {
      "text/html": [
       "<div>\n",
       "<style scoped>\n",
       "    .dataframe tbody tr th:only-of-type {\n",
       "        vertical-align: middle;\n",
       "    }\n",
       "\n",
       "    .dataframe tbody tr th {\n",
       "        vertical-align: top;\n",
       "    }\n",
       "\n",
       "    .dataframe thead th {\n",
       "        text-align: right;\n",
       "    }\n",
       "</style>\n",
       "<table border=\"1\" class=\"dataframe\">\n",
       "  <thead>\n",
       "    <tr style=\"text-align: right;\">\n",
       "      <th></th>\n",
       "      <th>Movie ID</th>\n",
       "      <th>Summary</th>\n",
       "      <th>Movie Category</th>\n",
       "    </tr>\n",
       "  </thead>\n",
       "  <tbody>\n",
       "    <tr>\n",
       "      <th>8852</th>\n",
       "      <td>17923997</td>\n",
       "      <td>In 1970s New York City, David Marks , the son ...</td>\n",
       "      <td>[Thriller, Crime, Romance]</td>\n",
       "    </tr>\n",
       "    <tr>\n",
       "      <th>5008</th>\n",
       "      <td>673694</td>\n",
       "      <td>{{plot}} John Tunstall , an educated Englishma...</td>\n",
       "      <td>[Thriller, Crime, Action, Comedy]</td>\n",
       "    </tr>\n",
       "    <tr>\n",
       "      <th>8214</th>\n",
       "      <td>12515074</td>\n",
       "      <td>Shaan is a charming, rustic, god fearing local...</td>\n",
       "      <td>[Crime, Action]</td>\n",
       "    </tr>\n",
       "    <tr>\n",
       "      <th>8790</th>\n",
       "      <td>26967746</td>\n",
       "      <td>In a world where 12 year old Michael Gerber ha...</td>\n",
       "      <td>[Comedy]</td>\n",
       "    </tr>\n",
       "    <tr>\n",
       "      <th>2295</th>\n",
       "      <td>3842309</td>\n",
       "      <td>After claiming he is an extraterrestrial from ...</td>\n",
       "      <td>[Science]</td>\n",
       "    </tr>\n",
       "    <tr>\n",
       "      <th>...</th>\n",
       "      <td>...</td>\n",
       "      <td>...</td>\n",
       "      <td>...</td>\n",
       "    </tr>\n",
       "    <tr>\n",
       "      <th>5748</th>\n",
       "      <td>6115870</td>\n",
       "      <td>Milton Parker , an elderly and eccentric game ...</td>\n",
       "      <td>[Comedy]</td>\n",
       "    </tr>\n",
       "    <tr>\n",
       "      <th>3766</th>\n",
       "      <td>21869908</td>\n",
       "      <td>The film follows Cross Carlton, a Los Angeles ...</td>\n",
       "      <td>[Comedy]</td>\n",
       "    </tr>\n",
       "    <tr>\n",
       "      <th>8118</th>\n",
       "      <td>25687480</td>\n",
       "      <td>Ross McEwen pulls an unusual bank job in the N...</td>\n",
       "      <td>[Action]</td>\n",
       "    </tr>\n",
       "    <tr>\n",
       "      <th>5005</th>\n",
       "      <td>30984089</td>\n",
       "      <td>When two newly delivered helicopters crash mys...</td>\n",
       "      <td>[Thriller, Action]</td>\n",
       "    </tr>\n",
       "    <tr>\n",
       "      <th>5450</th>\n",
       "      <td>5787130</td>\n",
       "      <td>Ashley  is depressed because her father Jack  ...</td>\n",
       "      <td>[Fantasy]</td>\n",
       "    </tr>\n",
       "  </tbody>\n",
       "</table>\n",
       "<p>200 rows × 3 columns</p>\n",
       "</div>"
      ],
      "text/plain": [
       "      Movie ID                                            Summary  \\\n",
       "8852  17923997  In 1970s New York City, David Marks , the son ...   \n",
       "5008    673694  {{plot}} John Tunstall , an educated Englishma...   \n",
       "8214  12515074  Shaan is a charming, rustic, god fearing local...   \n",
       "8790  26967746  In a world where 12 year old Michael Gerber ha...   \n",
       "2295   3842309  After claiming he is an extraterrestrial from ...   \n",
       "...        ...                                                ...   \n",
       "5748   6115870  Milton Parker , an elderly and eccentric game ...   \n",
       "3766  21869908  The film follows Cross Carlton, a Los Angeles ...   \n",
       "8118  25687480  Ross McEwen pulls an unusual bank job in the N...   \n",
       "5005  30984089  When two newly delivered helicopters crash mys...   \n",
       "5450   5787130  Ashley  is depressed because her father Jack  ...   \n",
       "\n",
       "                         Movie Category  \n",
       "8852         [Thriller, Crime, Romance]  \n",
       "5008  [Thriller, Crime, Action, Comedy]  \n",
       "8214                    [Crime, Action]  \n",
       "8790                           [Comedy]  \n",
       "2295                          [Science]  \n",
       "...                                 ...  \n",
       "5748                           [Comedy]  \n",
       "3766                           [Comedy]  \n",
       "8118                           [Action]  \n",
       "5005                 [Thriller, Action]  \n",
       "5450                          [Fantasy]  \n",
       "\n",
       "[200 rows x 3 columns]"
      ]
     },
     "execution_count": 276,
     "metadata": {},
     "output_type": "execute_result"
    }
   ],
   "source": [
    "sample"
   ]
  },
  {
   "cell_type": "code",
   "execution_count": 277,
   "id": "52b66f8a-a4ce-4e3a-9752-69b4b0acf181",
   "metadata": {},
   "outputs": [
    {
     "name": "stdout",
     "output_type": "stream",
     "text": [
      "[\"In 1970s New York City, David Marks , the son of a powerful real estate tycoon, marries a beautiful working-class student, Katie McCarthy . Together they flee the city for country life in Vermont &mdash; only to be lured back by David's father. Upon their return, Katie goes back to college and eventually applies to medical school while trying to understand David's mood swings and unwillingness to have children. As she becomes increasingly independent, David mysteriously turns more violent and controlling. Family secrets are slowly revealed and then Katie disappears without a trace. Years later, when David's best friend turns up dead, the 20-year-old case is re-opened, with David as the main suspect, and the Marks family’s dark secrets pave the way to a disturbing truth.\"]\n"
     ]
    }
   ],
   "source": [
    "print(list(sample.loc[sample['Movie ID'] == 17923997, 'Summary']))"
   ]
  },
  {
   "cell_type": "code",
   "execution_count": 282,
   "id": "87494f39-d057-4f5d-b3bf-8516821d8954",
   "metadata": {},
   "outputs": [],
   "source": [
    "sequences =  \"In 1970s New York City, David Marks , the son of a powerful real estate tycoon, marries a beautiful working-class student, Katie McCarthy . Together they flee the city for country life in Vermont &mdash; only to be lured back by David's father. Upon their return, Katie goes back to college and eventually applies to medical school while trying to understand David's mood swings and unwillingness to have children. As she becomes increasingly independent, David mysteriously turns more violent and controlling. Family secrets are slowly revealed and then Katie disappears without a trace. Years later, when David's best friend turns up dead, the 20-year-old case is re-opened, with David as the main suspect, and the Marks family’s dark secrets pave the way to a disturbing truth.\"\n",
    "\n",
    "\n",
    "hypothesis_template = \"This is a summary of movie plot. The genre of this movie is {}.\""
   ]
  },
  {
   "cell_type": "code",
   "execution_count": 285,
   "id": "1a344b5f-24b2-4a3c-b685-ef0999ddbb7c",
   "metadata": {},
   "outputs": [],
   "source": [
    "prediction = classifier(sequences = sequences, candidate_labels = candidate_labels, hypothesis_template = hypothesis_template, multi_label = True)\n"
   ]
  },
  {
   "cell_type": "code",
   "execution_count": 286,
   "id": "eaf5eb4e-b878-41fa-9380-86832fb9350b",
   "metadata": {
    "tags": []
   },
   "outputs": [
    {
     "data": {
      "text/plain": [
       "{'sequence': \"In 1970s New York City, David Marks , the son of a powerful real estate tycoon, marries a beautiful working-class student, Katie McCarthy . Together they flee the city for country life in Vermont &mdash; only to be lured back by David's father. Upon their return, Katie goes back to college and eventually applies to medical school while trying to understand David's mood swings and unwillingness to have children. As she becomes increasingly independent, David mysteriously turns more violent and controlling. Family secrets are slowly revealed and then Katie disappears without a trace. Years later, when David's best friend turns up dead, the 20-year-old case is re-opened, with David as the main suspect, and the Marks family’s dark secrets pave the way to a disturbing truth.\",\n",
       " 'labels': ['Horror',\n",
       "  'Crime',\n",
       "  'Thriller',\n",
       "  'Romance',\n",
       "  'Science',\n",
       "  'Fantasy',\n",
       "  'Action',\n",
       "  'Comedy'],\n",
       " 'scores': [0.9488498568534851,\n",
       "  0.9461238384246826,\n",
       "  0.9104977250099182,\n",
       "  0.8927587866783142,\n",
       "  0.8125916719436646,\n",
       "  0.7949262857437134,\n",
       "  0.558834969997406,\n",
       "  0.39642462134361267]}"
      ]
     },
     "execution_count": 286,
     "metadata": {},
     "output_type": "execute_result"
    }
   ],
   "source": [
    "prediction"
   ]
  },
  {
   "cell_type": "code",
   "execution_count": 58,
   "id": "ac4ccfa2-6c45-4829-9f60-061fa3ff85ca",
   "metadata": {},
   "outputs": [],
   "source": [
    "unique_ids_list = list(unique_ids)\n",
    "\n",
    "unique_ids_summary_df = summary_df[summary_df['Movie ID'].isin(unique_ids_list)]"
   ]
  },
  {
   "cell_type": "code",
   "execution_count": 59,
   "id": "823a40e8-ee8a-4c27-978d-be6ea4e4f8ab",
   "metadata": {},
   "outputs": [
    {
     "data": {
      "text/plain": [
       "1         496\n",
       "5         763\n",
       "10         90\n",
       "12       1295\n",
       "23        155\n",
       "         ... \n",
       "31548     263\n",
       "31549     547\n",
       "31551     979\n",
       "31552     874\n",
       "31558     556\n",
       "Name: Summary, Length: 8867, dtype: int64"
      ]
     },
     "execution_count": 59,
     "metadata": {},
     "output_type": "execute_result"
    }
   ],
   "source": [
    "unique_ids_summary_df[\"Summary\"].map(lambda x: len(x.split()))"
   ]
  },
  {
   "cell_type": "code",
   "execution_count": 60,
   "id": "372773df-c925-4e81-b167-48f5135ac004",
   "metadata": {
    "collapsed": true,
    "jupyter": {
     "outputs_hidden": true
    },
    "tags": []
   },
   "outputs": [
    {
     "name": "stdout",
     "output_type": "stream",
     "text": [
      "huggingface/tokenizers: The current process just got forked, after parallelism has already been used. Disabling parallelism to avoid deadlocks...\n",
      "To disable this warning, you can either:\n",
      "\t- Avoid using `tokenizers` before the fork if possible\n",
      "\t- Explicitly set the environment variable TOKENIZERS_PARALLELISM=(true | false)\n",
      "Requirement already satisfied: transformers in /Library/Frameworks/Python.framework/Versions/3.9/lib/python3.9/site-packages (4.28.0)\n",
      "Requirement already satisfied: datasets in /Library/Frameworks/Python.framework/Versions/3.9/lib/python3.9/site-packages (2.11.0)\n",
      "Requirement already satisfied: evaluate in /Library/Frameworks/Python.framework/Versions/3.9/lib/python3.9/site-packages (0.4.0)\n",
      "Requirement already satisfied: filelock in /Library/Frameworks/Python.framework/Versions/3.9/lib/python3.9/site-packages (from transformers) (3.11.0)\n",
      "Requirement already satisfied: huggingface-hub<1.0,>=0.11.0 in /Library/Frameworks/Python.framework/Versions/3.9/lib/python3.9/site-packages (from transformers) (0.13.4)\n",
      "Requirement already satisfied: numpy>=1.17 in /Library/Frameworks/Python.framework/Versions/3.9/lib/python3.9/site-packages (from transformers) (1.23.5)\n",
      "Requirement already satisfied: packaging>=20.0 in /Library/Frameworks/Python.framework/Versions/3.9/lib/python3.9/site-packages (from transformers) (23.0)\n",
      "Requirement already satisfied: pyyaml>=5.1 in /Library/Frameworks/Python.framework/Versions/3.9/lib/python3.9/site-packages (from transformers) (6.0)\n",
      "Requirement already satisfied: regex!=2019.12.17 in /Users/kexinchen/Library/Python/3.9/lib/python/site-packages (from transformers) (2022.10.31)\n",
      "Requirement already satisfied: requests in /Library/Frameworks/Python.framework/Versions/3.9/lib/python3.9/site-packages (from transformers) (2.28.2)\n",
      "Requirement already satisfied: tokenizers!=0.11.3,<0.14,>=0.11.1 in /Library/Frameworks/Python.framework/Versions/3.9/lib/python3.9/site-packages (from transformers) (0.13.3)\n",
      "Requirement already satisfied: tqdm>=4.27 in /Users/kexinchen/Library/Python/3.9/lib/python/site-packages (from transformers) (4.64.1)\n",
      "Requirement already satisfied: pyarrow>=8.0.0 in /Library/Frameworks/Python.framework/Versions/3.9/lib/python3.9/site-packages (from datasets) (11.0.0)\n",
      "Requirement already satisfied: dill<0.3.7,>=0.3.0 in /Library/Frameworks/Python.framework/Versions/3.9/lib/python3.9/site-packages (from datasets) (0.3.6)\n",
      "Requirement already satisfied: pandas in /Library/Frameworks/Python.framework/Versions/3.9/lib/python3.9/site-packages (from datasets) (1.5.3)\n",
      "Requirement already satisfied: xxhash in /Library/Frameworks/Python.framework/Versions/3.9/lib/python3.9/site-packages (from datasets) (3.2.0)\n",
      "Requirement already satisfied: multiprocess in /Library/Frameworks/Python.framework/Versions/3.9/lib/python3.9/site-packages (from datasets) (0.70.14)\n",
      "Requirement already satisfied: fsspec[http]>=2021.11.1 in /Library/Frameworks/Python.framework/Versions/3.9/lib/python3.9/site-packages (from datasets) (2023.4.0)\n",
      "Requirement already satisfied: aiohttp in /Library/Frameworks/Python.framework/Versions/3.9/lib/python3.9/site-packages (from datasets) (3.8.4)\n",
      "Requirement already satisfied: responses<0.19 in /Library/Frameworks/Python.framework/Versions/3.9/lib/python3.9/site-packages (from datasets) (0.18.0)\n",
      "Requirement already satisfied: attrs>=17.3.0 in /Library/Frameworks/Python.framework/Versions/3.9/lib/python3.9/site-packages (from aiohttp->datasets) (22.2.0)\n",
      "Requirement already satisfied: charset-normalizer<4.0,>=2.0 in /Library/Frameworks/Python.framework/Versions/3.9/lib/python3.9/site-packages (from aiohttp->datasets) (3.0.1)\n",
      "Requirement already satisfied: multidict<7.0,>=4.5 in /Library/Frameworks/Python.framework/Versions/3.9/lib/python3.9/site-packages (from aiohttp->datasets) (6.0.4)\n",
      "Requirement already satisfied: async-timeout<5.0,>=4.0.0a3 in /Library/Frameworks/Python.framework/Versions/3.9/lib/python3.9/site-packages (from aiohttp->datasets) (4.0.2)\n",
      "Requirement already satisfied: yarl<2.0,>=1.0 in /Library/Frameworks/Python.framework/Versions/3.9/lib/python3.9/site-packages (from aiohttp->datasets) (1.8.2)\n",
      "Requirement already satisfied: frozenlist>=1.1.1 in /Library/Frameworks/Python.framework/Versions/3.9/lib/python3.9/site-packages (from aiohttp->datasets) (1.3.3)\n",
      "Requirement already satisfied: aiosignal>=1.1.2 in /Library/Frameworks/Python.framework/Versions/3.9/lib/python3.9/site-packages (from aiohttp->datasets) (1.3.1)\n",
      "Requirement already satisfied: typing-extensions>=3.7.4.3 in /Library/Frameworks/Python.framework/Versions/3.9/lib/python3.9/site-packages (from huggingface-hub<1.0,>=0.11.0->transformers) (4.5.0)\n",
      "Requirement already satisfied: idna<4,>=2.5 in /Library/Frameworks/Python.framework/Versions/3.9/lib/python3.9/site-packages (from requests->transformers) (3.4)\n",
      "Requirement already satisfied: urllib3<1.27,>=1.21.1 in /Library/Frameworks/Python.framework/Versions/3.9/lib/python3.9/site-packages (from requests->transformers) (1.26.14)\n",
      "Requirement already satisfied: certifi>=2017.4.17 in /Library/Frameworks/Python.framework/Versions/3.9/lib/python3.9/site-packages (from requests->transformers) (2022.9.24)\n",
      "Requirement already satisfied: python-dateutil>=2.8.1 in /Library/Frameworks/Python.framework/Versions/3.9/lib/python3.9/site-packages (from pandas->datasets) (2.8.2)\n",
      "Requirement already satisfied: pytz>=2020.1 in /Library/Frameworks/Python.framework/Versions/3.9/lib/python3.9/site-packages (from pandas->datasets) (2022.7.1)\n",
      "Requirement already satisfied: six>=1.5 in /Library/Frameworks/Python.framework/Versions/3.9/lib/python3.9/site-packages (from python-dateutil>=2.8.1->pandas->datasets) (1.16.0)\n"
     ]
    }
   ],
   "source": [
    "!pip install transformers datasets evaluate\n"
   ]
  },
  {
   "cell_type": "code",
   "execution_count": 61,
   "id": "318ed955-e8a6-4f68-8610-0912bcb5bc4e",
   "metadata": {},
   "outputs": [],
   "source": [
    "import numpy as np\n",
    "from sklearn.model_selection import train_test_split"
   ]
  },
  {
   "cell_type": "code",
   "execution_count": 62,
   "id": "b587c7bc-5be5-41f2-a63e-d0bb2964c4fa",
   "metadata": {
    "tags": []
   },
   "outputs": [
    {
     "data": {
      "text/html": [
       "<div>\n",
       "<style scoped>\n",
       "    .dataframe tbody tr th:only-of-type {\n",
       "        vertical-align: middle;\n",
       "    }\n",
       "\n",
       "    .dataframe tbody tr th {\n",
       "        vertical-align: top;\n",
       "    }\n",
       "\n",
       "    .dataframe thead th {\n",
       "        text-align: right;\n",
       "    }\n",
       "</style>\n",
       "<table border=\"1\" class=\"dataframe\">\n",
       "  <thead>\n",
       "    <tr style=\"text-align: right;\">\n",
       "      <th></th>\n",
       "      <th>Movie ID</th>\n",
       "      <th>Movie Category</th>\n",
       "      <th>Summary</th>\n",
       "    </tr>\n",
       "  </thead>\n",
       "  <tbody>\n",
       "    <tr>\n",
       "      <th>0</th>\n",
       "      <td>975900</td>\n",
       "      <td>Thriller</td>\n",
       "      <td>Set in the second half of the 22nd century, th...</td>\n",
       "    </tr>\n",
       "    <tr>\n",
       "      <th>1</th>\n",
       "      <td>975900</td>\n",
       "      <td>Science</td>\n",
       "      <td>Set in the second half of the 22nd century, th...</td>\n",
       "    </tr>\n",
       "    <tr>\n",
       "      <th>2</th>\n",
       "      <td>975900</td>\n",
       "      <td>Horror</td>\n",
       "      <td>Set in the second half of the 22nd century, th...</td>\n",
       "    </tr>\n",
       "    <tr>\n",
       "      <th>3</th>\n",
       "      <td>975900</td>\n",
       "      <td>Action</td>\n",
       "      <td>Set in the second half of the 22nd century, th...</td>\n",
       "    </tr>\n",
       "    <tr>\n",
       "      <th>4</th>\n",
       "      <td>9363483</td>\n",
       "      <td>Thriller</td>\n",
       "      <td>A series of murders of rich young women throug...</td>\n",
       "    </tr>\n",
       "    <tr>\n",
       "      <th>...</th>\n",
       "      <td>...</td>\n",
       "      <td>...</td>\n",
       "      <td>...</td>\n",
       "    </tr>\n",
       "    <tr>\n",
       "      <th>19170</th>\n",
       "      <td>24409284</td>\n",
       "      <td>Thriller</td>\n",
       "      <td>Suresh Gopi plays the role of Vishwam, a man w...</td>\n",
       "    </tr>\n",
       "    <tr>\n",
       "      <th>19171</th>\n",
       "      <td>24409284</td>\n",
       "      <td>Crime</td>\n",
       "      <td>Suresh Gopi plays the role of Vishwam, a man w...</td>\n",
       "    </tr>\n",
       "    <tr>\n",
       "      <th>19172</th>\n",
       "      <td>8623704</td>\n",
       "      <td>Comedy</td>\n",
       "      <td>Desperate to pay their rent, the Stooges get s...</td>\n",
       "    </tr>\n",
       "    <tr>\n",
       "      <th>19173</th>\n",
       "      <td>19270580</td>\n",
       "      <td>Romance</td>\n",
       "      <td>The focus is on hero Raj  and not so much on t...</td>\n",
       "    </tr>\n",
       "    <tr>\n",
       "      <th>19174</th>\n",
       "      <td>17672486</td>\n",
       "      <td>Romance</td>\n",
       "      <td>Patrick Martin , known as P.M., is a wealthy a...</td>\n",
       "    </tr>\n",
       "  </tbody>\n",
       "</table>\n",
       "<p>19175 rows × 3 columns</p>\n",
       "</div>"
      ],
      "text/plain": [
       "       Movie ID Movie Category  \\\n",
       "0        975900       Thriller   \n",
       "1        975900        Science   \n",
       "2        975900         Horror   \n",
       "3        975900         Action   \n",
       "4       9363483       Thriller   \n",
       "...         ...            ...   \n",
       "19170  24409284       Thriller   \n",
       "19171  24409284          Crime   \n",
       "19172   8623704         Comedy   \n",
       "19173  19270580        Romance   \n",
       "19174  17672486        Romance   \n",
       "\n",
       "                                                 Summary  \n",
       "0      Set in the second half of the 22nd century, th...  \n",
       "1      Set in the second half of the 22nd century, th...  \n",
       "2      Set in the second half of the 22nd century, th...  \n",
       "3      Set in the second half of the 22nd century, th...  \n",
       "4      A series of murders of rich young women throug...  \n",
       "...                                                  ...  \n",
       "19170  Suresh Gopi plays the role of Vishwam, a man w...  \n",
       "19171  Suresh Gopi plays the role of Vishwam, a man w...  \n",
       "19172  Desperate to pay their rent, the Stooges get s...  \n",
       "19173  The focus is on hero Raj  and not so much on t...  \n",
       "19174  Patrick Martin , known as P.M., is a wealthy a...  \n",
       "\n",
       "[19175 rows x 3 columns]"
      ]
     },
     "execution_count": 62,
     "metadata": {},
     "output_type": "execute_result"
    }
   ],
   "source": [
    "movie_category_summary"
   ]
  },
  {
   "cell_type": "code",
   "execution_count": 63,
   "id": "d8b59bad-dbfb-49de-b7d8-ec20dacdf247",
   "metadata": {},
   "outputs": [],
   "source": [
    "summary = list(movie_category_summary['Summary'].values)\n",
    "label = list(movie_category_summary['Movie Category'].values)\n",
    "label_idx = {\"Comedy\": 0, \"Romance\": 1, \"Action\": 2, \"Thriller\": 3, \"Horror\": 4, \"Crime\": 5, \"Science\": 6, \"Fantasy\": 7}\n",
    "label = [label_idx[l] for l in label]"
   ]
  },
  {
   "cell_type": "code",
   "execution_count": 64,
   "id": "6ff387c0-7a67-49f8-b6fb-d3e27062bd7f",
   "metadata": {},
   "outputs": [],
   "source": [
    "X_temp, X_test, y_temp, y_test = train_test_split(summary, label, test_size=0.2, random_state=42, stratify=label)"
   ]
  },
  {
   "cell_type": "code",
   "execution_count": 65,
   "id": "45abe34b-86f1-4c31-a108-1806f3083548",
   "metadata": {},
   "outputs": [],
   "source": [
    "X_train, X_val, y_train, y_val = train_test_split(X_temp, y_temp, test_size=0.2, random_state=42, stratify=y_temp)"
   ]
  },
  {
   "cell_type": "code",
   "execution_count": 35,
   "id": "81b653be-01b1-43de-9915-6d3df469ee5b",
   "metadata": {
    "collapsed": true,
    "jupyter": {
     "outputs_hidden": true
    },
    "tags": []
   },
   "outputs": [
    {
     "name": "stderr",
     "output_type": "stream",
     "text": [
      "/Users/kexinchen/Library/Python/3.9/lib/python/site-packages/tqdm/auto.py:22: TqdmWarning: IProgress not found. Please update jupyter and ipywidgets. See https://ipywidgets.readthedocs.io/en/stable/user_install.html\n",
      "  from .autonotebook import tqdm as notebook_tqdm\n"
     ]
    }
   ],
   "source": [
    "from transformers import AutoTokenizer, XLNetForSequenceClassification\n",
    "tokenizer = AutoTokenizer.from_pretrained(\"xlnet-base-cased\")\n"
   ]
  },
  {
   "cell_type": "code",
   "execution_count": 66,
   "id": "8c501698-39f7-471f-9f86-2e8600d07170",
   "metadata": {
    "tags": []
   },
   "outputs": [
    {
     "data": {
      "text/plain": [
       "DistilBertTokenizerFast(name_or_path='distilbert-base-uncased', vocab_size=30522, model_max_length=512, is_fast=True, padding_side='right', truncation_side='right', special_tokens={'unk_token': '[UNK]', 'sep_token': '[SEP]', 'pad_token': '[PAD]', 'cls_token': '[CLS]', 'mask_token': '[MASK]'}, clean_up_tokenization_spaces=True)"
      ]
     },
     "execution_count": 66,
     "metadata": {},
     "output_type": "execute_result"
    }
   ],
   "source": [
    "from transformers import DistilBertTokenizerFast, DistilBertConfig\n",
    "tokenizer = DistilBertTokenizerFast.from_pretrained(pretrained_model_name_or_path='distilbert-base-uncased')\n",
    "tokenizer"
   ]
  },
  {
   "cell_type": "code",
   "execution_count": 68,
   "id": "7424c1ee-0bf2-45ec-8973-33f4b3732a1c",
   "metadata": {},
   "outputs": [],
   "source": [
    "train_encodings = tokenizer(X_train, truncation=True, padding=True)\n",
    "val_encodings = tokenizer(X_val, truncation=True, padding=True)\n",
    "test_encodings = tokenizer(X_test, truncation=True, padding=True)"
   ]
  },
  {
   "cell_type": "code",
   "execution_count": 69,
   "id": "3e8da458-15b5-4e0a-a4a7-c031d583737f",
   "metadata": {},
   "outputs": [],
   "source": [
    "import torch\n",
    "\n",
    "class MovieDataset(torch.utils.data.Dataset):\n",
    "    def __init__(self, encodings, labels):\n",
    "        self.encodings = encodings\n",
    "        self.labels = labels\n",
    "\n",
    "    def __getitem__(self, idx):\n",
    "        item = {key: torch.tensor(val[idx]) for key, val in self.encodings.items()}\n",
    "        item['labels'] = torch.tensor(self.labels[idx])\n",
    "        return item\n",
    "\n",
    "    def __len__(self):\n",
    "        return len(self.labels)\n",
    "\n",
    "train_dataset = MovieDataset(train_encodings, y_train)\n",
    "val_dataset = MovieDataset(val_encodings, y_val)\n",
    "test_dataset = MovieDataset(test_encodings, y_test)"
   ]
  },
  {
   "cell_type": "code",
   "execution_count": 75,
   "id": "097a9b78-3a0d-404d-9601-bcdeb717cb51",
   "metadata": {
    "collapsed": true,
    "jupyter": {
     "outputs_hidden": true
    },
    "tags": []
   },
   "outputs": [
    {
     "data": {
      "text/plain": [
       "{'input_ids': tensor([  101, 19817,  9626,  3077,  1005,  1055,  4517, 13308,  2038,  2042,\n",
       "          7183,  1998,  1996, 16371, 27052,  8067,  3840,  2008,  6787,  2009,\n",
       "          2038,  5100,  1037,  2047,  2267,  1010,  1996, 19817,  9626,  3077,\n",
       "          2820,  1997,  2974,  1010,  2503,  1996,  2640,  1010,  2004,  2019,\n",
       "          3947,  2000,  2012,  5643,  2005,  1996,  2824,  1997,  1996,  2034,\n",
       "          2143,  1012,  2284,  2503,  1996,  4517,  3269,  1010,  2003,  2073,\n",
       "          2934, 12621,  2040,  2038,  3819,  2098,  1037,  2679,  1997,  1005,\n",
       "          4942,  1011, 28051,  2015,  1005,  1025,  2542,  9552,  2302,  6699,\n",
       "          1010,  2040,  2031,  2042,  2580,  1998, 16984,  2000,  4685,  2273,\n",
       "          4818,  8518,  1012,  2043,  2082,  6398,  5074,  3044,  6010,  1037,\n",
       "          3376,  4942, 28600,  6761,  3593,  2315,  3848,  1010,  2027,  2991,\n",
       "          1999,  2293,  1012,  2174,  1010,  1996,  7329,  2031,  1037, 11765,\n",
       "          2000,  2175,  2046, 17630, 14899,  7698,  1012,  5074,  2003,  2085,\n",
       "          4340,  2000,  3828,  3848,  2013,  2023, 18307,  6580,  1010,  2021,\n",
       "          2034,  2002,  1005,  2222,  2031,  2000,  2227,  1996,  5016, 15527,\n",
       "         18197,  1010, 19817, 20936,  2063,  1010,  2040,  4491, 19817,  9626,\n",
       "          3077,  6627,  1999,  1996, 14463,  1012,  1037,  2353,  2143,  1010,\n",
       "          2465,  1997, 16371,  3489,  1005,  7861,  2152,  1017,  1024,  1996,\n",
       "          2204,  1010,  1996,  2919,  1998,  1996,  4942, 28600,  6761,  3593,\n",
       "          1010,  2001,  2207,  1999,  2807,  1012,   102,     0,     0,     0,\n",
       "             0,     0,     0,     0,     0,     0,     0,     0,     0,     0,\n",
       "             0,     0,     0,     0,     0,     0,     0,     0,     0,     0,\n",
       "             0,     0,     0,     0,     0,     0,     0,     0,     0,     0,\n",
       "             0,     0,     0,     0,     0,     0,     0,     0,     0,     0,\n",
       "             0,     0,     0,     0,     0,     0,     0,     0,     0,     0,\n",
       "             0,     0,     0,     0,     0,     0,     0,     0,     0,     0,\n",
       "             0,     0,     0,     0,     0,     0,     0,     0,     0,     0,\n",
       "             0,     0,     0,     0,     0,     0,     0,     0,     0,     0,\n",
       "             0,     0,     0,     0,     0,     0,     0,     0,     0,     0,\n",
       "             0,     0,     0,     0,     0,     0,     0,     0,     0,     0,\n",
       "             0,     0,     0,     0,     0,     0,     0,     0,     0,     0,\n",
       "             0,     0,     0,     0,     0,     0,     0,     0,     0,     0,\n",
       "             0,     0,     0,     0,     0,     0,     0,     0,     0,     0,\n",
       "             0,     0,     0,     0,     0,     0,     0,     0,     0,     0,\n",
       "             0,     0,     0,     0,     0,     0,     0,     0,     0,     0,\n",
       "             0,     0,     0,     0,     0,     0,     0,     0,     0,     0,\n",
       "             0,     0,     0,     0,     0,     0,     0,     0,     0,     0,\n",
       "             0,     0,     0,     0,     0,     0,     0,     0,     0,     0,\n",
       "             0,     0,     0,     0,     0,     0,     0,     0,     0,     0,\n",
       "             0,     0,     0,     0,     0,     0,     0,     0,     0,     0,\n",
       "             0,     0,     0,     0,     0,     0,     0,     0,     0,     0,\n",
       "             0,     0,     0,     0,     0,     0,     0,     0,     0,     0,\n",
       "             0,     0,     0,     0,     0,     0,     0,     0,     0,     0,\n",
       "             0,     0,     0,     0,     0,     0,     0,     0,     0,     0,\n",
       "             0,     0,     0,     0,     0,     0,     0,     0,     0,     0,\n",
       "             0,     0,     0,     0,     0,     0,     0,     0,     0,     0,\n",
       "             0,     0,     0,     0,     0,     0,     0,     0,     0,     0,\n",
       "             0,     0,     0,     0,     0,     0,     0,     0,     0,     0,\n",
       "             0,     0,     0,     0,     0,     0,     0,     0,     0,     0,\n",
       "             0,     0,     0,     0,     0,     0,     0,     0,     0,     0,\n",
       "             0,     0,     0,     0,     0,     0,     0,     0,     0,     0,\n",
       "             0,     0]),\n",
       " 'attention_mask': tensor([1, 1, 1, 1, 1, 1, 1, 1, 1, 1, 1, 1, 1, 1, 1, 1, 1, 1, 1, 1, 1, 1, 1, 1,\n",
       "         1, 1, 1, 1, 1, 1, 1, 1, 1, 1, 1, 1, 1, 1, 1, 1, 1, 1, 1, 1, 1, 1, 1, 1,\n",
       "         1, 1, 1, 1, 1, 1, 1, 1, 1, 1, 1, 1, 1, 1, 1, 1, 1, 1, 1, 1, 1, 1, 1, 1,\n",
       "         1, 1, 1, 1, 1, 1, 1, 1, 1, 1, 1, 1, 1, 1, 1, 1, 1, 1, 1, 1, 1, 1, 1, 1,\n",
       "         1, 1, 1, 1, 1, 1, 1, 1, 1, 1, 1, 1, 1, 1, 1, 1, 1, 1, 1, 1, 1, 1, 1, 1,\n",
       "         1, 1, 1, 1, 1, 1, 1, 1, 1, 1, 1, 1, 1, 1, 1, 1, 1, 1, 1, 1, 1, 1, 1, 1,\n",
       "         1, 1, 1, 1, 1, 1, 1, 1, 1, 1, 1, 1, 1, 1, 1, 1, 1, 1, 1, 1, 1, 1, 1, 1,\n",
       "         1, 1, 1, 1, 1, 1, 1, 1, 1, 1, 1, 1, 1, 1, 1, 1, 1, 1, 1, 1, 1, 1, 1, 1,\n",
       "         1, 1, 1, 1, 1, 0, 0, 0, 0, 0, 0, 0, 0, 0, 0, 0, 0, 0, 0, 0, 0, 0, 0, 0,\n",
       "         0, 0, 0, 0, 0, 0, 0, 0, 0, 0, 0, 0, 0, 0, 0, 0, 0, 0, 0, 0, 0, 0, 0, 0,\n",
       "         0, 0, 0, 0, 0, 0, 0, 0, 0, 0, 0, 0, 0, 0, 0, 0, 0, 0, 0, 0, 0, 0, 0, 0,\n",
       "         0, 0, 0, 0, 0, 0, 0, 0, 0, 0, 0, 0, 0, 0, 0, 0, 0, 0, 0, 0, 0, 0, 0, 0,\n",
       "         0, 0, 0, 0, 0, 0, 0, 0, 0, 0, 0, 0, 0, 0, 0, 0, 0, 0, 0, 0, 0, 0, 0, 0,\n",
       "         0, 0, 0, 0, 0, 0, 0, 0, 0, 0, 0, 0, 0, 0, 0, 0, 0, 0, 0, 0, 0, 0, 0, 0,\n",
       "         0, 0, 0, 0, 0, 0, 0, 0, 0, 0, 0, 0, 0, 0, 0, 0, 0, 0, 0, 0, 0, 0, 0, 0,\n",
       "         0, 0, 0, 0, 0, 0, 0, 0, 0, 0, 0, 0, 0, 0, 0, 0, 0, 0, 0, 0, 0, 0, 0, 0,\n",
       "         0, 0, 0, 0, 0, 0, 0, 0, 0, 0, 0, 0, 0, 0, 0, 0, 0, 0, 0, 0, 0, 0, 0, 0,\n",
       "         0, 0, 0, 0, 0, 0, 0, 0, 0, 0, 0, 0, 0, 0, 0, 0, 0, 0, 0, 0, 0, 0, 0, 0,\n",
       "         0, 0, 0, 0, 0, 0, 0, 0, 0, 0, 0, 0, 0, 0, 0, 0, 0, 0, 0, 0, 0, 0, 0, 0,\n",
       "         0, 0, 0, 0, 0, 0, 0, 0, 0, 0, 0, 0, 0, 0, 0, 0, 0, 0, 0, 0, 0, 0, 0, 0,\n",
       "         0, 0, 0, 0, 0, 0, 0, 0, 0, 0, 0, 0, 0, 0, 0, 0, 0, 0, 0, 0, 0, 0, 0, 0,\n",
       "         0, 0, 0, 0, 0, 0, 0, 0]),\n",
       " 'labels': tensor(6)}"
      ]
     },
     "execution_count": 75,
     "metadata": {},
     "output_type": "execute_result"
    }
   ],
   "source": [
    "train_dataset[1]"
   ]
  },
  {
   "cell_type": "code",
   "execution_count": 71,
   "id": "d114c96e-f4b8-4b7d-9649-9316fb0bc472",
   "metadata": {
    "collapsed": true,
    "jupyter": {
     "outputs_hidden": true
    },
    "tags": []
   },
   "outputs": [
    {
     "name": "stderr",
     "output_type": "stream",
     "text": [
      "Some weights of the model checkpoint at xlnet-base-cased were not used when initializing XLNetForSequenceClassification: ['lm_loss.bias', 'lm_loss.weight']\n",
      "- This IS expected if you are initializing XLNetForSequenceClassification from the checkpoint of a model trained on another task or with another architecture (e.g. initializing a BertForSequenceClassification model from a BertForPreTraining model).\n",
      "- This IS NOT expected if you are initializing XLNetForSequenceClassification from the checkpoint of a model that you expect to be exactly identical (initializing a BertForSequenceClassification model from a BertForSequenceClassification model).\n",
      "Some weights of XLNetForSequenceClassification were not initialized from the model checkpoint at xlnet-base-cased and are newly initialized: ['sequence_summary.summary.bias', 'logits_proj.weight', 'sequence_summary.summary.weight', 'logits_proj.bias']\n",
      "You should probably TRAIN this model on a down-stream task to be able to use it for predictions and inference.\n"
     ]
    }
   ],
   "source": [
    "model = XLNetForSequenceClassification.from_pretrained(\"xlnet-base-cased\", problem_type=\"multi_label_classification\")"
   ]
  },
  {
   "cell_type": "code",
   "execution_count": 76,
   "id": "18725028-c436-4bf9-a8bd-2a36f47bbf6e",
   "metadata": {
    "tags": []
   },
   "outputs": [
    {
     "name": "stderr",
     "output_type": "stream",
     "text": [
      "Some weights of the model checkpoint at distilbert-base-uncased were not used when initializing DistilBertForSequenceClassification: ['vocab_transform.weight', 'vocab_transform.bias', 'vocab_projector.weight', 'vocab_layer_norm.weight', 'vocab_layer_norm.bias', 'vocab_projector.bias']\n",
      "- This IS expected if you are initializing DistilBertForSequenceClassification from the checkpoint of a model trained on another task or with another architecture (e.g. initializing a BertForSequenceClassification model from a BertForPreTraining model).\n",
      "- This IS NOT expected if you are initializing DistilBertForSequenceClassification from the checkpoint of a model that you expect to be exactly identical (initializing a BertForSequenceClassification model from a BertForSequenceClassification model).\n",
      "Some weights of DistilBertForSequenceClassification were not initialized from the model checkpoint at distilbert-base-uncased and are newly initialized: ['pre_classifier.bias', 'classifier.weight', 'pre_classifier.weight', 'classifier.bias']\n",
      "You should probably TRAIN this model on a down-stream task to be able to use it for predictions and inference.\n"
     ]
    },
    {
     "ename": "KeyboardInterrupt",
     "evalue": "",
     "output_type": "error",
     "traceback": [
      "\u001b[0;31m---------------------------------------------------------------------------\u001b[0m",
      "\u001b[0;31mKeyboardInterrupt\u001b[0m                         Traceback (most recent call last)",
      "Cell \u001b[0;32mIn[76], line 22\u001b[0m\n\u001b[1;32m     20\u001b[0m         outputs \u001b[38;5;241m=\u001b[39m model(input_ids, attention_mask\u001b[38;5;241m=\u001b[39mattention_mask, labels\u001b[38;5;241m=\u001b[39mlabels)\n\u001b[1;32m     21\u001b[0m         loss \u001b[38;5;241m=\u001b[39m outputs[\u001b[38;5;241m0\u001b[39m]\n\u001b[0;32m---> 22\u001b[0m         \u001b[43mloss\u001b[49m\u001b[38;5;241;43m.\u001b[39;49m\u001b[43mbackward\u001b[49m\u001b[43m(\u001b[49m\u001b[43m)\u001b[49m\n\u001b[1;32m     23\u001b[0m         optim\u001b[38;5;241m.\u001b[39mstep()\n\u001b[1;32m     25\u001b[0m model\u001b[38;5;241m.\u001b[39meval()\n",
      "File \u001b[0;32m/Library/Frameworks/Python.framework/Versions/3.9/lib/python3.9/site-packages/torch/_tensor.py:488\u001b[0m, in \u001b[0;36mTensor.backward\u001b[0;34m(self, gradient, retain_graph, create_graph, inputs)\u001b[0m\n\u001b[1;32m    478\u001b[0m \u001b[38;5;28;01mif\u001b[39;00m has_torch_function_unary(\u001b[38;5;28mself\u001b[39m):\n\u001b[1;32m    479\u001b[0m     \u001b[38;5;28;01mreturn\u001b[39;00m handle_torch_function(\n\u001b[1;32m    480\u001b[0m         Tensor\u001b[38;5;241m.\u001b[39mbackward,\n\u001b[1;32m    481\u001b[0m         (\u001b[38;5;28mself\u001b[39m,),\n\u001b[0;32m   (...)\u001b[0m\n\u001b[1;32m    486\u001b[0m         inputs\u001b[38;5;241m=\u001b[39minputs,\n\u001b[1;32m    487\u001b[0m     )\n\u001b[0;32m--> 488\u001b[0m \u001b[43mtorch\u001b[49m\u001b[38;5;241;43m.\u001b[39;49m\u001b[43mautograd\u001b[49m\u001b[38;5;241;43m.\u001b[39;49m\u001b[43mbackward\u001b[49m\u001b[43m(\u001b[49m\n\u001b[1;32m    489\u001b[0m \u001b[43m    \u001b[49m\u001b[38;5;28;43mself\u001b[39;49m\u001b[43m,\u001b[49m\u001b[43m \u001b[49m\u001b[43mgradient\u001b[49m\u001b[43m,\u001b[49m\u001b[43m \u001b[49m\u001b[43mretain_graph\u001b[49m\u001b[43m,\u001b[49m\u001b[43m \u001b[49m\u001b[43mcreate_graph\u001b[49m\u001b[43m,\u001b[49m\u001b[43m \u001b[49m\u001b[43minputs\u001b[49m\u001b[38;5;241;43m=\u001b[39;49m\u001b[43minputs\u001b[49m\n\u001b[1;32m    490\u001b[0m \u001b[43m\u001b[49m\u001b[43m)\u001b[49m\n",
      "File \u001b[0;32m/Library/Frameworks/Python.framework/Versions/3.9/lib/python3.9/site-packages/torch/autograd/__init__.py:197\u001b[0m, in \u001b[0;36mbackward\u001b[0;34m(tensors, grad_tensors, retain_graph, create_graph, grad_variables, inputs)\u001b[0m\n\u001b[1;32m    192\u001b[0m     retain_graph \u001b[38;5;241m=\u001b[39m create_graph\n\u001b[1;32m    194\u001b[0m \u001b[38;5;66;03m# The reason we repeat same the comment below is that\u001b[39;00m\n\u001b[1;32m    195\u001b[0m \u001b[38;5;66;03m# some Python versions print out the first line of a multi-line function\u001b[39;00m\n\u001b[1;32m    196\u001b[0m \u001b[38;5;66;03m# calls in the traceback and some print out the last line\u001b[39;00m\n\u001b[0;32m--> 197\u001b[0m \u001b[43mVariable\u001b[49m\u001b[38;5;241;43m.\u001b[39;49m\u001b[43m_execution_engine\u001b[49m\u001b[38;5;241;43m.\u001b[39;49m\u001b[43mrun_backward\u001b[49m\u001b[43m(\u001b[49m\u001b[43m  \u001b[49m\u001b[38;5;66;43;03m# Calls into the C++ engine to run the backward pass\u001b[39;49;00m\n\u001b[1;32m    198\u001b[0m \u001b[43m    \u001b[49m\u001b[43mtensors\u001b[49m\u001b[43m,\u001b[49m\u001b[43m \u001b[49m\u001b[43mgrad_tensors_\u001b[49m\u001b[43m,\u001b[49m\u001b[43m \u001b[49m\u001b[43mretain_graph\u001b[49m\u001b[43m,\u001b[49m\u001b[43m \u001b[49m\u001b[43mcreate_graph\u001b[49m\u001b[43m,\u001b[49m\u001b[43m \u001b[49m\u001b[43minputs\u001b[49m\u001b[43m,\u001b[49m\n\u001b[1;32m    199\u001b[0m \u001b[43m    \u001b[49m\u001b[43mallow_unreachable\u001b[49m\u001b[38;5;241;43m=\u001b[39;49m\u001b[38;5;28;43;01mTrue\u001b[39;49;00m\u001b[43m,\u001b[49m\u001b[43m \u001b[49m\u001b[43maccumulate_grad\u001b[49m\u001b[38;5;241;43m=\u001b[39;49m\u001b[38;5;28;43;01mTrue\u001b[39;49;00m\u001b[43m)\u001b[49m\n",
      "\u001b[0;31mKeyboardInterrupt\u001b[0m: "
     ]
    }
   ],
   "source": [
    "from torch.utils.data import DataLoader\n",
    "from transformers import DistilBertForSequenceClassification, AdamW\n",
    "\n",
    "device = torch.device(\"mps\")\n",
    "\n",
    "model = DistilBertForSequenceClassification.from_pretrained('distilbert-base-uncased')\n",
    "model.to(device)\n",
    "model.train()\n",
    "\n",
    "train_loader = DataLoader(train_dataset, batch_size=16, shuffle=True)\n",
    "\n",
    "optim = AdamW(model.parameters(), lr=5e-5)\n",
    "\n",
    "for epoch in range(3):\n",
    "    for batch in train_loader:\n",
    "        optim.zero_grad()\n",
    "        input_ids = batch['input_ids'].to(device)\n",
    "        attention_mask = batch['attention_mask'].to(device)\n",
    "        labels = batch['labels'].to(device)\n",
    "        outputs = model(input_ids, attention_mask=attention_mask, labels=labels)\n",
    "        loss = outputs[0]\n",
    "        loss.backward()\n",
    "        optim.step()\n",
    "\n",
    "model.eval()"
   ]
  },
  {
   "cell_type": "code",
   "execution_count": null,
   "id": "8391acbc-c7fa-428c-a5bf-41fa3289f92c",
   "metadata": {},
   "outputs": [],
   "source": []
  }
 ],
 "metadata": {
  "kernelspec": {
   "display_name": "Python 3 (ipykernel)",
   "language": "python",
   "name": "python3"
  },
  "language_info": {
   "codemirror_mode": {
    "name": "ipython",
    "version": 3
   },
   "file_extension": ".py",
   "mimetype": "text/x-python",
   "name": "python",
   "nbconvert_exporter": "python",
   "pygments_lexer": "ipython3",
   "version": "3.9.1"
  }
 },
 "nbformat": 4,
 "nbformat_minor": 5
}
