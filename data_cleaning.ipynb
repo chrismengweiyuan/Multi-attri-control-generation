{
 "cells": [
  {
   "cell_type": "code",
   "execution_count": 1,
   "metadata": {
    "collapsed": true
   },
   "outputs": [],
   "source": [
    "import pandas as pd\n",
    "import numpy as np\n",
    "from rake_nltk import Rake"
   ]
  },
  {
   "cell_type": "code",
   "execution_count": 3,
   "outputs": [],
   "source": [
    "mainPath = 'C:/Users/limoy/OneDrive/Desktop/544_project/datasets/CMU movies/MovieSummaries/MovieSummaries/'"
   ],
   "metadata": {
    "collapsed": false
   }
  },
  {
   "cell_type": "code",
   "execution_count": 4,
   "outputs": [
    {
     "data": {
      "text/plain": "    movie_id                                         movie_name  \\\n0     975900                                     Ghosts of Mars   \n1    3196793  Getting Away with Murder: The JonBenét Ramsey ...   \n2   28463795                                        Brun bitter   \n3    9363483                                   White Of The Eye   \n4     261236                                  A Woman in Flames   \n5   13696889                                      The Gangsters   \n6   18998739                          The Sorcerer's Apprentice   \n7   10408933                           Alexander's Ragtime Band   \n8    9997961                                     Contigo y aquí   \n9    2345652                                   City of the Dead   \n10    175026                                      Sarah and Son   \n11  24229100           Lady Snowblood 2: Love Song of Vengeance   \n12   6631279                                        Little city   \n13    171005                                            Henry V   \n14  18296435                                       Aaah Belinda   \n\n                                                genre  \n0   {\"/m/01jfsb\": \"Thriller\", \"/m/06n90\": \"Science...  \n1   {\"/m/02n4kr\": \"Mystery\", \"/m/03bxz7\": \"Biograp...  \n2   {\"/m/0lsxr\": \"Crime Fiction\", \"/m/07s9rl0\": \"D...  \n3   {\"/m/01jfsb\": \"Thriller\", \"/m/0glj9q\": \"Erotic...  \n4                             {\"/m/07s9rl0\": \"Drama\"}  \n5   {\"/m/02hmvc\": \"Short Film\", \"/m/06ppq\": \"Silen...  \n6   {\"/m/0hqxf\": \"Family Film\", \"/m/01hmnh\": \"Fant...  \n7   {\"/m/04t36\": \"Musical\", \"/m/01z4y\": \"Comedy\", ...  \n8   {\"/m/04t36\": \"Musical\", \"/m/07s9rl0\": \"Drama\",...  \n9   {\"/m/03npn\": \"Horror\", \"/m/0fdjb\": \"Supernatur...  \n10  {\"/m/07s9rl0\": \"Drama\", \"/m/01g6gs\": \"Black-an...  \n11  {\"/m/0lsxr\": \"Crime Fiction\", \"/m/01jfsb\": \"Th...  \n12  {\"/m/06cvj\": \"Romantic comedy\", \"/m/0hj3n0w\": ...  \n13  {\"/m/04xvh5\": \"Costume drama\", \"/m/082gq\": \"Wa...  \n14                             {\"/m/01z4y\": \"Comedy\"}  ",
      "text/html": "<div>\n<style scoped>\n    .dataframe tbody tr th:only-of-type {\n        vertical-align: middle;\n    }\n\n    .dataframe tbody tr th {\n        vertical-align: top;\n    }\n\n    .dataframe thead th {\n        text-align: right;\n    }\n</style>\n<table border=\"1\" class=\"dataframe\">\n  <thead>\n    <tr style=\"text-align: right;\">\n      <th></th>\n      <th>movie_id</th>\n      <th>movie_name</th>\n      <th>genre</th>\n    </tr>\n  </thead>\n  <tbody>\n    <tr>\n      <th>0</th>\n      <td>975900</td>\n      <td>Ghosts of Mars</td>\n      <td>{\"/m/01jfsb\": \"Thriller\", \"/m/06n90\": \"Science...</td>\n    </tr>\n    <tr>\n      <th>1</th>\n      <td>3196793</td>\n      <td>Getting Away with Murder: The JonBenét Ramsey ...</td>\n      <td>{\"/m/02n4kr\": \"Mystery\", \"/m/03bxz7\": \"Biograp...</td>\n    </tr>\n    <tr>\n      <th>2</th>\n      <td>28463795</td>\n      <td>Brun bitter</td>\n      <td>{\"/m/0lsxr\": \"Crime Fiction\", \"/m/07s9rl0\": \"D...</td>\n    </tr>\n    <tr>\n      <th>3</th>\n      <td>9363483</td>\n      <td>White Of The Eye</td>\n      <td>{\"/m/01jfsb\": \"Thriller\", \"/m/0glj9q\": \"Erotic...</td>\n    </tr>\n    <tr>\n      <th>4</th>\n      <td>261236</td>\n      <td>A Woman in Flames</td>\n      <td>{\"/m/07s9rl0\": \"Drama\"}</td>\n    </tr>\n    <tr>\n      <th>5</th>\n      <td>13696889</td>\n      <td>The Gangsters</td>\n      <td>{\"/m/02hmvc\": \"Short Film\", \"/m/06ppq\": \"Silen...</td>\n    </tr>\n    <tr>\n      <th>6</th>\n      <td>18998739</td>\n      <td>The Sorcerer's Apprentice</td>\n      <td>{\"/m/0hqxf\": \"Family Film\", \"/m/01hmnh\": \"Fant...</td>\n    </tr>\n    <tr>\n      <th>7</th>\n      <td>10408933</td>\n      <td>Alexander's Ragtime Band</td>\n      <td>{\"/m/04t36\": \"Musical\", \"/m/01z4y\": \"Comedy\", ...</td>\n    </tr>\n    <tr>\n      <th>8</th>\n      <td>9997961</td>\n      <td>Contigo y aquí</td>\n      <td>{\"/m/04t36\": \"Musical\", \"/m/07s9rl0\": \"Drama\",...</td>\n    </tr>\n    <tr>\n      <th>9</th>\n      <td>2345652</td>\n      <td>City of the Dead</td>\n      <td>{\"/m/03npn\": \"Horror\", \"/m/0fdjb\": \"Supernatur...</td>\n    </tr>\n    <tr>\n      <th>10</th>\n      <td>175026</td>\n      <td>Sarah and Son</td>\n      <td>{\"/m/07s9rl0\": \"Drama\", \"/m/01g6gs\": \"Black-an...</td>\n    </tr>\n    <tr>\n      <th>11</th>\n      <td>24229100</td>\n      <td>Lady Snowblood 2: Love Song of Vengeance</td>\n      <td>{\"/m/0lsxr\": \"Crime Fiction\", \"/m/01jfsb\": \"Th...</td>\n    </tr>\n    <tr>\n      <th>12</th>\n      <td>6631279</td>\n      <td>Little city</td>\n      <td>{\"/m/06cvj\": \"Romantic comedy\", \"/m/0hj3n0w\": ...</td>\n    </tr>\n    <tr>\n      <th>13</th>\n      <td>171005</td>\n      <td>Henry V</td>\n      <td>{\"/m/04xvh5\": \"Costume drama\", \"/m/082gq\": \"Wa...</td>\n    </tr>\n    <tr>\n      <th>14</th>\n      <td>18296435</td>\n      <td>Aaah Belinda</td>\n      <td>{\"/m/01z4y\": \"Comedy\"}</td>\n    </tr>\n  </tbody>\n</table>\n</div>"
     },
     "execution_count": 4,
     "metadata": {},
     "output_type": "execute_result"
    }
   ],
   "source": [
    "colNames = [\"movie_id\", \"movie_name\", \"genre\"]\n",
    "movie_metadata = pd.read_csv(mainPath + \"movie.metadata.tsv\", sep='\\t', usecols=[0, 2, 8], names=colNames, header=None)\n",
    "movie_metadata.head(15)"
   ],
   "metadata": {
    "collapsed": false
   }
  },
  {
   "cell_type": "code",
   "execution_count": 5,
   "outputs": [
    {
     "data": {
      "text/plain": "movie_id       int64\nmovie_name    object\ngenre         object\ndtype: object"
     },
     "execution_count": 5,
     "metadata": {},
     "output_type": "execute_result"
    }
   ],
   "source": [
    "movie_metadata.dtypes"
   ],
   "metadata": {
    "collapsed": false
   }
  },
  {
   "cell_type": "code",
   "execution_count": 6,
   "outputs": [
    {
     "data": {
      "text/plain": "RangeIndex(start=0, stop=81741, step=1)"
     },
     "execution_count": 6,
     "metadata": {},
     "output_type": "execute_result"
    }
   ],
   "source": [
    "movie_metadata.index"
   ],
   "metadata": {
    "collapsed": false
   }
  },
  {
   "cell_type": "code",
   "execution_count": 7,
   "outputs": [
    {
     "name": "stdout",
     "output_type": "stream",
     "text": [
      "23890098\n",
      "Shlykov, a hard-working taxi driver and Lyosha, a saxophonist, develop a bizarre love-hate relationship, and despite their prejudices, realize they aren't so different after all.\n",
      "42306\n",
      "42306\n"
     ]
    }
   ],
   "source": [
    "summaryFile = open(mainPath + \"plot_summaries.txt\", encoding=\"utf8\")\n",
    "lines = summaryFile.read().splitlines()\n",
    "summaryFile.close()\n",
    "id = []\n",
    "summaries = []\n",
    "for line in lines:\n",
    "    parts = line.split('\\t')\n",
    "    if len(parts) > 1:\n",
    "        id.append(parts[0])\n",
    "        summaries.append(parts[1])\n",
    "print(id[0])\n",
    "print(summaries[0])\n",
    "print(len(id))\n",
    "print(len(summaries))"
   ],
   "metadata": {
    "collapsed": false
   }
  },
  {
   "cell_type": "code",
   "execution_count": 8,
   "outputs": [
    {
     "data": {
      "text/plain": "    movie_id                                            summary\n0   23890098  Shlykov, a hard-working taxi driver and Lyosha...\n1   31186339  The nation of Panem consists of a wealthy Capi...\n2   20663735  Poovalli Induchoodan  is sentenced for six yea...\n3    2231378  The Lemon Drop Kid , a New York City swindler,...\n4     595909  Seventh-day Adventist Church pastor Michael Ch...\n5    5272176  The president is on his way to give a speech. ...\n6    1952976  {{plot}} The film opens in 1974, as a young gi...\n7   24225279  The story begins with Hannah, a young Jewish t...\n8    2462689  Infuriated at being told to write one final co...\n9   20532852  A line of people  drool at the window of the s...\n10  15401493  Lola  attempts to gain her father's trust fund...\n11  18188932  Milan and Goran are two criminals who smuggle ...\n12   2940516  Bumbling pirate crewman  kills his captain aft...\n13   1335380  The film is based on the events that happened ...\n14   1480747  {{plot}} Following the sudden death of Kid's f...",
      "text/html": "<div>\n<style scoped>\n    .dataframe tbody tr th:only-of-type {\n        vertical-align: middle;\n    }\n\n    .dataframe tbody tr th {\n        vertical-align: top;\n    }\n\n    .dataframe thead th {\n        text-align: right;\n    }\n</style>\n<table border=\"1\" class=\"dataframe\">\n  <thead>\n    <tr style=\"text-align: right;\">\n      <th></th>\n      <th>movie_id</th>\n      <th>summary</th>\n    </tr>\n  </thead>\n  <tbody>\n    <tr>\n      <th>0</th>\n      <td>23890098</td>\n      <td>Shlykov, a hard-working taxi driver and Lyosha...</td>\n    </tr>\n    <tr>\n      <th>1</th>\n      <td>31186339</td>\n      <td>The nation of Panem consists of a wealthy Capi...</td>\n    </tr>\n    <tr>\n      <th>2</th>\n      <td>20663735</td>\n      <td>Poovalli Induchoodan  is sentenced for six yea...</td>\n    </tr>\n    <tr>\n      <th>3</th>\n      <td>2231378</td>\n      <td>The Lemon Drop Kid , a New York City swindler,...</td>\n    </tr>\n    <tr>\n      <th>4</th>\n      <td>595909</td>\n      <td>Seventh-day Adventist Church pastor Michael Ch...</td>\n    </tr>\n    <tr>\n      <th>5</th>\n      <td>5272176</td>\n      <td>The president is on his way to give a speech. ...</td>\n    </tr>\n    <tr>\n      <th>6</th>\n      <td>1952976</td>\n      <td>{{plot}} The film opens in 1974, as a young gi...</td>\n    </tr>\n    <tr>\n      <th>7</th>\n      <td>24225279</td>\n      <td>The story begins with Hannah, a young Jewish t...</td>\n    </tr>\n    <tr>\n      <th>8</th>\n      <td>2462689</td>\n      <td>Infuriated at being told to write one final co...</td>\n    </tr>\n    <tr>\n      <th>9</th>\n      <td>20532852</td>\n      <td>A line of people  drool at the window of the s...</td>\n    </tr>\n    <tr>\n      <th>10</th>\n      <td>15401493</td>\n      <td>Lola  attempts to gain her father's trust fund...</td>\n    </tr>\n    <tr>\n      <th>11</th>\n      <td>18188932</td>\n      <td>Milan and Goran are two criminals who smuggle ...</td>\n    </tr>\n    <tr>\n      <th>12</th>\n      <td>2940516</td>\n      <td>Bumbling pirate crewman  kills his captain aft...</td>\n    </tr>\n    <tr>\n      <th>13</th>\n      <td>1335380</td>\n      <td>The film is based on the events that happened ...</td>\n    </tr>\n    <tr>\n      <th>14</th>\n      <td>1480747</td>\n      <td>{{plot}} Following the sudden death of Kid's f...</td>\n    </tr>\n  </tbody>\n</table>\n</div>"
     },
     "execution_count": 8,
     "metadata": {},
     "output_type": "execute_result"
    }
   ],
   "source": [
    "summaryData = pd.DataFrame({\"movie_id\": id, \"summary\": summaries})\n",
    "summaryData.head(15)"
   ],
   "metadata": {
    "collapsed": false
   }
  },
  {
   "cell_type": "code",
   "execution_count": 9,
   "outputs": [],
   "source": [
    "dataset = movie_metadata.copy()"
   ],
   "metadata": {
    "collapsed": false
   }
  },
  {
   "cell_type": "code",
   "execution_count": 10,
   "outputs": [
    {
     "data": {
      "text/plain": "    movie_id                 movie_name  \\\n0     975900             Ghosts of Mars   \n1    9363483           White Of The Eye   \n2     261236          A Woman in Flames   \n3   18998739  The Sorcerer's Apprentice   \n4    6631279                Little city   \n5     171005                    Henry V   \n6   18296435               Aaah Belinda   \n7   11250635    The Mechanical Monsters   \n8      77856               Mary Poppins   \n9   32456683   Die Fahne von Kriwoj Rog   \n10  21926710              White on Rice   \n11  20604092                Anbu Thozhi   \n12    156558                   Baby Boy   \n13  11448183           Bindiya Chamkegi   \n14   9633533                   Vandanam   \n\n                                                genre  \\\n0   {\"/m/01jfsb\": \"Thriller\", \"/m/06n90\": \"Science...   \n1   {\"/m/01jfsb\": \"Thriller\", \"/m/0glj9q\": \"Erotic...   \n2                             {\"/m/07s9rl0\": \"Drama\"}   \n3   {\"/m/0hqxf\": \"Family Film\", \"/m/01hmnh\": \"Fant...   \n4   {\"/m/06cvj\": \"Romantic comedy\", \"/m/0hj3n0w\": ...   \n5   {\"/m/04xvh5\": \"Costume drama\", \"/m/082gq\": \"Wa...   \n6                              {\"/m/01z4y\": \"Comedy\"}   \n7   {\"/m/06n90\": \"Science Fiction\", \"/m/03k9fj\": \"...   \n8   {\"/m/0hj3myq\": \"Children's/Family\", \"/m/04t36\"...   \n9                                                  {}   \n10  {\"/m/06cvj\": \"Romantic comedy\", \"/m/02l7c8\": \"...   \n11                      {\"/m/02l7c8\": \"Romance Film\"}   \n12  {\"/m/0lsxr\": \"Crime Fiction\", \"/m/07s9rl0\": \"D...   \n13  {\"/m/0hqxf\": \"Family Film\", \"/m/01z4y\": \"Comedy\"}   \n14                           {\"/m/02kdv5l\": \"Action\"}   \n\n                                              summary  \n0   Set in the second half of the 22nd century, th...  \n1   A series of murders of rich young women throug...  \n2   Eva, an upper class housewife, becomes frustra...  \n3   Every hundred years, the evil Morgana  returns...  \n4   Adam, a San Francisco-based artist who works a...  \n5   {{Plot|dateAct 1Act 2Act 3Act 4Act 5 Finally n...  \n6   Serap, a young actress with a strong, lively p...  \n7    The story starts as one of the robots flies i...  \n8   The film opens with Mary Poppins  perched in a...  \n9   Otto Brosowski, a communist miner, writes to t...  \n10  Jimmy ([[Hiroshi Watanabe  loves dinosaurs and...  \n11  The film opens with a simpleton from a small v...  \n12  A young 20-year-old named Jody  lives with his...  \n13  Shalini 'Shalu' lives a wealthy lifestyle with...  \n14  Professor Kurian Fernandez , a convict escapes...  ",
      "text/html": "<div>\n<style scoped>\n    .dataframe tbody tr th:only-of-type {\n        vertical-align: middle;\n    }\n\n    .dataframe tbody tr th {\n        vertical-align: top;\n    }\n\n    .dataframe thead th {\n        text-align: right;\n    }\n</style>\n<table border=\"1\" class=\"dataframe\">\n  <thead>\n    <tr style=\"text-align: right;\">\n      <th></th>\n      <th>movie_id</th>\n      <th>movie_name</th>\n      <th>genre</th>\n      <th>summary</th>\n    </tr>\n  </thead>\n  <tbody>\n    <tr>\n      <th>0</th>\n      <td>975900</td>\n      <td>Ghosts of Mars</td>\n      <td>{\"/m/01jfsb\": \"Thriller\", \"/m/06n90\": \"Science...</td>\n      <td>Set in the second half of the 22nd century, th...</td>\n    </tr>\n    <tr>\n      <th>1</th>\n      <td>9363483</td>\n      <td>White Of The Eye</td>\n      <td>{\"/m/01jfsb\": \"Thriller\", \"/m/0glj9q\": \"Erotic...</td>\n      <td>A series of murders of rich young women throug...</td>\n    </tr>\n    <tr>\n      <th>2</th>\n      <td>261236</td>\n      <td>A Woman in Flames</td>\n      <td>{\"/m/07s9rl0\": \"Drama\"}</td>\n      <td>Eva, an upper class housewife, becomes frustra...</td>\n    </tr>\n    <tr>\n      <th>3</th>\n      <td>18998739</td>\n      <td>The Sorcerer's Apprentice</td>\n      <td>{\"/m/0hqxf\": \"Family Film\", \"/m/01hmnh\": \"Fant...</td>\n      <td>Every hundred years, the evil Morgana  returns...</td>\n    </tr>\n    <tr>\n      <th>4</th>\n      <td>6631279</td>\n      <td>Little city</td>\n      <td>{\"/m/06cvj\": \"Romantic comedy\", \"/m/0hj3n0w\": ...</td>\n      <td>Adam, a San Francisco-based artist who works a...</td>\n    </tr>\n    <tr>\n      <th>5</th>\n      <td>171005</td>\n      <td>Henry V</td>\n      <td>{\"/m/04xvh5\": \"Costume drama\", \"/m/082gq\": \"Wa...</td>\n      <td>{{Plot|dateAct 1Act 2Act 3Act 4Act 5 Finally n...</td>\n    </tr>\n    <tr>\n      <th>6</th>\n      <td>18296435</td>\n      <td>Aaah Belinda</td>\n      <td>{\"/m/01z4y\": \"Comedy\"}</td>\n      <td>Serap, a young actress with a strong, lively p...</td>\n    </tr>\n    <tr>\n      <th>7</th>\n      <td>11250635</td>\n      <td>The Mechanical Monsters</td>\n      <td>{\"/m/06n90\": \"Science Fiction\", \"/m/03k9fj\": \"...</td>\n      <td>The story starts as one of the robots flies i...</td>\n    </tr>\n    <tr>\n      <th>8</th>\n      <td>77856</td>\n      <td>Mary Poppins</td>\n      <td>{\"/m/0hj3myq\": \"Children's/Family\", \"/m/04t36\"...</td>\n      <td>The film opens with Mary Poppins  perched in a...</td>\n    </tr>\n    <tr>\n      <th>9</th>\n      <td>32456683</td>\n      <td>Die Fahne von Kriwoj Rog</td>\n      <td>{}</td>\n      <td>Otto Brosowski, a communist miner, writes to t...</td>\n    </tr>\n    <tr>\n      <th>10</th>\n      <td>21926710</td>\n      <td>White on Rice</td>\n      <td>{\"/m/06cvj\": \"Romantic comedy\", \"/m/02l7c8\": \"...</td>\n      <td>Jimmy ([[Hiroshi Watanabe  loves dinosaurs and...</td>\n    </tr>\n    <tr>\n      <th>11</th>\n      <td>20604092</td>\n      <td>Anbu Thozhi</td>\n      <td>{\"/m/02l7c8\": \"Romance Film\"}</td>\n      <td>The film opens with a simpleton from a small v...</td>\n    </tr>\n    <tr>\n      <th>12</th>\n      <td>156558</td>\n      <td>Baby Boy</td>\n      <td>{\"/m/0lsxr\": \"Crime Fiction\", \"/m/07s9rl0\": \"D...</td>\n      <td>A young 20-year-old named Jody  lives with his...</td>\n    </tr>\n    <tr>\n      <th>13</th>\n      <td>11448183</td>\n      <td>Bindiya Chamkegi</td>\n      <td>{\"/m/0hqxf\": \"Family Film\", \"/m/01z4y\": \"Comedy\"}</td>\n      <td>Shalini 'Shalu' lives a wealthy lifestyle with...</td>\n    </tr>\n    <tr>\n      <th>14</th>\n      <td>9633533</td>\n      <td>Vandanam</td>\n      <td>{\"/m/02kdv5l\": \"Action\"}</td>\n      <td>Professor Kurian Fernandez , a convict escapes...</td>\n    </tr>\n  </tbody>\n</table>\n</div>"
     },
     "execution_count": 10,
     "metadata": {},
     "output_type": "execute_result"
    }
   ],
   "source": [
    "summaryData.movie_id = summaryData.movie_id.astype(int)\n",
    "newDataset = dataset.merge(summaryData, on='movie_id', how='inner')\n",
    "newDataset.head(15)"
   ],
   "metadata": {
    "collapsed": false
   }
  },
  {
   "cell_type": "code",
   "execution_count": 11,
   "outputs": [
    {
     "data": {
      "text/plain": "42207"
     },
     "execution_count": 11,
     "metadata": {},
     "output_type": "execute_result"
    }
   ],
   "source": [
    "newDataset.shape[0]"
   ],
   "metadata": {
    "collapsed": false
   }
  },
  {
   "cell_type": "code",
   "execution_count": 12,
   "outputs": [
    {
     "data": {
      "text/plain": "41796"
     },
     "execution_count": 12,
     "metadata": {},
     "output_type": "execute_result"
    }
   ],
   "source": [
    "newDataset.genre = newDataset.genre.astype(str)\n",
    "newDataset = newDataset.drop(newDataset[newDataset['genre'].str.len() < 5].index)\n",
    "newDataset.shape[0]"
   ],
   "metadata": {
    "collapsed": false
   }
  },
  {
   "cell_type": "code",
   "execution_count": 13,
   "outputs": [
    {
     "data": {
      "text/plain": "    movie_id                 movie_name  \\\n0     975900             Ghosts of Mars   \n1    9363483           White Of The Eye   \n2     261236          A Woman in Flames   \n3   18998739  The Sorcerer's Apprentice   \n4    6631279                Little city   \n5     171005                    Henry V   \n6   18296435               Aaah Belinda   \n7   11250635    The Mechanical Monsters   \n8      77856               Mary Poppins   \n10  21926710              White on Rice   \n11  20604092                Anbu Thozhi   \n12    156558                   Baby Boy   \n13  11448183           Bindiya Chamkegi   \n14   9633533                   Vandanam   \n15  29528534              Anokha Rishta   \n\n                                                genre  \\\n0   {\"/m/01jfsb\": \"Thriller\", \"/m/06n90\": \"Science...   \n1   {\"/m/01jfsb\": \"Thriller\", \"/m/0glj9q\": \"Erotic...   \n2                             {\"/m/07s9rl0\": \"Drama\"}   \n3   {\"/m/0hqxf\": \"Family Film\", \"/m/01hmnh\": \"Fant...   \n4   {\"/m/06cvj\": \"Romantic comedy\", \"/m/0hj3n0w\": ...   \n5   {\"/m/04xvh5\": \"Costume drama\", \"/m/082gq\": \"Wa...   \n6                              {\"/m/01z4y\": \"Comedy\"}   \n7   {\"/m/06n90\": \"Science Fiction\", \"/m/03k9fj\": \"...   \n8   {\"/m/0hj3myq\": \"Children's/Family\", \"/m/04t36\"...   \n10  {\"/m/06cvj\": \"Romantic comedy\", \"/m/02l7c8\": \"...   \n11                      {\"/m/02l7c8\": \"Romance Film\"}   \n12  {\"/m/0lsxr\": \"Crime Fiction\", \"/m/07s9rl0\": \"D...   \n13  {\"/m/0hqxf\": \"Family Film\", \"/m/01z4y\": \"Comedy\"}   \n14                           {\"/m/02kdv5l\": \"Action\"}   \n15  {\"/m/03q4nz\": \"World cinema\", \"/m/04t36\": \"Mus...   \n\n                                              summary  \n0   Set in the second half of the 22nd century, th...  \n1   A series of murders of rich young women throug...  \n2   Eva, an upper class housewife, becomes frustra...  \n3   Every hundred years, the evil Morgana  returns...  \n4   Adam, a San Francisco-based artist who works a...  \n5   {{Plot|dateAct 1Act 2Act 3Act 4Act 5 Finally n...  \n6   Serap, a young actress with a strong, lively p...  \n7    The story starts as one of the robots flies i...  \n8   The film opens with Mary Poppins  perched in a...  \n10  Jimmy ([[Hiroshi Watanabe  loves dinosaurs and...  \n11  The film opens with a simpleton from a small v...  \n12  A young 20-year-old named Jody  lives with his...  \n13  Shalini 'Shalu' lives a wealthy lifestyle with...  \n14  Professor Kurian Fernandez , a convict escapes...  \n15  Mary, an orphan lives in an orphanage run by n...  ",
      "text/html": "<div>\n<style scoped>\n    .dataframe tbody tr th:only-of-type {\n        vertical-align: middle;\n    }\n\n    .dataframe tbody tr th {\n        vertical-align: top;\n    }\n\n    .dataframe thead th {\n        text-align: right;\n    }\n</style>\n<table border=\"1\" class=\"dataframe\">\n  <thead>\n    <tr style=\"text-align: right;\">\n      <th></th>\n      <th>movie_id</th>\n      <th>movie_name</th>\n      <th>genre</th>\n      <th>summary</th>\n    </tr>\n  </thead>\n  <tbody>\n    <tr>\n      <th>0</th>\n      <td>975900</td>\n      <td>Ghosts of Mars</td>\n      <td>{\"/m/01jfsb\": \"Thriller\", \"/m/06n90\": \"Science...</td>\n      <td>Set in the second half of the 22nd century, th...</td>\n    </tr>\n    <tr>\n      <th>1</th>\n      <td>9363483</td>\n      <td>White Of The Eye</td>\n      <td>{\"/m/01jfsb\": \"Thriller\", \"/m/0glj9q\": \"Erotic...</td>\n      <td>A series of murders of rich young women throug...</td>\n    </tr>\n    <tr>\n      <th>2</th>\n      <td>261236</td>\n      <td>A Woman in Flames</td>\n      <td>{\"/m/07s9rl0\": \"Drama\"}</td>\n      <td>Eva, an upper class housewife, becomes frustra...</td>\n    </tr>\n    <tr>\n      <th>3</th>\n      <td>18998739</td>\n      <td>The Sorcerer's Apprentice</td>\n      <td>{\"/m/0hqxf\": \"Family Film\", \"/m/01hmnh\": \"Fant...</td>\n      <td>Every hundred years, the evil Morgana  returns...</td>\n    </tr>\n    <tr>\n      <th>4</th>\n      <td>6631279</td>\n      <td>Little city</td>\n      <td>{\"/m/06cvj\": \"Romantic comedy\", \"/m/0hj3n0w\": ...</td>\n      <td>Adam, a San Francisco-based artist who works a...</td>\n    </tr>\n    <tr>\n      <th>5</th>\n      <td>171005</td>\n      <td>Henry V</td>\n      <td>{\"/m/04xvh5\": \"Costume drama\", \"/m/082gq\": \"Wa...</td>\n      <td>{{Plot|dateAct 1Act 2Act 3Act 4Act 5 Finally n...</td>\n    </tr>\n    <tr>\n      <th>6</th>\n      <td>18296435</td>\n      <td>Aaah Belinda</td>\n      <td>{\"/m/01z4y\": \"Comedy\"}</td>\n      <td>Serap, a young actress with a strong, lively p...</td>\n    </tr>\n    <tr>\n      <th>7</th>\n      <td>11250635</td>\n      <td>The Mechanical Monsters</td>\n      <td>{\"/m/06n90\": \"Science Fiction\", \"/m/03k9fj\": \"...</td>\n      <td>The story starts as one of the robots flies i...</td>\n    </tr>\n    <tr>\n      <th>8</th>\n      <td>77856</td>\n      <td>Mary Poppins</td>\n      <td>{\"/m/0hj3myq\": \"Children's/Family\", \"/m/04t36\"...</td>\n      <td>The film opens with Mary Poppins  perched in a...</td>\n    </tr>\n    <tr>\n      <th>10</th>\n      <td>21926710</td>\n      <td>White on Rice</td>\n      <td>{\"/m/06cvj\": \"Romantic comedy\", \"/m/02l7c8\": \"...</td>\n      <td>Jimmy ([[Hiroshi Watanabe  loves dinosaurs and...</td>\n    </tr>\n    <tr>\n      <th>11</th>\n      <td>20604092</td>\n      <td>Anbu Thozhi</td>\n      <td>{\"/m/02l7c8\": \"Romance Film\"}</td>\n      <td>The film opens with a simpleton from a small v...</td>\n    </tr>\n    <tr>\n      <th>12</th>\n      <td>156558</td>\n      <td>Baby Boy</td>\n      <td>{\"/m/0lsxr\": \"Crime Fiction\", \"/m/07s9rl0\": \"D...</td>\n      <td>A young 20-year-old named Jody  lives with his...</td>\n    </tr>\n    <tr>\n      <th>13</th>\n      <td>11448183</td>\n      <td>Bindiya Chamkegi</td>\n      <td>{\"/m/0hqxf\": \"Family Film\", \"/m/01z4y\": \"Comedy\"}</td>\n      <td>Shalini 'Shalu' lives a wealthy lifestyle with...</td>\n    </tr>\n    <tr>\n      <th>14</th>\n      <td>9633533</td>\n      <td>Vandanam</td>\n      <td>{\"/m/02kdv5l\": \"Action\"}</td>\n      <td>Professor Kurian Fernandez , a convict escapes...</td>\n    </tr>\n    <tr>\n      <th>15</th>\n      <td>29528534</td>\n      <td>Anokha Rishta</td>\n      <td>{\"/m/03q4nz\": \"World cinema\", \"/m/04t36\": \"Mus...</td>\n      <td>Mary, an orphan lives in an orphanage run by n...</td>\n    </tr>\n  </tbody>\n</table>\n</div>"
     },
     "execution_count": 13,
     "metadata": {},
     "output_type": "execute_result"
    }
   ],
   "source": [
    "newDataset.head(15)"
   ],
   "metadata": {
    "collapsed": false
   }
  },
  {
   "cell_type": "code",
   "execution_count": 14,
   "outputs": [
    {
     "data": {
      "text/plain": "    movie_id                 movie_name  \\\n0     975900             Ghosts of Mars   \n1    9363483           White Of The Eye   \n2     261236          A Woman in Flames   \n3   18998739  The Sorcerer's Apprentice   \n4    6631279                Little city   \n5     171005                    Henry V   \n6   18296435               Aaah Belinda   \n7   11250635    The Mechanical Monsters   \n8      77856               Mary Poppins   \n10  21926710              White on Rice   \n11  20604092                Anbu Thozhi   \n12    156558                   Baby Boy   \n13  11448183           Bindiya Chamkegi   \n14   9633533                   Vandanam   \n15  29528534              Anokha Rishta   \n\n                                                genre  \\\n0   {\"/m/01jfsb\": \"Thriller\", \"/m/06n90\": \"Science...   \n1   {\"/m/01jfsb\": \"Thriller\", \"/m/0glj9q\": \"Erotic...   \n2                             {\"/m/07s9rl0\": \"Drama\"}   \n3   {\"/m/0hqxf\": \"Family Film\", \"/m/01hmnh\": \"Fant...   \n4   {\"/m/06cvj\": \"Romantic comedy\", \"/m/0hj3n0w\": ...   \n5   {\"/m/04xvh5\": \"Costume drama\", \"/m/082gq\": \"Wa...   \n6                              {\"/m/01z4y\": \"Comedy\"}   \n7   {\"/m/06n90\": \"Science Fiction\", \"/m/03k9fj\": \"...   \n8   {\"/m/0hj3myq\": \"Children's/Family\", \"/m/04t36\"...   \n10  {\"/m/06cvj\": \"Romantic comedy\", \"/m/02l7c8\": \"...   \n11                      {\"/m/02l7c8\": \"Romance Film\"}   \n12  {\"/m/0lsxr\": \"Crime Fiction\", \"/m/07s9rl0\": \"D...   \n13  {\"/m/0hqxf\": \"Family Film\", \"/m/01z4y\": \"Comedy\"}   \n14                           {\"/m/02kdv5l\": \"Action\"}   \n15  {\"/m/03q4nz\": \"World cinema\", \"/m/04t36\": \"Mus...   \n\n                                              summary  \\\n0   Set in the second half of the 22nd century, th...   \n1   A series of murders of rich young women throug...   \n2   Eva, an upper class housewife, becomes frustra...   \n3   Every hundred years, the evil Morgana  returns...   \n4   Adam, a San Francisco-based artist who works a...   \n5   {{Plot|dateAct 1Act 2Act 3Act 4Act 5 Finally n...   \n6   Serap, a young actress with a strong, lively p...   \n7    The story starts as one of the robots flies i...   \n8   The film opens with Mary Poppins  perched in a...   \n10  Jimmy ([[Hiroshi Watanabe  loves dinosaurs and...   \n11  The film opens with a simpleton from a small v...   \n12  A young 20-year-old named Jody  lives with his...   \n13  Shalini 'Shalu' lives a wealthy lifestyle with...   \n14  Professor Kurian Fernandez , a convict escapes...   \n15  Mary, an orphan lives in an orphanage run by n...   \n\n                                           genre_list  \n0   [Thriller, Science Fiction, Horror, Adventure,...  \n1   [Thriller, Erotic thriller, Psychological thri...  \n2                                             [Drama]  \n3     [Family Film, Fantasy, Adventure, World cinema]  \n4   [Romantic comedy, Ensemble Film, Comedy-drama,...  \n5   [Costume drama, War film, Epic, Period piece, ...  \n6                                            [Comedy]  \n7   [Science Fiction, Adventure, Animation, Short ...  \n8   [Children's/Family, Musical, Fantasy, Comedy, ...  \n10     [Romantic comedy, Romance Film, Comedy, Indie]  \n11                                     [Romance Film]  \n12              [Crime Fiction, Drama, Coming of age]  \n13                              [Family Film, Comedy]  \n14                                           [Action]  \n15  [World cinema, Musical, Drama, Romantic drama,...  ",
      "text/html": "<div>\n<style scoped>\n    .dataframe tbody tr th:only-of-type {\n        vertical-align: middle;\n    }\n\n    .dataframe tbody tr th {\n        vertical-align: top;\n    }\n\n    .dataframe thead th {\n        text-align: right;\n    }\n</style>\n<table border=\"1\" class=\"dataframe\">\n  <thead>\n    <tr style=\"text-align: right;\">\n      <th></th>\n      <th>movie_id</th>\n      <th>movie_name</th>\n      <th>genre</th>\n      <th>summary</th>\n      <th>genre_list</th>\n    </tr>\n  </thead>\n  <tbody>\n    <tr>\n      <th>0</th>\n      <td>975900</td>\n      <td>Ghosts of Mars</td>\n      <td>{\"/m/01jfsb\": \"Thriller\", \"/m/06n90\": \"Science...</td>\n      <td>Set in the second half of the 22nd century, th...</td>\n      <td>[Thriller, Science Fiction, Horror, Adventure,...</td>\n    </tr>\n    <tr>\n      <th>1</th>\n      <td>9363483</td>\n      <td>White Of The Eye</td>\n      <td>{\"/m/01jfsb\": \"Thriller\", \"/m/0glj9q\": \"Erotic...</td>\n      <td>A series of murders of rich young women throug...</td>\n      <td>[Thriller, Erotic thriller, Psychological thri...</td>\n    </tr>\n    <tr>\n      <th>2</th>\n      <td>261236</td>\n      <td>A Woman in Flames</td>\n      <td>{\"/m/07s9rl0\": \"Drama\"}</td>\n      <td>Eva, an upper class housewife, becomes frustra...</td>\n      <td>[Drama]</td>\n    </tr>\n    <tr>\n      <th>3</th>\n      <td>18998739</td>\n      <td>The Sorcerer's Apprentice</td>\n      <td>{\"/m/0hqxf\": \"Family Film\", \"/m/01hmnh\": \"Fant...</td>\n      <td>Every hundred years, the evil Morgana  returns...</td>\n      <td>[Family Film, Fantasy, Adventure, World cinema]</td>\n    </tr>\n    <tr>\n      <th>4</th>\n      <td>6631279</td>\n      <td>Little city</td>\n      <td>{\"/m/06cvj\": \"Romantic comedy\", \"/m/0hj3n0w\": ...</td>\n      <td>Adam, a San Francisco-based artist who works a...</td>\n      <td>[Romantic comedy, Ensemble Film, Comedy-drama,...</td>\n    </tr>\n    <tr>\n      <th>5</th>\n      <td>171005</td>\n      <td>Henry V</td>\n      <td>{\"/m/04xvh5\": \"Costume drama\", \"/m/082gq\": \"Wa...</td>\n      <td>{{Plot|dateAct 1Act 2Act 3Act 4Act 5 Finally n...</td>\n      <td>[Costume drama, War film, Epic, Period piece, ...</td>\n    </tr>\n    <tr>\n      <th>6</th>\n      <td>18296435</td>\n      <td>Aaah Belinda</td>\n      <td>{\"/m/01z4y\": \"Comedy\"}</td>\n      <td>Serap, a young actress with a strong, lively p...</td>\n      <td>[Comedy]</td>\n    </tr>\n    <tr>\n      <th>7</th>\n      <td>11250635</td>\n      <td>The Mechanical Monsters</td>\n      <td>{\"/m/06n90\": \"Science Fiction\", \"/m/03k9fj\": \"...</td>\n      <td>The story starts as one of the robots flies i...</td>\n      <td>[Science Fiction, Adventure, Animation, Short ...</td>\n    </tr>\n    <tr>\n      <th>8</th>\n      <td>77856</td>\n      <td>Mary Poppins</td>\n      <td>{\"/m/0hj3myq\": \"Children's/Family\", \"/m/04t36\"...</td>\n      <td>The film opens with Mary Poppins  perched in a...</td>\n      <td>[Children's/Family, Musical, Fantasy, Comedy, ...</td>\n    </tr>\n    <tr>\n      <th>10</th>\n      <td>21926710</td>\n      <td>White on Rice</td>\n      <td>{\"/m/06cvj\": \"Romantic comedy\", \"/m/02l7c8\": \"...</td>\n      <td>Jimmy ([[Hiroshi Watanabe  loves dinosaurs and...</td>\n      <td>[Romantic comedy, Romance Film, Comedy, Indie]</td>\n    </tr>\n    <tr>\n      <th>11</th>\n      <td>20604092</td>\n      <td>Anbu Thozhi</td>\n      <td>{\"/m/02l7c8\": \"Romance Film\"}</td>\n      <td>The film opens with a simpleton from a small v...</td>\n      <td>[Romance Film]</td>\n    </tr>\n    <tr>\n      <th>12</th>\n      <td>156558</td>\n      <td>Baby Boy</td>\n      <td>{\"/m/0lsxr\": \"Crime Fiction\", \"/m/07s9rl0\": \"D...</td>\n      <td>A young 20-year-old named Jody  lives with his...</td>\n      <td>[Crime Fiction, Drama, Coming of age]</td>\n    </tr>\n    <tr>\n      <th>13</th>\n      <td>11448183</td>\n      <td>Bindiya Chamkegi</td>\n      <td>{\"/m/0hqxf\": \"Family Film\", \"/m/01z4y\": \"Comedy\"}</td>\n      <td>Shalini 'Shalu' lives a wealthy lifestyle with...</td>\n      <td>[Family Film, Comedy]</td>\n    </tr>\n    <tr>\n      <th>14</th>\n      <td>9633533</td>\n      <td>Vandanam</td>\n      <td>{\"/m/02kdv5l\": \"Action\"}</td>\n      <td>Professor Kurian Fernandez , a convict escapes...</td>\n      <td>[Action]</td>\n    </tr>\n    <tr>\n      <th>15</th>\n      <td>29528534</td>\n      <td>Anokha Rishta</td>\n      <td>{\"/m/03q4nz\": \"World cinema\", \"/m/04t36\": \"Mus...</td>\n      <td>Mary, an orphan lives in an orphanage run by n...</td>\n      <td>[World cinema, Musical, Drama, Romantic drama,...</td>\n    </tr>\n  </tbody>\n</table>\n</div>"
     },
     "execution_count": 14,
     "metadata": {},
     "output_type": "execute_result"
    }
   ],
   "source": [
    "import re\n",
    "\n",
    "def extract_genre(text: str):\n",
    "    pattern = r':\\s\"(.+?)\\b\"'\n",
    "    result = re.findall(pattern, text)\n",
    "    return result\n",
    "\n",
    "\n",
    "newDataset['genre_list'] = newDataset['genre'].apply(extract_genre)\n",
    "newDataset.head(15)"
   ],
   "metadata": {
    "collapsed": false
   }
  },
  {
   "cell_type": "code",
   "execution_count": 15,
   "outputs": [],
   "source": [
    "def select_genre(theList):\n",
    "    genreItHas = []\n",
    "    actions = [\"Action\", \"action\", \"ball\", \"Ball\"]\n",
    "    romances = [\"Romantic\", \"Romance\", \"romance\", \"romantic\"]\n",
    "    horrors = [\"Horror\", \"Thrill\", \"Zombie\", \"horror\", \"Alien\", \"alien\"]\n",
    "    crimes = [\"Crime\", \"crim\", \"Crim\", \"Prison\", \"prison\"]\n",
    "    comedies = [\"Comedy\", \"comedy\"]\n",
    "\n",
    "    for genre in theList:\n",
    "        for action in actions:\n",
    "            if action in genre and \"Action\" not in genreItHas:\n",
    "                genreItHas.append(\"Action\")\n",
    "                break\n",
    "        for romance in romances:\n",
    "            if romance in genre and \"Romance\" not in genreItHas:\n",
    "                genreItHas.append(\"Romance\")\n",
    "                break\n",
    "        for horror in horrors:\n",
    "            if horror in genre and \"Horror\" not in genreItHas:\n",
    "                genreItHas.append(\"Horror\")\n",
    "                break\n",
    "        for crime in crimes:\n",
    "            if crime in genre and \"Crime\" not in genreItHas:\n",
    "                genreItHas.append(\"Crime\")\n",
    "                break\n",
    "        for comedy in comedies:\n",
    "            if comedy in genre and \"Comedy\" not in genreItHas:\n",
    "                genreItHas.append(\"Comedy\")\n",
    "                break\n",
    "    return genreItHas\n",
    "\n"
   ],
   "metadata": {
    "collapsed": false
   }
  },
  {
   "cell_type": "code",
   "execution_count": 16,
   "outputs": [
    {
     "data": {
      "text/plain": "    movie_id                 movie_name  \\\n0     975900             Ghosts of Mars   \n1    9363483           White Of The Eye   \n2     261236          A Woman in Flames   \n3   18998739  The Sorcerer's Apprentice   \n4    6631279                Little city   \n5     171005                    Henry V   \n6   18296435               Aaah Belinda   \n7   11250635    The Mechanical Monsters   \n8      77856               Mary Poppins   \n10  21926710              White on Rice   \n11  20604092                Anbu Thozhi   \n12    156558                   Baby Boy   \n13  11448183           Bindiya Chamkegi   \n14   9633533                   Vandanam   \n15  29528534              Anokha Rishta   \n\n                                                genre  \\\n0   {\"/m/01jfsb\": \"Thriller\", \"/m/06n90\": \"Science...   \n1   {\"/m/01jfsb\": \"Thriller\", \"/m/0glj9q\": \"Erotic...   \n2                             {\"/m/07s9rl0\": \"Drama\"}   \n3   {\"/m/0hqxf\": \"Family Film\", \"/m/01hmnh\": \"Fant...   \n4   {\"/m/06cvj\": \"Romantic comedy\", \"/m/0hj3n0w\": ...   \n5   {\"/m/04xvh5\": \"Costume drama\", \"/m/082gq\": \"Wa...   \n6                              {\"/m/01z4y\": \"Comedy\"}   \n7   {\"/m/06n90\": \"Science Fiction\", \"/m/03k9fj\": \"...   \n8   {\"/m/0hj3myq\": \"Children's/Family\", \"/m/04t36\"...   \n10  {\"/m/06cvj\": \"Romantic comedy\", \"/m/02l7c8\": \"...   \n11                      {\"/m/02l7c8\": \"Romance Film\"}   \n12  {\"/m/0lsxr\": \"Crime Fiction\", \"/m/07s9rl0\": \"D...   \n13  {\"/m/0hqxf\": \"Family Film\", \"/m/01z4y\": \"Comedy\"}   \n14                           {\"/m/02kdv5l\": \"Action\"}   \n15  {\"/m/03q4nz\": \"World cinema\", \"/m/04t36\": \"Mus...   \n\n                                              summary  \\\n0   Set in the second half of the 22nd century, th...   \n1   A series of murders of rich young women throug...   \n2   Eva, an upper class housewife, becomes frustra...   \n3   Every hundred years, the evil Morgana  returns...   \n4   Adam, a San Francisco-based artist who works a...   \n5   {{Plot|dateAct 1Act 2Act 3Act 4Act 5 Finally n...   \n6   Serap, a young actress with a strong, lively p...   \n7    The story starts as one of the robots flies i...   \n8   The film opens with Mary Poppins  perched in a...   \n10  Jimmy ([[Hiroshi Watanabe  loves dinosaurs and...   \n11  The film opens with a simpleton from a small v...   \n12  A young 20-year-old named Jody  lives with his...   \n13  Shalini 'Shalu' lives a wealthy lifestyle with...   \n14  Professor Kurian Fernandez , a convict escapes...   \n15  Mary, an orphan lives in an orphanage run by n...   \n\n                                           genre_list     selected_genre  \n0   [Thriller, Science Fiction, Horror, Adventure,...   [Horror, Action]  \n1   [Thriller, Erotic thriller, Psychological thri...           [Horror]  \n2                                             [Drama]                 []  \n3     [Family Film, Fantasy, Adventure, World cinema]                 []  \n4   [Romantic comedy, Ensemble Film, Comedy-drama,...  [Romance, Comedy]  \n5   [Costume drama, War film, Epic, Period piece, ...                 []  \n6                                            [Comedy]           [Comedy]  \n7   [Science Fiction, Adventure, Animation, Short ...           [Action]  \n8   [Children's/Family, Musical, Fantasy, Comedy, ...           [Comedy]  \n10     [Romantic comedy, Romance Film, Comedy, Indie]  [Romance, Comedy]  \n11                                     [Romance Film]          [Romance]  \n12              [Crime Fiction, Drama, Coming of age]            [Crime]  \n13                              [Family Film, Comedy]           [Comedy]  \n14                                           [Action]           [Action]  \n15  [World cinema, Musical, Drama, Romantic drama,...          [Romance]  ",
      "text/html": "<div>\n<style scoped>\n    .dataframe tbody tr th:only-of-type {\n        vertical-align: middle;\n    }\n\n    .dataframe tbody tr th {\n        vertical-align: top;\n    }\n\n    .dataframe thead th {\n        text-align: right;\n    }\n</style>\n<table border=\"1\" class=\"dataframe\">\n  <thead>\n    <tr style=\"text-align: right;\">\n      <th></th>\n      <th>movie_id</th>\n      <th>movie_name</th>\n      <th>genre</th>\n      <th>summary</th>\n      <th>genre_list</th>\n      <th>selected_genre</th>\n    </tr>\n  </thead>\n  <tbody>\n    <tr>\n      <th>0</th>\n      <td>975900</td>\n      <td>Ghosts of Mars</td>\n      <td>{\"/m/01jfsb\": \"Thriller\", \"/m/06n90\": \"Science...</td>\n      <td>Set in the second half of the 22nd century, th...</td>\n      <td>[Thriller, Science Fiction, Horror, Adventure,...</td>\n      <td>[Horror, Action]</td>\n    </tr>\n    <tr>\n      <th>1</th>\n      <td>9363483</td>\n      <td>White Of The Eye</td>\n      <td>{\"/m/01jfsb\": \"Thriller\", \"/m/0glj9q\": \"Erotic...</td>\n      <td>A series of murders of rich young women throug...</td>\n      <td>[Thriller, Erotic thriller, Psychological thri...</td>\n      <td>[Horror]</td>\n    </tr>\n    <tr>\n      <th>2</th>\n      <td>261236</td>\n      <td>A Woman in Flames</td>\n      <td>{\"/m/07s9rl0\": \"Drama\"}</td>\n      <td>Eva, an upper class housewife, becomes frustra...</td>\n      <td>[Drama]</td>\n      <td>[]</td>\n    </tr>\n    <tr>\n      <th>3</th>\n      <td>18998739</td>\n      <td>The Sorcerer's Apprentice</td>\n      <td>{\"/m/0hqxf\": \"Family Film\", \"/m/01hmnh\": \"Fant...</td>\n      <td>Every hundred years, the evil Morgana  returns...</td>\n      <td>[Family Film, Fantasy, Adventure, World cinema]</td>\n      <td>[]</td>\n    </tr>\n    <tr>\n      <th>4</th>\n      <td>6631279</td>\n      <td>Little city</td>\n      <td>{\"/m/06cvj\": \"Romantic comedy\", \"/m/0hj3n0w\": ...</td>\n      <td>Adam, a San Francisco-based artist who works a...</td>\n      <td>[Romantic comedy, Ensemble Film, Comedy-drama,...</td>\n      <td>[Romance, Comedy]</td>\n    </tr>\n    <tr>\n      <th>5</th>\n      <td>171005</td>\n      <td>Henry V</td>\n      <td>{\"/m/04xvh5\": \"Costume drama\", \"/m/082gq\": \"Wa...</td>\n      <td>{{Plot|dateAct 1Act 2Act 3Act 4Act 5 Finally n...</td>\n      <td>[Costume drama, War film, Epic, Period piece, ...</td>\n      <td>[]</td>\n    </tr>\n    <tr>\n      <th>6</th>\n      <td>18296435</td>\n      <td>Aaah Belinda</td>\n      <td>{\"/m/01z4y\": \"Comedy\"}</td>\n      <td>Serap, a young actress with a strong, lively p...</td>\n      <td>[Comedy]</td>\n      <td>[Comedy]</td>\n    </tr>\n    <tr>\n      <th>7</th>\n      <td>11250635</td>\n      <td>The Mechanical Monsters</td>\n      <td>{\"/m/06n90\": \"Science Fiction\", \"/m/03k9fj\": \"...</td>\n      <td>The story starts as one of the robots flies i...</td>\n      <td>[Science Fiction, Adventure, Animation, Short ...</td>\n      <td>[Action]</td>\n    </tr>\n    <tr>\n      <th>8</th>\n      <td>77856</td>\n      <td>Mary Poppins</td>\n      <td>{\"/m/0hj3myq\": \"Children's/Family\", \"/m/04t36\"...</td>\n      <td>The film opens with Mary Poppins  perched in a...</td>\n      <td>[Children's/Family, Musical, Fantasy, Comedy, ...</td>\n      <td>[Comedy]</td>\n    </tr>\n    <tr>\n      <th>10</th>\n      <td>21926710</td>\n      <td>White on Rice</td>\n      <td>{\"/m/06cvj\": \"Romantic comedy\", \"/m/02l7c8\": \"...</td>\n      <td>Jimmy ([[Hiroshi Watanabe  loves dinosaurs and...</td>\n      <td>[Romantic comedy, Romance Film, Comedy, Indie]</td>\n      <td>[Romance, Comedy]</td>\n    </tr>\n    <tr>\n      <th>11</th>\n      <td>20604092</td>\n      <td>Anbu Thozhi</td>\n      <td>{\"/m/02l7c8\": \"Romance Film\"}</td>\n      <td>The film opens with a simpleton from a small v...</td>\n      <td>[Romance Film]</td>\n      <td>[Romance]</td>\n    </tr>\n    <tr>\n      <th>12</th>\n      <td>156558</td>\n      <td>Baby Boy</td>\n      <td>{\"/m/0lsxr\": \"Crime Fiction\", \"/m/07s9rl0\": \"D...</td>\n      <td>A young 20-year-old named Jody  lives with his...</td>\n      <td>[Crime Fiction, Drama, Coming of age]</td>\n      <td>[Crime]</td>\n    </tr>\n    <tr>\n      <th>13</th>\n      <td>11448183</td>\n      <td>Bindiya Chamkegi</td>\n      <td>{\"/m/0hqxf\": \"Family Film\", \"/m/01z4y\": \"Comedy\"}</td>\n      <td>Shalini 'Shalu' lives a wealthy lifestyle with...</td>\n      <td>[Family Film, Comedy]</td>\n      <td>[Comedy]</td>\n    </tr>\n    <tr>\n      <th>14</th>\n      <td>9633533</td>\n      <td>Vandanam</td>\n      <td>{\"/m/02kdv5l\": \"Action\"}</td>\n      <td>Professor Kurian Fernandez , a convict escapes...</td>\n      <td>[Action]</td>\n      <td>[Action]</td>\n    </tr>\n    <tr>\n      <th>15</th>\n      <td>29528534</td>\n      <td>Anokha Rishta</td>\n      <td>{\"/m/03q4nz\": \"World cinema\", \"/m/04t36\": \"Mus...</td>\n      <td>Mary, an orphan lives in an orphanage run by n...</td>\n      <td>[World cinema, Musical, Drama, Romantic drama,...</td>\n      <td>[Romance]</td>\n    </tr>\n  </tbody>\n</table>\n</div>"
     },
     "execution_count": 16,
     "metadata": {},
     "output_type": "execute_result"
    }
   ],
   "source": [
    "newDataset['selected_genre'] = newDataset['genre_list'].apply(select_genre)\n",
    "newDataset.head(15)"
   ],
   "metadata": {
    "collapsed": false
   }
  },
  {
   "cell_type": "code",
   "execution_count": 17,
   "outputs": [
    {
     "name": "stdout",
     "output_type": "stream",
     "text": [
      "total:  41796\n",
      "Action:  7040\n",
      "Horror:  9474\n",
      "Crime:  5201\n",
      "Romance: 7254\n",
      "Comedy: 12897\n",
      "more than one types 10712\n",
      "has type:  28540\n"
     ]
    }
   ],
   "source": [
    "total = 0\n",
    "action = 0\n",
    "horror = 0\n",
    "crime = 0\n",
    "romance = 0\n",
    "comedy = 0\n",
    "moreThanOne = 0\n",
    "hasType = 0\n",
    "genreSet = set()\n",
    "for index, row in newDataset.iterrows():\n",
    "    total += 1\n",
    "    theList = row['selected_genre']\n",
    "    if len(theList) > 0:\n",
    "        hasType += 1\n",
    "    if len(theList) > 1:\n",
    "        moreThanOne += 1\n",
    "    for genre in theList:\n",
    "        if genre == \"Action\":\n",
    "            action += 1\n",
    "        elif genre == \"Horror\":\n",
    "            horror += 1\n",
    "        elif genre == \"Romance\":\n",
    "            romance += 1\n",
    "        elif genre == \"Comedy\":\n",
    "            comedy += 1\n",
    "        else:\n",
    "            crime += 1\n",
    "    if len(theList) == 0:\n",
    "        for genre in row['genre_list']:\n",
    "            genreSet.add(genre)\n",
    "print(\"total: \", total)\n",
    "print(\"Action: \", action)\n",
    "print(\"Horror: \", horror)\n",
    "print(\"Crime: \", crime)\n",
    "print(\"Romance:\", romance)\n",
    "print(\"Comedy:\", comedy)\n",
    "print(\"more than one types\", moreThanOne)\n",
    "print(\"has type: \", hasType)\n",
    "\n"
   ],
   "metadata": {
    "collapsed": false
   }
  },
  {
   "cell_type": "code",
   "execution_count": 1,
   "outputs": [
    {
     "name": "stdout",
     "output_type": "stream",
     "text": [
      "Collecting keybert\n",
      "  Downloading keybert-0.7.0.tar.gz (21 kB)\n",
      "  Preparing metadata (setup.py): started\n",
      "  Preparing metadata (setup.py): finished with status 'done'\n",
      "Collecting sentence-transformers>=0.3.8\n",
      "  Downloading sentence-transformers-2.2.2.tar.gz (85 kB)\n",
      "     ---------------------------------------- 0.0/86.0 kB ? eta -:--:--\n",
      "     ---------------------------------------- 86.0/86.0 kB 4.7 MB/s eta 0:00:00\n",
      "  Preparing metadata (setup.py): started\n",
      "  Preparing metadata (setup.py): finished with status 'done'\n",
      "Requirement already satisfied: scikit-learn>=0.22.2 in c:\\users\\limoy\\appdata\\local\\programs\\python\\python38\\lib\\site-packages (from keybert) (1.2.0)\n",
      "Requirement already satisfied: numpy>=1.18.5 in c:\\users\\limoy\\appdata\\local\\programs\\python\\python38\\lib\\site-packages (from keybert) (1.23.5)\n",
      "Collecting rich>=10.4.0\n",
      "  Downloading rich-13.3.4-py3-none-any.whl (238 kB)\n",
      "     ---------------------------------------- 0.0/238.7 kB ? eta -:--:--\n",
      "     -------------------------------------- 238.7/238.7 kB 7.1 MB/s eta 0:00:00\n",
      "Collecting markdown-it-py<3.0.0,>=2.2.0\n",
      "  Downloading markdown_it_py-2.2.0-py3-none-any.whl (84 kB)\n",
      "     ---------------------------------------- 0.0/84.5 kB ? eta -:--:--\n",
      "     ---------------------------------------- 84.5/84.5 kB ? eta 0:00:00\n",
      "Requirement already satisfied: typing-extensions<5.0,>=4.0.0 in c:\\users\\limoy\\appdata\\local\\programs\\python\\python38\\lib\\site-packages (from rich>=10.4.0->keybert) (4.4.0)\n",
      "Requirement already satisfied: pygments<3.0.0,>=2.13.0 in c:\\users\\limoy\\appdata\\local\\programs\\python\\python38\\lib\\site-packages (from rich>=10.4.0->keybert) (2.13.0)\n",
      "Requirement already satisfied: joblib>=1.1.1 in c:\\users\\limoy\\appdata\\local\\programs\\python\\python38\\lib\\site-packages (from scikit-learn>=0.22.2->keybert) (1.2.0)\n",
      "Requirement already satisfied: threadpoolctl>=2.0.0 in c:\\users\\limoy\\appdata\\local\\programs\\python\\python38\\lib\\site-packages (from scikit-learn>=0.22.2->keybert) (3.1.0)\n",
      "Requirement already satisfied: scipy>=1.3.2 in c:\\users\\limoy\\appdata\\local\\programs\\python\\python38\\lib\\site-packages (from scikit-learn>=0.22.2->keybert) (1.9.3)\n",
      "Requirement already satisfied: transformers<5.0.0,>=4.6.0 in c:\\users\\limoy\\appdata\\local\\programs\\python\\python38\\lib\\site-packages (from sentence-transformers>=0.3.8->keybert) (4.26.1)\n",
      "Requirement already satisfied: tqdm in c:\\users\\limoy\\appdata\\local\\programs\\python\\python38\\lib\\site-packages (from sentence-transformers>=0.3.8->keybert) (4.64.1)\n",
      "Requirement already satisfied: torch>=1.6.0 in c:\\users\\limoy\\appdata\\local\\programs\\python\\python38\\lib\\site-packages (from sentence-transformers>=0.3.8->keybert) (2.0.0+cu117)\n",
      "Requirement already satisfied: torchvision in c:\\users\\limoy\\appdata\\local\\programs\\python\\python38\\lib\\site-packages (from sentence-transformers>=0.3.8->keybert) (0.15.1+cu117)\n",
      "Requirement already satisfied: nltk in c:\\users\\limoy\\appdata\\local\\programs\\python\\python38\\lib\\site-packages (from sentence-transformers>=0.3.8->keybert) (3.8.1)\n",
      "Collecting sentencepiece\n",
      "  Downloading sentencepiece-0.1.98-cp38-cp38-win_amd64.whl (977 kB)\n",
      "     ---------------------------------------- 0.0/977.9 kB ? eta -:--:--\n",
      "     ------------------------------------- 977.9/977.9 kB 20.6 MB/s eta 0:00:00\n",
      "Requirement already satisfied: huggingface-hub>=0.4.0 in c:\\users\\limoy\\appdata\\local\\programs\\python\\python38\\lib\\site-packages (from sentence-transformers>=0.3.8->keybert) (0.13.4)\n",
      "Requirement already satisfied: pyyaml>=5.1 in c:\\users\\limoy\\appdata\\local\\programs\\python\\python38\\lib\\site-packages (from huggingface-hub>=0.4.0->sentence-transformers>=0.3.8->keybert) (6.0)\n",
      "Requirement already satisfied: requests in c:\\users\\limoy\\appdata\\local\\programs\\python\\python38\\lib\\site-packages (from huggingface-hub>=0.4.0->sentence-transformers>=0.3.8->keybert) (2.28.1)\n",
      "Requirement already satisfied: packaging>=20.9 in c:\\users\\limoy\\appdata\\local\\programs\\python\\python38\\lib\\site-packages (from huggingface-hub>=0.4.0->sentence-transformers>=0.3.8->keybert) (22.0)\n",
      "Requirement already satisfied: filelock in c:\\users\\limoy\\appdata\\local\\programs\\python\\python38\\lib\\site-packages (from huggingface-hub>=0.4.0->sentence-transformers>=0.3.8->keybert) (3.9.0)\n",
      "Collecting mdurl~=0.1\n",
      "  Downloading mdurl-0.1.2-py3-none-any.whl (10.0 kB)\n",
      "Requirement already satisfied: networkx in c:\\users\\limoy\\appdata\\local\\programs\\python\\python38\\lib\\site-packages (from torch>=1.6.0->sentence-transformers>=0.3.8->keybert) (3.0)\n",
      "Requirement already satisfied: sympy in c:\\users\\limoy\\appdata\\local\\programs\\python\\python38\\lib\\site-packages (from torch>=1.6.0->sentence-transformers>=0.3.8->keybert) (1.11.1)\n",
      "Requirement already satisfied: jinja2 in c:\\users\\limoy\\appdata\\local\\programs\\python\\python38\\lib\\site-packages (from torch>=1.6.0->sentence-transformers>=0.3.8->keybert) (3.1.2)\n",
      "Requirement already satisfied: colorama in c:\\users\\limoy\\appdata\\local\\programs\\python\\python38\\lib\\site-packages (from tqdm->sentence-transformers>=0.3.8->keybert) (0.4.6)\n",
      "Requirement already satisfied: tokenizers!=0.11.3,<0.14,>=0.11.1 in c:\\users\\limoy\\appdata\\local\\programs\\python\\python38\\lib\\site-packages (from transformers<5.0.0,>=4.6.0->sentence-transformers>=0.3.8->keybert) (0.13.3)\n",
      "Requirement already satisfied: regex!=2019.12.17 in c:\\users\\limoy\\appdata\\local\\programs\\python\\python38\\lib\\site-packages (from transformers<5.0.0,>=4.6.0->sentence-transformers>=0.3.8->keybert) (2023.3.23)\n",
      "Requirement already satisfied: click in c:\\users\\limoy\\appdata\\local\\programs\\python\\python38\\lib\\site-packages (from nltk->sentence-transformers>=0.3.8->keybert) (8.1.3)\n",
      "Requirement already satisfied: pillow!=8.3.*,>=5.3.0 in c:\\users\\limoy\\appdata\\local\\programs\\python\\python38\\lib\\site-packages (from torchvision->sentence-transformers>=0.3.8->keybert) (9.3.0)\n",
      "Requirement already satisfied: MarkupSafe>=2.0 in c:\\users\\limoy\\appdata\\local\\programs\\python\\python38\\lib\\site-packages (from jinja2->torch>=1.6.0->sentence-transformers>=0.3.8->keybert) (2.1.1)\n",
      "Requirement already satisfied: idna<4,>=2.5 in c:\\users\\limoy\\appdata\\local\\programs\\python\\python38\\lib\\site-packages (from requests->huggingface-hub>=0.4.0->sentence-transformers>=0.3.8->keybert) (3.4)\n",
      "Requirement already satisfied: certifi>=2017.4.17 in c:\\users\\limoy\\appdata\\local\\programs\\python\\python38\\lib\\site-packages (from requests->huggingface-hub>=0.4.0->sentence-transformers>=0.3.8->keybert) (2022.12.7)\n",
      "Requirement already satisfied: charset-normalizer<3,>=2 in c:\\users\\limoy\\appdata\\local\\programs\\python\\python38\\lib\\site-packages (from requests->huggingface-hub>=0.4.0->sentence-transformers>=0.3.8->keybert) (2.1.1)\n",
      "Requirement already satisfied: urllib3<1.27,>=1.21.1 in c:\\users\\limoy\\appdata\\local\\programs\\python\\python38\\lib\\site-packages (from requests->huggingface-hub>=0.4.0->sentence-transformers>=0.3.8->keybert) (1.26.13)\n",
      "Requirement already satisfied: mpmath>=0.19 in c:\\users\\limoy\\appdata\\local\\programs\\python\\python38\\lib\\site-packages (from sympy->torch>=1.6.0->sentence-transformers>=0.3.8->keybert) (1.2.1)\n",
      "Building wheels for collected packages: keybert, sentence-transformers\n",
      "  Building wheel for keybert (setup.py): started\n",
      "  Building wheel for keybert (setup.py): finished with status 'done'\n",
      "  Created wheel for keybert: filename=keybert-0.7.0-py3-none-any.whl size=23826 sha256=871cee31cc9774b05316788cfeec503314f2095b2a6353cd638405e8b2e46f00\n",
      "  Stored in directory: c:\\users\\limoy\\appdata\\local\\pip\\cache\\wheels\\6c\\bc\\8b\\a51bee77aec33895e6c8c236144b4cc10875659c4d2c80f070\n",
      "  Building wheel for sentence-transformers (setup.py): started\n",
      "  Building wheel for sentence-transformers (setup.py): finished with status 'done'\n",
      "  Created wheel for sentence-transformers: filename=sentence_transformers-2.2.2-py3-none-any.whl size=125961 sha256=45b8b91c4b50bb5a298bac25da8a713146afea4f2950f5ae39cb2e0e3b8bacdf\n",
      "  Stored in directory: c:\\users\\limoy\\appdata\\local\\pip\\cache\\wheels\\5e\\6f\\8c\\d88aec621f3f542d26fac0342bef5e693335d125f4e54aeffe\n",
      "Successfully built keybert sentence-transformers\n",
      "Installing collected packages: sentencepiece, mdurl, markdown-it-py, rich, sentence-transformers, keybert\n",
      "Successfully installed keybert-0.7.0 markdown-it-py-2.2.0 mdurl-0.1.2 rich-13.3.4 sentence-transformers-2.2.2 sentencepiece-0.1.98\n"
     ]
    },
    {
     "name": "stderr",
     "output_type": "stream",
     "text": [
      "\n",
      "[notice] A new release of pip is available: 23.0.1 -> 23.1.1\n",
      "[notice] To update, run: python.exe -m pip install --upgrade pip\n"
     ]
    }
   ],
   "source": [
    "! pip install keybert"
   ],
   "metadata": {
    "collapsed": false
   }
  },
  {
   "cell_type": "code",
   "execution_count": 3,
   "outputs": [
    {
     "data": {
      "text/plain": "Downloading (…)e9125/.gitattributes:   0%|          | 0.00/1.18k [00:00<?, ?B/s]",
      "application/vnd.jupyter.widget-view+json": {
       "version_major": 2,
       "version_minor": 0,
       "model_id": "49522bffc3b5469e927266f0c9100cb9"
      }
     },
     "metadata": {},
     "output_type": "display_data"
    },
    {
     "data": {
      "text/plain": "Downloading (…)_Pooling/config.json:   0%|          | 0.00/190 [00:00<?, ?B/s]",
      "application/vnd.jupyter.widget-view+json": {
       "version_major": 2,
       "version_minor": 0,
       "model_id": "69dbd6c964f547398e94c86831cf9dec"
      }
     },
     "metadata": {},
     "output_type": "display_data"
    },
    {
     "data": {
      "text/plain": "Downloading (…)7e55de9125/README.md:   0%|          | 0.00/10.6k [00:00<?, ?B/s]",
      "application/vnd.jupyter.widget-view+json": {
       "version_major": 2,
       "version_minor": 0,
       "model_id": "8e16208ac2c4408c975991fd3a03c671"
      }
     },
     "metadata": {},
     "output_type": "display_data"
    },
    {
     "data": {
      "text/plain": "Downloading (…)55de9125/config.json:   0%|          | 0.00/612 [00:00<?, ?B/s]",
      "application/vnd.jupyter.widget-view+json": {
       "version_major": 2,
       "version_minor": 0,
       "model_id": "e2adc02b30134851a7816dfa13ff5140"
      }
     },
     "metadata": {},
     "output_type": "display_data"
    },
    {
     "data": {
      "text/plain": "Downloading (…)ce_transformers.json:   0%|          | 0.00/116 [00:00<?, ?B/s]",
      "application/vnd.jupyter.widget-view+json": {
       "version_major": 2,
       "version_minor": 0,
       "model_id": "d42de4d1838f44bd99a01e4ad09028e5"
      }
     },
     "metadata": {},
     "output_type": "display_data"
    },
    {
     "data": {
      "text/plain": "Downloading (…)125/data_config.json:   0%|          | 0.00/39.3k [00:00<?, ?B/s]",
      "application/vnd.jupyter.widget-view+json": {
       "version_major": 2,
       "version_minor": 0,
       "model_id": "8487399b4046427582c0d7e1457d3bdd"
      }
     },
     "metadata": {},
     "output_type": "display_data"
    },
    {
     "data": {
      "text/plain": "Downloading pytorch_model.bin:   0%|          | 0.00/90.9M [00:00<?, ?B/s]",
      "application/vnd.jupyter.widget-view+json": {
       "version_major": 2,
       "version_minor": 0,
       "model_id": "152f9a41a8fb4ac2bce8b9e6639c9c54"
      }
     },
     "metadata": {},
     "output_type": "display_data"
    },
    {
     "data": {
      "text/plain": "Downloading (…)nce_bert_config.json:   0%|          | 0.00/53.0 [00:00<?, ?B/s]",
      "application/vnd.jupyter.widget-view+json": {
       "version_major": 2,
       "version_minor": 0,
       "model_id": "e93e44ec3aeb4c798b068b630fef1fd5"
      }
     },
     "metadata": {},
     "output_type": "display_data"
    },
    {
     "data": {
      "text/plain": "Downloading (…)cial_tokens_map.json:   0%|          | 0.00/112 [00:00<?, ?B/s]",
      "application/vnd.jupyter.widget-view+json": {
       "version_major": 2,
       "version_minor": 0,
       "model_id": "8c2adb4e07d144798397c55d4e174f7b"
      }
     },
     "metadata": {},
     "output_type": "display_data"
    },
    {
     "data": {
      "text/plain": "Downloading (…)e9125/tokenizer.json:   0%|          | 0.00/466k [00:00<?, ?B/s]",
      "application/vnd.jupyter.widget-view+json": {
       "version_major": 2,
       "version_minor": 0,
       "model_id": "d944b9e8fad6436eb33e46566f3f50db"
      }
     },
     "metadata": {},
     "output_type": "display_data"
    },
    {
     "data": {
      "text/plain": "Downloading (…)okenizer_config.json:   0%|          | 0.00/350 [00:00<?, ?B/s]",
      "application/vnd.jupyter.widget-view+json": {
       "version_major": 2,
       "version_minor": 0,
       "model_id": "47f80d0e1e974e2a870ec63342910a21"
      }
     },
     "metadata": {},
     "output_type": "display_data"
    },
    {
     "data": {
      "text/plain": "Downloading (…)9125/train_script.py:   0%|          | 0.00/13.2k [00:00<?, ?B/s]",
      "application/vnd.jupyter.widget-view+json": {
       "version_major": 2,
       "version_minor": 0,
       "model_id": "8717407a7da24f80a8369f58b7f24200"
      }
     },
     "metadata": {},
     "output_type": "display_data"
    },
    {
     "data": {
      "text/plain": "Downloading (…)7e55de9125/vocab.txt:   0%|          | 0.00/232k [00:00<?, ?B/s]",
      "application/vnd.jupyter.widget-view+json": {
       "version_major": 2,
       "version_minor": 0,
       "model_id": "fb56f16860a047c9812c67ec8bc4f4ff"
      }
     },
     "metadata": {},
     "output_type": "display_data"
    },
    {
     "data": {
      "text/plain": "Downloading (…)5de9125/modules.json:   0%|          | 0.00/349 [00:00<?, ?B/s]",
      "application/vnd.jupyter.widget-view+json": {
       "version_major": 2,
       "version_minor": 0,
       "model_id": "d780251f9db24be6982eb5ace3c90f38"
      }
     },
     "metadata": {},
     "output_type": "display_data"
    },
    {
     "name": "stdout",
     "output_type": "stream",
     "text": [
      "[('katniss', 0.5338), ('hunger', 0.4494), ('peeta', 0.3418), ('starving', 0.3354), ('primrose', 0.3051)]\n"
     ]
    }
   ],
   "source": [
    "from keybert import  KeyBERT\n",
    "\n",
    "text = \"\"\"\n",
    "The nation of Panem consists of a wealthy Capitol and twelve poorer districts. As punishment for a past rebellion, each district must provide a boy and girl  between the ages of 12 and 18 selected by lottery  for the annual Hunger Games. The tributes must fight to the death in an arena; the sole survivor is rewarded with fame and wealth. In her first Reaping, 12-year-old Primrose Everdeen is chosen from District 12. Her older sister Katniss volunteers to take her place. Peeta Mellark, a baker's son who once gave Katniss bread when she was starving, is the other District 12 tribute. Katniss and Peeta are taken to the Capitol, accompanied by their frequently drunk mentor, past victor Haymitch Abernathy. He warns them about the \"Career\" tributes who train intensively at special academies and almost always win. During a TV interview with Caesar Flickerman, Peeta unexpectedly reveals his love for Katniss. She is outraged, believing it to be a ploy to gain audience support, as \"sponsors\" may provide in-Games gifts of food, medicine, and tools. However, she discovers Peeta meant what he said. The televised Games begin with half of the tributes killed in the first few minutes; Katniss barely survives ignoring Haymitch's advice to run away from the melee over the tempting supplies and weapons strewn in front of a structure called the Cornucopia. Peeta forms an uneasy alliance with the four Careers. They later find Katniss and corner her up a tree. Rue, hiding in a nearby tree, draws her attention to a poisonous tracker jacker nest hanging from a branch. Katniss drops it on her sleeping besiegers. They all scatter, except for Glimmer, who is killed by the insects. Hallucinating due to tracker jacker venom, Katniss is warned to run away by Peeta. Rue cares for Katniss for a couple of days until she recovers. Meanwhile, the alliance has gathered all the supplies into a pile. Katniss has Rue draw them off, then destroys the stockpile by setting off the mines planted around it. Furious, Cato kills the boy assigned to guard it. As Katniss runs from the scene, she hears Rue calling her name. She finds Rue trapped and releases her. Marvel, a tribute from District 1, throws a spear at Katniss, but she dodges the spear, causing it to stab Rue in the stomach instead. Katniss shoots him dead with an arrow. She then comforts the dying Rue with a song. Afterward, she gathers and arranges flowers around Rue's body. When this is televised, it sparks a riot in Rue's District 11. President Snow summons Seneca Crane, the Gamemaker, to express his displeasure at the way the Games are turning out. Since Katniss and Peeta have been presented to the public as \"star-crossed lovers\", Haymitch is able to convince Crane to make a rule change to avoid inciting further riots. It is announced that tributes from the same district can win as a pair. Upon hearing this, Katniss searches for Peeta and finds him with an infected sword wound in the leg. She portrays herself as deeply in love with him and gains a sponsor's gift of soup. An announcer proclaims a feast, where the thing each survivor needs most will be provided. Peeta begs her not to risk getting him medicine. Katniss promises not to go, but after he falls asleep, she heads to the feast. Clove ambushes her and pins her down. As Clove gloats, Thresh, the other District 11 tribute, kills Clove after overhearing her tormenting Katniss about killing Rue. He spares Katniss \"just this time...for Rue\". The medicine works, keeping Peeta mobile. Foxface, the girl from District 5, dies from eating nightlock berries she stole from Peeta; neither knew they are highly poisonous. Crane changes the time of day in the arena to late at night and unleashes a pack of hound-like creatures to speed things up. They kill Thresh and force Katniss and Peeta to flee to the roof of the Cornucopia, where they encounter Cato. After a battle, Katniss wounds Cato with an arrow and Peeta hurls him to the creatures below. Katniss shoots Cato to spare him a prolonged death. With Peeta and Katniss apparently victorious, the rule change allowing two winners is suddenly revoked. Peeta tells Katniss to shoot him. Instead, she gives him half of the nightlock. However, before they can commit suicide, they are hastily proclaimed the victors of the 74th Hunger Games. Haymitch warns Katniss that she has made powerful enemies after her display of defiance. She and Peeta return to District 12, while Crane is locked in a room with a bowl of nightlock berries, and President Snow considers the situation.\n",
    "\"\"\"\n",
    "kwModel = KeyBERT()\n",
    "bertResult = kwModel.extract_keywords(text)\n",
    "print(bertResult)"
   ],
   "metadata": {
    "collapsed": false
   }
  },
  {
   "cell_type": "code",
   "execution_count": 8,
   "outputs": [
    {
     "name": "stdout",
     "output_type": "stream",
     "text": [
      "[(1.0, 'apple', 0)] \n",
      "\n",
      "number of tokens:  4\n"
     ]
    }
   ],
   "source": [
    "from custom_rake import CustomRake\n",
    "\n",
    "r = CustomRake()\n",
    "text = \"here is an apple\"\n",
    "\n",
    "count = r.extract_keywords_from_text(text)\n",
    "keywords = r.get_ranked_phrases_with_scores()\n",
    "\n",
    "\n",
    "newKeywords = []\n",
    "i = 0\n",
    "for pair in keywords:\n",
    "    newElem = (pair[0], pair[1], i)\n",
    "    newKeywords.append(newElem)\n",
    "    i += 1\n",
    "newKeywords.sort(key=lambda x:x[0], reverse=True)\n",
    "\n",
    "finalKeywords = newKeywords[:50]\n",
    "finalKeywords.sort(key=lambda x:x[2])\n",
    "\n",
    "#print(text, '\\n')\n",
    "print(finalKeywords, '\\n')\n",
    "print(\"number of tokens: \", count)"
   ],
   "metadata": {
    "collapsed": false
   }
  },
  {
   "cell_type": "code",
   "execution_count": null,
   "outputs": [],
   "source": [],
   "metadata": {
    "collapsed": false
   }
  },
  {
   "cell_type": "code",
   "execution_count": 25,
   "outputs": [
    {
     "data": {
      "text/plain": "    movie_id                                            summary\n0   32604160  Mahesh  is a thug in Thanjavur  His only ambit...\n1   24608768  At a midwestern college  student Mary Crawford...\n2   23199746    Plot   The movie starts off in 1979 as a man...\n3   18317315  Nihal Singh  is a teen from Chandigarh who lov...\n4     983044  Once every generation  there is an inter dimen...\n5     884742  Nickie Ferrante   a well known playboy and dil...\n6    5177364  Hathyar is a narrative which probes into the h...\n7   14942228  This movie is a retelling of the Cinderella fa...\n8   19267610  Three criminals have hatched a plan to rob an ...\n9    3112996    plot   An old Norwegian woman named Helga  w...\n10  22872100  The film opens on a voyeuristic shot of colleg...\n11  10616876  Kamal Bhatnagar  is a jealous husband who begi...\n12   2621487  Willard Isenbaum  a lonely insurance man with ...\n13   9633845  Beba used to be a well to do socialite but Arg...\n14    163894  In 1950s Christchurch  New Zealand  a 14 year ...",
      "text/html": "<div>\n<style scoped>\n    .dataframe tbody tr th:only-of-type {\n        vertical-align: middle;\n    }\n\n    .dataframe tbody tr th {\n        vertical-align: top;\n    }\n\n    .dataframe thead th {\n        text-align: right;\n    }\n</style>\n<table border=\"1\" class=\"dataframe\">\n  <thead>\n    <tr style=\"text-align: right;\">\n      <th></th>\n      <th>movie_id</th>\n      <th>summary</th>\n    </tr>\n  </thead>\n  <tbody>\n    <tr>\n      <th>0</th>\n      <td>32604160</td>\n      <td>Mahesh  is a thug in Thanjavur  His only ambit...</td>\n    </tr>\n    <tr>\n      <th>1</th>\n      <td>24608768</td>\n      <td>At a midwestern college  student Mary Crawford...</td>\n    </tr>\n    <tr>\n      <th>2</th>\n      <td>23199746</td>\n      <td>Plot   The movie starts off in 1979 as a man...</td>\n    </tr>\n    <tr>\n      <th>3</th>\n      <td>18317315</td>\n      <td>Nihal Singh  is a teen from Chandigarh who lov...</td>\n    </tr>\n    <tr>\n      <th>4</th>\n      <td>983044</td>\n      <td>Once every generation  there is an inter dimen...</td>\n    </tr>\n    <tr>\n      <th>5</th>\n      <td>884742</td>\n      <td>Nickie Ferrante   a well known playboy and dil...</td>\n    </tr>\n    <tr>\n      <th>6</th>\n      <td>5177364</td>\n      <td>Hathyar is a narrative which probes into the h...</td>\n    </tr>\n    <tr>\n      <th>7</th>\n      <td>14942228</td>\n      <td>This movie is a retelling of the Cinderella fa...</td>\n    </tr>\n    <tr>\n      <th>8</th>\n      <td>19267610</td>\n      <td>Three criminals have hatched a plan to rob an ...</td>\n    </tr>\n    <tr>\n      <th>9</th>\n      <td>3112996</td>\n      <td>plot   An old Norwegian woman named Helga  w...</td>\n    </tr>\n    <tr>\n      <th>10</th>\n      <td>22872100</td>\n      <td>The film opens on a voyeuristic shot of colleg...</td>\n    </tr>\n    <tr>\n      <th>11</th>\n      <td>10616876</td>\n      <td>Kamal Bhatnagar  is a jealous husband who begi...</td>\n    </tr>\n    <tr>\n      <th>12</th>\n      <td>2621487</td>\n      <td>Willard Isenbaum  a lonely insurance man with ...</td>\n    </tr>\n    <tr>\n      <th>13</th>\n      <td>9633845</td>\n      <td>Beba used to be a well to do socialite but Arg...</td>\n    </tr>\n    <tr>\n      <th>14</th>\n      <td>163894</td>\n      <td>In 1950s Christchurch  New Zealand  a 14 year ...</td>\n    </tr>\n  </tbody>\n</table>\n</div>"
     },
     "execution_count": 25,
     "metadata": {},
     "output_type": "execute_result"
    }
   ],
   "source": [
    "colNames = [\"movie_id\", \"summary\"]\n",
    "theData = pd.read_csv(\"C:/Users/limoy/OneDrive/Desktop/544_project/datasets/unique_movie_data.csv\",usecols=[0, 1], names=colNames, header=0)\n",
    "theData['summary'] = theData['summary'].str.replace(r\"[^0-9a-zA-Z]\", ' ', regex=True)\n",
    "theData.head(15)"
   ],
   "metadata": {
    "collapsed": false
   }
  },
  {
   "cell_type": "code",
   "execution_count": 26,
   "outputs": [],
   "source": [
    "import spacy\n",
    "\n",
    "def extract_words(text):\n",
    "    result = []\n",
    "    spacy.prefer_gpu()\n",
    "    nlp = spacy.load(\"en_core_web_trf\")\n",
    "    doc = nlp(text)\n",
    "\n",
    "    for token in doc:\n",
    "\n",
    "        if token.pos_ == \"VERB\":\n",
    "            result.append(token.lemma_)\n",
    "    return result\n",
    "\n"
   ],
   "metadata": {
    "collapsed": false
   }
  },
  {
   "cell_type": "code",
   "execution_count": 27,
   "outputs": [
    {
     "name": "stderr",
     "output_type": "stream",
     "text": [
      "Token indices sequence length is longer than the specified maximum sequence length for this model (543 > 512). Running this sequence through the model will result in indexing errors\n"
     ]
    },
    {
     "name": "stdout",
     "output_type": "stream",
     "text": [
      "extract time:  21844.7280837\n",
      "avg extract time:  2.463598520773655\n",
      "compute time:  5.629712499998277\n"
     ]
    }
   ],
   "source": [
    "import timeit\n",
    "import math\n",
    "\n",
    "extract_start = timeit.default_timer()\n",
    "temp = theData.copy()\n",
    "temp['verbs'] = temp['summary'].apply(extract_words)\n",
    "extract_end = timeit.default_timer()\n",
    "\n",
    "print(\"extract time: \", extract_end - extract_start)\n",
    "\n",
    "compute_start = timeit.default_timer()\n",
    "temp['keywords'] = ''\n",
    "temp['ordered_words'] = ''\n",
    "docFrec = {}\n",
    "docCount = 0\n",
    "for index, row in temp.iterrows():\n",
    "    for word in row['verbs']:\n",
    "        if word in docFrec:\n",
    "            if docFrec[word][1] == 0:\n",
    "                docFrec[word][0] += 1\n",
    "                docFrec[word][1] = 1\n",
    "        else:\n",
    "            docFrec[word] = [1, 1]\n",
    "    for key in docFrec.keys():\n",
    "        docFrec[key][1] = 0\n",
    "    docCount += 1\n",
    "\n",
    "result = []\n",
    "ordered_words = []\n",
    "for index, row in temp.iterrows():\n",
    "    curDict = {}\n",
    "    wordCount = 0\n",
    "    pos = 0\n",
    "    for word in row['verbs']:\n",
    "        if word not in curDict:\n",
    "            curDict[word] = [1, [pos]]\n",
    "        else:\n",
    "            curDict[word][0] += 1\n",
    "            curDict[word][1].append(pos)\n",
    "        pos += 1\n",
    "        wordCount += 1\n",
    "\n",
    "    for key, value in curDict.items():\n",
    "        tf = value[0] / wordCount\n",
    "        idf = math.log2(docCount/docFrec[key][0])\n",
    "        curDict[key][0] = tf*idf\n",
    "\n",
    "\n",
    "    newList = []\n",
    "    newList = list(curDict.items())\n",
    "    newList.sort(key = lambda x:x[1][0], reverse = True)\n",
    "    newWordList = []\n",
    "    for obj in newList:\n",
    "        newWordList.append(obj[0])\n",
    "    result.append(newList)\n",
    "    ordered_words.append(newWordList)\n",
    "\n",
    "temp['keywords'] = result\n",
    "temp['ordered_words'] = ordered_words\n",
    "compute_end = timeit.default_timer()\n",
    "\n",
    "print(\"avg extract time: \", (extract_end - extract_start) / docCount)\n",
    "print(\"compute time: \", compute_end - compute_start)\n",
    "temp.to_csv(\"C:/Users/limoy/OneDrive/Desktop/544_project/datasets/keywords.csv\", sep=',')\n"
   ],
   "metadata": {
    "collapsed": false
   }
  },
  {
   "cell_type": "code",
   "execution_count": null,
   "outputs": [],
   "source": [],
   "metadata": {
    "collapsed": false
   }
  },
  {
   "cell_type": "code",
   "execution_count": 28,
   "outputs": [
    {
     "data": {
      "text/plain": "    movie_id                                            summary  \\\n0   32604160  Mahesh  is a thug in Thanjavur  His only ambit...   \n1   24608768  At a midwestern college  student Mary Crawford...   \n2   23199746    Plot   The movie starts off in 1979 as a man...   \n3   18317315  Nihal Singh  is a teen from Chandigarh who lov...   \n4     983044  Once every generation  there is an inter dimen...   \n5     884742  Nickie Ferrante   a well known playboy and dil...   \n6    5177364  Hathyar is a narrative which probes into the h...   \n7   14942228  This movie is a retelling of the Cinderella fa...   \n8   19267610  Three criminals have hatched a plan to rob an ...   \n9    3112996    plot   An old Norwegian woman named Helga  w...   \n10  22872100  The film opens on a voyeuristic shot of colleg...   \n11  10616876  Kamal Bhatnagar  is a jealous husband who begi...   \n12   2621487  Willard Isenbaum  a lonely insurance man with ...   \n13   9633845  Beba used to be a well to do socialite but Arg...   \n14    163894  In 1950s Christchurch  New Zealand  a 14 year ...   \n\n                                                verbs  \\\n0   [emerge, top, call, want, send, indulge, achie...   \n1   [have, combine, meet, convince, have, become, ...   \n2   [start, break, close, sneak, search, remove, s...   \n3   [love, build, learn, have, dream, study, accep...   \n4   [be, know, design, limit, win, invade, conquer...   \n5   [know, meet, involve, establish, join, anchor,...   \n6   [probe, dread, bereave, have, face, remind, at...   \n7   [become, take, take, return, remember, start, ...   \n8   [hatch, rob, dispatch, take, be, believe, ship...   \n9   [name, warn, hate, destroy, explain, reside, l...   \n10  [open, look, afford, agree, accept, need, have...   \n11  [begin, doubt, enter, convince, love, leave, k...   \n12  [decide, propose, know, speak, spend, fantasiz...   \n13  [use, leave, force, sell, come, work, work, bu...   \n14  [befriend, transfer, bond, share, isolate, dev...   \n\n                                             keywords  \\\n0   [(top, [0.40301376576124476, [1]]), (incur, [0...   \n1   [(beckon, [0.17016549749053236, [25]]), (bruis...   \n2   [(crawl, [0.15039093201251238, [81, 90, 124, 1...   \n3   [(foresee, [0.297010960147821, [17]]), (charm,...   \n4   [(challenge, [0.23396822446460422, [48, 59, 65...   \n5   [(conceal, [0.1655552884707785, [31, 64]]), (a...   \n6   [(bereave, [0.5396151132651804, [2]]), (probe,...   \n7   [(substitute, [0.9066704499782327, [7]]), (dan...   \n8   [(dispatch, [0.18675371238995217, [2, 56]]), (...   \n9   [(ingest, [0.1151467902174985, [87, 93, 161]])...   \n10  [(light, [0.12577947423208624, [47, 51, 60]]),...   \n11  [(dawn, [0.7522306265783858, [10]]), (remarry,...   \n12  [(stipulate, [0.25933924000489667, [20]]), (fa...   \n13  [(discourage, [0.2136426214746492, [17]]), (ve...   \n14  [(share, [0.10989178053557165, [3, 19, 40]]), ...   \n\n                                        ordered_words  \n0   [top, incur, indulge, elope, achieve, oppose, ...  \n1   [beckon, bruise, wrestle, hug, annoy, combine,...  \n2   [crawl, lock, choke, steal, close, trap, decid...  \n3   [foresee, charm, blossom, accept, dream, study...  \n4   [challenge, defeat, face, handpicke, battle, d...  \n5   [conceal, anchor, walk, sit, steer, pause, con...  \n6   [bereave, probe, dread, snatch, endure, attach...  \n7   [substitute, dance, fill, remember, start, tak...  \n8   [dispatch, vaccinate, integrate, outrun, tail,...  \n9   [ingest, turn, transform, dither, resign, plan...  \n10  [light, babysit, afford, mention, unsettle, ag...  \n11  [dawn, remarry, doubt, provide, love, enter, c...  \n12  [stipulate, fantasize, file, spend, age, wind,...  \n13  [discourage, venture, resign, depict, owe, ren...  \n14  [share, write, oppress, outline, plan, finaliz...  ",
      "text/html": "<div>\n<style scoped>\n    .dataframe tbody tr th:only-of-type {\n        vertical-align: middle;\n    }\n\n    .dataframe tbody tr th {\n        vertical-align: top;\n    }\n\n    .dataframe thead th {\n        text-align: right;\n    }\n</style>\n<table border=\"1\" class=\"dataframe\">\n  <thead>\n    <tr style=\"text-align: right;\">\n      <th></th>\n      <th>movie_id</th>\n      <th>summary</th>\n      <th>verbs</th>\n      <th>keywords</th>\n      <th>ordered_words</th>\n    </tr>\n  </thead>\n  <tbody>\n    <tr>\n      <th>0</th>\n      <td>32604160</td>\n      <td>Mahesh  is a thug in Thanjavur  His only ambit...</td>\n      <td>[emerge, top, call, want, send, indulge, achie...</td>\n      <td>[(top, [0.40301376576124476, [1]]), (incur, [0...</td>\n      <td>[top, incur, indulge, elope, achieve, oppose, ...</td>\n    </tr>\n    <tr>\n      <th>1</th>\n      <td>24608768</td>\n      <td>At a midwestern college  student Mary Crawford...</td>\n      <td>[have, combine, meet, convince, have, become, ...</td>\n      <td>[(beckon, [0.17016549749053236, [25]]), (bruis...</td>\n      <td>[beckon, bruise, wrestle, hug, annoy, combine,...</td>\n    </tr>\n    <tr>\n      <th>2</th>\n      <td>23199746</td>\n      <td>Plot   The movie starts off in 1979 as a man...</td>\n      <td>[start, break, close, sneak, search, remove, s...</td>\n      <td>[(crawl, [0.15039093201251238, [81, 90, 124, 1...</td>\n      <td>[crawl, lock, choke, steal, close, trap, decid...</td>\n    </tr>\n    <tr>\n      <th>3</th>\n      <td>18317315</td>\n      <td>Nihal Singh  is a teen from Chandigarh who lov...</td>\n      <td>[love, build, learn, have, dream, study, accep...</td>\n      <td>[(foresee, [0.297010960147821, [17]]), (charm,...</td>\n      <td>[foresee, charm, blossom, accept, dream, study...</td>\n    </tr>\n    <tr>\n      <th>4</th>\n      <td>983044</td>\n      <td>Once every generation  there is an inter dimen...</td>\n      <td>[be, know, design, limit, win, invade, conquer...</td>\n      <td>[(challenge, [0.23396822446460422, [48, 59, 65...</td>\n      <td>[challenge, defeat, face, handpicke, battle, d...</td>\n    </tr>\n    <tr>\n      <th>5</th>\n      <td>884742</td>\n      <td>Nickie Ferrante   a well known playboy and dil...</td>\n      <td>[know, meet, involve, establish, join, anchor,...</td>\n      <td>[(conceal, [0.1655552884707785, [31, 64]]), (a...</td>\n      <td>[conceal, anchor, walk, sit, steer, pause, con...</td>\n    </tr>\n    <tr>\n      <th>6</th>\n      <td>5177364</td>\n      <td>Hathyar is a narrative which probes into the h...</td>\n      <td>[probe, dread, bereave, have, face, remind, at...</td>\n      <td>[(bereave, [0.5396151132651804, [2]]), (probe,...</td>\n      <td>[bereave, probe, dread, snatch, endure, attach...</td>\n    </tr>\n    <tr>\n      <th>7</th>\n      <td>14942228</td>\n      <td>This movie is a retelling of the Cinderella fa...</td>\n      <td>[become, take, take, return, remember, start, ...</td>\n      <td>[(substitute, [0.9066704499782327, [7]]), (dan...</td>\n      <td>[substitute, dance, fill, remember, start, tak...</td>\n    </tr>\n    <tr>\n      <th>8</th>\n      <td>19267610</td>\n      <td>Three criminals have hatched a plan to rob an ...</td>\n      <td>[hatch, rob, dispatch, take, be, believe, ship...</td>\n      <td>[(dispatch, [0.18675371238995217, [2, 56]]), (...</td>\n      <td>[dispatch, vaccinate, integrate, outrun, tail,...</td>\n    </tr>\n    <tr>\n      <th>9</th>\n      <td>3112996</td>\n      <td>plot   An old Norwegian woman named Helga  w...</td>\n      <td>[name, warn, hate, destroy, explain, reside, l...</td>\n      <td>[(ingest, [0.1151467902174985, [87, 93, 161]])...</td>\n      <td>[ingest, turn, transform, dither, resign, plan...</td>\n    </tr>\n    <tr>\n      <th>10</th>\n      <td>22872100</td>\n      <td>The film opens on a voyeuristic shot of colleg...</td>\n      <td>[open, look, afford, agree, accept, need, have...</td>\n      <td>[(light, [0.12577947423208624, [47, 51, 60]]),...</td>\n      <td>[light, babysit, afford, mention, unsettle, ag...</td>\n    </tr>\n    <tr>\n      <th>11</th>\n      <td>10616876</td>\n      <td>Kamal Bhatnagar  is a jealous husband who begi...</td>\n      <td>[begin, doubt, enter, convince, love, leave, k...</td>\n      <td>[(dawn, [0.7522306265783858, [10]]), (remarry,...</td>\n      <td>[dawn, remarry, doubt, provide, love, enter, c...</td>\n    </tr>\n    <tr>\n      <th>12</th>\n      <td>2621487</td>\n      <td>Willard Isenbaum  a lonely insurance man with ...</td>\n      <td>[decide, propose, know, speak, spend, fantasiz...</td>\n      <td>[(stipulate, [0.25933924000489667, [20]]), (fa...</td>\n      <td>[stipulate, fantasize, file, spend, age, wind,...</td>\n    </tr>\n    <tr>\n      <th>13</th>\n      <td>9633845</td>\n      <td>Beba used to be a well to do socialite but Arg...</td>\n      <td>[use, leave, force, sell, come, work, work, bu...</td>\n      <td>[(discourage, [0.2136426214746492, [17]]), (ve...</td>\n      <td>[discourage, venture, resign, depict, owe, ren...</td>\n    </tr>\n    <tr>\n      <th>14</th>\n      <td>163894</td>\n      <td>In 1950s Christchurch  New Zealand  a 14 year ...</td>\n      <td>[befriend, transfer, bond, share, isolate, dev...</td>\n      <td>[(share, [0.10989178053557165, [3, 19, 40]]), ...</td>\n      <td>[share, write, oppress, outline, plan, finaliz...</td>\n    </tr>\n  </tbody>\n</table>\n</div>"
     },
     "execution_count": 28,
     "metadata": {},
     "output_type": "execute_result"
    }
   ],
   "source": [
    "temp.head(15)"
   ],
   "metadata": {
    "collapsed": false
   }
  },
  {
   "cell_type": "code",
   "execution_count": 49,
   "outputs": [
    {
     "data": {
      "text/plain": "0     [Set, depict, terraforme, allow, walk, wear, b...\n1     [bear, lead, visit, instal, make, echo, show, ...\n2     [become, leave, draw, become, name, learn, set...\n3     [return, claim, intend, destroy, fail, intend,...\n4     [base, work, have, commit, want, take, get, le...\n5     [make, name, have, negotiate, inform, last, li...\n6     [take, market, play, call, find, disappear, va...\n7     [start, fly, unload, control, see, line, see, ...\n8     [open, perch, lead, die, descend, perform, wat...\n10    [love, sleep, share, divorce, live, search, th...\n11    [open, want, become, play, go, meet, help, bec...\n12    [name, live, spend, seem, become, force, matur...\n13    [live, expect, marry, prefer, marry, have, loo...\n14    [escape, fail, chase, nab, draw, capture, feel...\n15    [live, run, sponsor, meet, get, know, pass, ru...\nName: verbs, dtype: object"
     },
     "execution_count": 49,
     "metadata": {},
     "output_type": "execute_result"
    }
   ],
   "source": [
    "temp['verbs'].head(15)"
   ],
   "metadata": {
    "collapsed": false
   }
  },
  {
   "cell_type": "code",
   "execution_count": 39,
   "outputs": [
    {
     "data": {
      "text/plain": "0     [Set, depict, terraforme, allow, walk, wear, b...\n1     [bear, lead, visit, instal, make, echo, show, ...\n2     [become, leave, draw, become, name, learn, set...\n3     [return, claim, intend, destroy, fail, intend,...\n4     [base, work, have, commit, want, take, get, le...\n5     [make, name, have, negotiate, inform, last, li...\n6     [take, market, play, call, find, disappear, va...\n7     [start, fly, unload, control, see, line, see, ...\n8     [open, perch, lead, die, descend, perform, wat...\n10    [love, sleep, share, divorce, live, search, th...\nName: verbs, dtype: object"
     },
     "execution_count": 39,
     "metadata": {},
     "output_type": "execute_result"
    }
   ],
   "source": [
    " temp['verbs']"
   ],
   "metadata": {
    "collapsed": false
   }
  },
  {
   "cell_type": "code",
   "execution_count": 57,
   "outputs": [
    {
     "name": "stdout",
     "output_type": "stream",
     "text": [
      "0.3076923076923077\n"
     ]
    }
   ],
   "source": [
    "termCount = 0\n",
    "total = 0\n",
    "docC = 0\n",
    "flag = 0\n",
    "rowC = 0\n",
    "for index, row in temp.iterrows():\n",
    "    for word in row['verbs']:\n",
    "        if index == 0:\n",
    "            total += 1\n",
    "            if word == \"attack\":\n",
    "                termCount += 1\n",
    "        if word == \"attack\" and flag == 0:\n",
    "            docC += 1\n",
    "            flag = 1\n",
    "    flag = 0\n",
    "    rowC += 1\n",
    "tf = termCount/total\n",
    "df = docC/rowC\n",
    "print(tf/df)\n",
    "\n"
   ],
   "metadata": {
    "collapsed": false
   }
  },
  {
   "cell_type": "code",
   "execution_count": 41,
   "outputs": [
    {
     "data": {
      "text/plain": "4"
     },
     "execution_count": 41,
     "metadata": {},
     "output_type": "execute_result"
    }
   ],
   "source": [
    "termCount"
   ],
   "metadata": {
    "collapsed": false
   }
  },
  {
   "cell_type": "code",
   "execution_count": 16,
   "outputs": [
    {
     "name": "stdout",
     "output_type": "stream",
     "text": [
      "5087\n"
     ]
    }
   ],
   "source": [
    "test_text = \"The nation of Panem consists of a wealthy Capitol and twelve poorer districts. As punishment for a past rebellion, each district must provide a boy and girl  between the ages of 12 and 18 selected by lottery  for the annual Hunger Games. The tributes must fight to the death in an arena; the sole survivor is rewarded with fame and wealth. In her first Reaping, 12-year-old Primrose Everdeen is chosen from District 12. Her older sister Katniss volunteers to take her place. Peeta Mellark, a baker's son who once gave Katniss bread when she was starving, is the other District 12 tribute. Katniss and Peeta are taken to the Capitol, accompanied by their frequently drunk mentor, past victor Haymitch Abernathy. He warns them about the \\\"Career\\\" tributes who train intensively at special academies and almost always win. During a TV interview with Caesar Flickerman, Peeta unexpectedly reveals his love for Katniss. She is outraged, believing it to be a ploy to gain audience support, as \\\"sponsors\\\" may provide in-Games gifts of food, medicine, and tools. However, she discovers Peeta meant what he said. The televised Games begin with half of the tributes killed in the first few minutes; Katniss barely survives ignoring Haymitch's advice to run away from the melee over the tempting supplies and weapons strewn in front of a structure called the Cornucopia. Peeta forms an uneasy alliance with the four Careers. They later find Katniss and corner her up a tree. Rue, hiding in a nearby tree, draws her attention to a poisonous tracker jacker nest hanging from a branch. Katniss drops it on her sleeping besiegers. They all scatter, except for Glimmer, who is killed by the insects. Hallucinating due to tracker jacker venom, Katniss is warned to run away by Peeta. Rue cares for Katniss for a couple of days until she recovers. Meanwhile, the alliance has gathered all the supplies into a pile. Katniss has Rue draw them off, then destroys the stockpile by setting off the mines planted around it. Furious, Cato kills the boy assigned to guard it. As Katniss runs from the scene, she hears Rue calling her name. She finds Rue trapped and releases her. Marvel, a tribute from District 1, throws a spear at Katniss, but she dodges the spear, causing it to stab Rue in the stomach instead. Katniss shoots him dead with an arrow. She then comforts the dying Rue with a song. Afterward, she gathers and arranges flowers around Rue's body. When this is televised, it sparks a riot in Rue's District 11. President Snow summons Seneca Crane, the Gamemaker, to express his displeasure at the way the Games are turning out. Since Katniss and Peeta have been presented to the public as \\\"star-crossed lovers\\\", Haymitch is able to convince Crane to make a rule change to avoid inciting further riots. It is announced that tributes from the same district can win as a pair. Upon hearing this, Katniss searches for Peeta and finds him with an infected sword wound in the leg. She portrays herself as deeply in love with him and gains a sponsor's gift of soup. An announcer proclaims a feast, where the thing each survivor needs most will be provided. Peeta begs her not to risk getting him medicine. Katniss promises not to go, but after he falls asleep, she heads to the feast. Clove ambushes her and pins her down. As Clove gloats, Thresh, the other District 11 tribute, kills Clove after overhearing her tormenting Katniss about killing Rue. He spares Katniss \\\"just this time...for Rue\\\". The medicine works, keeping Peeta mobile. Foxface, the girl from District 5, dies from eating nightlock berries she stole from Peeta; neither knew they are highly poisonous. Crane changes the time of day in the arena to late at night and unleashes a pack of hound-like creatures to speed things up. They kill Thresh and force Katniss and Peeta to flee to the roof of the Cornucopia, where they encounter Cato. After a battle, Katniss wounds Cato with an arrow and Peeta hurls him to the creatures below. Katniss shoots Cato to spare him a prolonged death. With Peeta and Katniss apparently victorious, the rule change allowing two winners is suddenly revoked. Peeta tells Katniss to shoot him. Instead, she gives him half of the nightlock. However, before they can commit suicide, they are hastily proclaimed the victors of the 74th Hunger Games. Haymitch warns Katniss that she has made powerful enemies after her display of defiance. She and Peeta return to District 12, while Crane is locked in a room with a bowl of nightlock berries, and President Snow considers the situation. A villager new to the big city – Bhagwaan  – turns to crime to avoid starvation. He is drawn into the gang of slum crime lord ‘dada’ Shambu  where he falls into every crime but one: violence against women. When an impoverished but honourable young widow hangs herself after being raped by Shambu Dada, the cries of her orphaned baby awaken Bhagwaan’s soul. He rebels against his former master. Bhagwaan vows to atone for his formerly evil life, and adopts the orphaned baby as his own son. The innocent young boy becomes Bhagwaan’s source of personal redemption and the inspiration for all that he does. 12 years later the man now lovingly hailed as “Bhagwaan Dada” has transformed the former crime-ridden slum into a safe and happy neighbourhood - Shantinagar - where his adopted son Govinda  has become the pride and joy of the whole community. Despite his own dark past, this loving father has worked hard to raise the boy as a good person with sound moral values. At this time, Bhagwaan chances to rescue another naïve young man new to the big city – Swaroop  – when Shambu Dada’s gang steal all Swaroop’s money. Impressed with Swaroop’s education as well as the similarity of situation to his own arrival in the city years before, Bhagwaan takes the “innocent and simple” villager under his protective wing. He arranges a good job, even brings Swaroop home to live with himself and his son, young Govinda. Swaroop and Bhagwaan claim each other as ‘brothers’. One day on a roadway nearby the district, members of Shambu Dada’s gang assault a beautiful young woman whom Shambu lusts after. Swaroop hears her cries for help and tries to rescue her, believing as Bhagwaan does that: “It is every man’s duty to honour and protect women.” But Swaroop is a gentle bookish soul who does not know how to fight. He is badly beaten by Shambu’s men before Bhagwaan can rescue him in turn. The young woman  who gives her name as Bijli insists on tending the wounded Swaroop who bravely tried to help her. Bhagwaan invites Bijli to come live at their house until she can find a place to stay. After some initial confusion when Govinda mistakes Bijli for his new ‘uncle’ Swaroop’s wife, all four of them – Bhagwaan, Govinda, Swaroop, and now Bijli – live happily in Bhagwaan’s modest home, Govinda remaining impishly determined to matchmake between Swaroop and Bijli. However, what neither Bhagwaan nor Swaroop realise is that Bijli is a streetwalker. Intercepted on her way out to work one evening, Bijli spills Bhagwaan a yarn about how she is secretly an undercover policewoman assigned to pose as a prostitute in order to arrest real prostitutes and their patrons. Bhagwaan believes her. He preserves her ‘secret’, and all four continue happily in the house just as before, ignorance being bliss. The audience soon learn, though, that appearances are deceiving: Bijli is not, actually, a sex worker but rather working a fraud scam wherein she bilks potential ‘johns’ of money through clever ruses. Meanwhile, Shambu Dada has sworn revenge against Bhagwaan for foiling his plan to abduct Bijli. After brutally beating to death one of his gangmembers who botched the abduction, Shambu dumps the corpse in Bhagwaan’s territory seeking to frame Bhagwaan for the murder. The honest policeman Inspector Vijay , though, is fully aware of Shambu Dada’s crime empire activities as well as Bhagwaan’s reformation. When Bhagwaan discovers the corpse and duly reports the murder, Inspector Vijay not only fails to arrest Bhagwaan but even introduces Bhagwaan to a newspaper reporter – Madhu  – who is researching crime trends in the city, and recommends that she visit Shantinagar. The street-savvy Bhagwaan helps Inspector Vijay set a trap that allows the police to capture Shambu Dada in possession of the murder weapon. Shambu is convicted and sentenced to life imprisonment. All seems well. Bhagwaan invites Madhu to attend a joyous public celebration in Shantinagar. When young Govinda mischievously invites Bijli to garland his ‘uncle’ Swaroop, we discover that the blushing Swaroop hides a growing attraction to Bijli. When Madhu reciprocates Bhagwaan’s invitation by inviting him and Swaroop to her birthday party at a fancy hotel, Bijli manages to talk her way along. After Bijli’s comically jealous behaviour at the party, she confesses how she has come to love Swaroop, just as he loves her. She tries to explain that no future is possible between them. But Swaroop, ecstatic at learning his feelings are returned, simply won’t listen. Unknown to all, however, the evil Shambu Dada has escaped during transfer between prison facilities. Shambu vows to revenge himself upon Bhagwaan at all costs. While warning Bhagwaan of his danger at Shambu’s escape, Inspector Vijay happens to mention that Bijli is not, in fact, working for the police at all but has actually been arrested, if released, on suspicion of prostitution. Bhagwaan angrily confronts Bijli. Devastated, Bijli humbly confesses she lied about working with the police. Bhagwaan strikes her and throws her out of the house … and the whole neighbourhood. When Swaroop returns home he wants to support Bijli but it is already too late: Bijli is gone. All now seems lost for our lovers. But wait! A chance encounter with a doctor at a local hospital reveals Bijli’s true story: she has nobly sacrificed her reputation in order to raise money for the surgery and medicines needed to save the life of her sole surviving relative, a little sister, after the rest of their entire family were killed outright during the Bhopal Disaster. [1984 – cyanide gas cloud] Abjectly chastened, Bhagwaan and Swaroop comb the city for the missing Bijli, and almost abandon all hope. Swaroop finally discovers ‘Bijli’ – whole real name is now revealed as Geeta – at the hospital. The lovers are reconciled. Bhagwaan begs Geeta to claim him as her brother. He pledges himself to both pay for the little sister’s operation and see his ‘sister’ Geeta married happily to Swaroop at the earliest opportunity. Swaroop’s mother comes to welcome Geeta and bless Bhagwaan and Govinda – who is jubilant that his ‘matchmaking’ efforts succeeded – for their role in getting her son married. Geeta’s little sister’s operation is successful, so she also joins the household. The whole of Shantinagar eagerly helps with preparations for the upcoming wedding. Madhu, who is herself becoming romantically interested with Bhagwaan, comes to Shantinagar on the day before the big event “to help with wedding work.” Govinda persuades Madhu to help him distribute the last of the wedding cards throughout the community. Hours later Bhagwaan becomes alarmed to discover that neither Govinda nor Madhu has come back. Some distance beyond the end of the city Bhagwaan comes across an exhausted and terrified Madhu, who explains how both she and Govinda had been kidnapped by the gang of the fugitive Shambu Dada and taken to a ruined fort hidden in the wilderness. Shambu intended to rape her, but brave young Govinda had attacked Shambu so that she could escape, asking her to “Bring Father” for help. Deeper in the wilderness Bhagwaan finally finds little Govinda, who has been horribly mutilated and left to die. Govinda explains in a failing voice how he succeeded in overcoming Shambu’s gang with the fighting skills his father taught him, but was unable to defeat Shambu himself. Shambu then vented his rage, at being cheated of Madhu, by brutally crushing Govinda’s legs – “There were nails in his shoes, Father ...” – leaving the boy paralysed and bleeding to death. After receiving final blessing, Govinda dies in his father’s arms ... having sacrificed his own all-too-short life to save the life of another. As darkness falls in the wilderness, Bhagwaan tenderly burns his son’s remains. Bhagwaan solemnly vows to be avenged upon Shambu, and binds Madhu to silence regarding Govinda’s murder lest the wedding be interrupted. The wedding of Geeta and Swaroop goes forward, attended by the whole of Shantinagar. But part way through the ceremonies someone discovers that they’re missing the sindoor  needed to fill the bride’s hair parting for the ritual. Bhagwaan rushes off to buy the essential sindoor. Shambu confronts Bhagwaan in the marketplace. They fight bitterly, until Bhagwaan at last overwhelms Shambu. Remembering poor Govinda’s last words, Bhagwaan dons one of Shambu’s horrible nail-studded boots and uses it to finish off Shambu. Or so he thinks. At the very last, the dying Shambu manages to hurl a hidden knife that pierces Bhagwaan’s chest. Knowing himself to be mortally wounded, Bhagwaan returns to the wedding just at the point where the ceremony requires him, as the bride’s brother, to bless the newly wedded couple – which he does, using a smear of his own red blood instead of the hard-won sindoor. Geeta and Swaroop now realise he is injured and dying, also that Govinda, too, is missing. Bhagwaan responds that he is “on his way to join Govinda” ... and dies in their arms in his turn. Swaroop and Geeta pledge to continue Bhagwaan’s legacy at Shantinagar. Director John Woo said in an interview with David Stratton that the film is only 50% factual. Woo decided to alter the story using modern feelings and his own feelings for a more worldly acceptance. According to Woo, historical accuracy was less important than how the audience felt about the battle.http://www.abc.net.au/atthemovies/txt/s2616304.htm  In the summer of 208, during the Han Dynasty, the imperial army led by chancellor Cao Cao embarks on a campaign to eliminate the southern warlords Sun Quan and Liu Bei in the name of eradicating rebels, with the reluctant approval of Emperor Xian. Cao Cao's mighty army swiftly conquers Jing Province and the Battle of Changban is ignited when Cao's cavalry starts attacking civilians on an exodus led by Liu Bei. During the battle, Liu Bei's followers, including his sworn brothers Guan Yu and Zhang Fei, give an excellent display of their combat skills by holding off the enemy while buying time for the civilians to retreat. The warrior Zhao Yun fights bravely to rescue Liu Bei's entrapped family but only succeeds in rescuing Liu's infant son. Following the battle, Liu Bei's advisor Zhuge Liang embarks on a diplomatic mission to Jiangdong to form an alliance between his lord and Sun Quan to deal with Cao Cao's invasion. Sun Quan was initially in the midst of a dilemma of whether to surrender or resist, but his decision to resist Cao Cao hardens after Zhuge Liang's clever persuasion and a subsequent tiger hunt with his viceroy Zhou Yu and sister Sun Shangxiang. Meanwhile, naval commanders Cai Mao and Zhang Yun from Jing Province pledge allegiance to Cao Cao and are received warmly by Cao, who places them in command of his navy. After the hasty formation of the alliance, the forces of Liu Bei and Sun Quan call for a meeting to formulate a plan to counter Cao Cao's army, which is rapidly advancing towards Red Cliff from both land and water. The battle begins with Sun Shangxiang leading a light cavalry unit to lure Cao Cao's vanguard force into the allies' Bagua Formation. The vanguard force is defeated by the allies but Cao Cao shows no disappointment and proceeds to lead his main army to the riverbank directly opposite the allies' main camp, where they make camp. While the allies throw a banquet to celebrate their victory, Zhuge Liang thinks of a plan to send Sun Shangxiang to infiltrate Cao Cao's camp and conduct an espionage mission. The duo maintain contact by sending messages via a pigeon. The film ends with Zhou Yu lighting his miniaturised battleships on a map based on the battle formation.  Sun Shangxiang has infiltrated Cao Cao's camp and is secretly noting details and sending them via a pigeon to Zhuge Liang. Meanwhile, Cao Cao's army is seized with a plague of typhoid fever that kills a number of his troops. Cao Cao orders the corpses to be sent on floating rafts to the allies' camp, hoping to pass the plague on to his enemies. The allied army's morale is affected when some unsuspecting soldiers let the plague in, and eventually a disheartened Liu Bei leaves with his forces while Zhuge Liang stays behind to assist Sun Quan's forces. Cao Cao is overjoyed when he hears that the alliance had collapsed. At the same time, Cai Mao and Zhang Yun propose a new tactic of interlocking the battleships together with iron beams to minimize rocking when sailing on the river and reduce the chances of the troops falling seasick. [[Image:Red Cliff.jpg|right|thumb|Sun Quan's forces look on as Liu Bei leaves the alliance. From right to left: Zhou Yu , Sun Quan , Lu Su (Hou Yong . Subsequently, Zhou Yu and Zhuge Liang make plans on how to eliminate Cai Mao and Zhang Yun, and produce 100,000 arrows respectively. They agreed that whoever fails to complete his mission will be punished by execution under military law. Zhuge Liang's ingenious strategy of letting the enemy shoot 20 boats covered in straw brings in over 100,000 arrows from the enemy and makes Cao Cao doubt the loyalty of Cai Mao and Zhang Yun. On the other hand, Cao Cao sends Jiang Gan to persuade Zhou Yu to surrender, but Zhou tricks Jiang instead into believing that Cai Mao and Zhang Yun are planning to assassinate Cao. Both Zhuge Liang and Zhou Yu's respective plans complement each other when Cao Cao is convinced, despite earlier having doubts about Jiang Gan's report, that Cai Mao and Zhang Yun were indeed planning to assassinate him by deliberately \\\"donating\\\" arrows to the enemy. Cai Mao and Zhang Yun are executed and Cao Cao realises his folly afterwards but it is too late. In Sun Quan's camp, Sun Shangxiang returns from Cao Cao's camp with a map of the enemy formation. Zhou Yu and Zhuge Liang decide to attack Cao Cao's navy with fire anticipating that a special climatic condition will soon cause the wind to shift and that the resulting southeast wind will blow to their advantage. Before the battle, Sun Quan's forces have a final moment together, feasting on rice dumplings to celebrate the Winter Solstice. Meanwhile, Zhou Yu's wife, Xiaoqiao, heads towards Cao Cao's camp alone secretly, hoping to persuade Cao to give up his ambitious plans, but fails and decides to distract him instead to buy time for her side. The battle begins when the southeast wind starts blowing in the middle of the night and Sun Quan's forces launch their attack on Cao Cao's navy. On the other hand, Liu Bei's forces, which had apparently left the alliance, start attacking Cao Cao's forts on land. By dawn, Cao Cao's entire navy has been destroyed. The allies launch another offensive on Cao Cao's ground army, stationed in his forts, and succeed in breaking through using testudo formation despite suffering heavy casualties. Although Cao Cao is besieged in his main camp, he manages to hold Zhou Yu hostage after catching him off guard together with Cao Hong. Xiahou Jun also appears, holding Xiaoqiao hostage and causing the allies to hesitate. Just then, Zhao Yun manages to reverse the situation by rescuing Xiaoqiao with a surprise attack and put Cao Cao at the mercy of the allies instead. Eventually, the allies decide to spare Cao Cao's life and tell him never to return before leaving for home. In the final scene, Zhou Yu and Zhuge Liang are seen having a conversation before Zhuge walks away into the far distance with the newborn foal Mengmeng.  The Western release trimmed the length of the film from 280 minutes to 148 minutes and was released in some regions under the title Battle of Red Cliff. An opening narration in English is provided to set the historical context whereas in the Asian release, a more brief description of the context of the political situation appears in scrolling form 10 minutes into the film. Notable cuts include the background and motivations behind Zhuge Liang's plan to obtain 100,000 arrows, including the threat to his life, and the early parts of Sun Shangxiang's infiltration. The tiger hunting scene was also cut from the Western release. Both parts were later released together as a two-disc set in North America by Magnolia Entertainment in their original length on both DVD and Blu-ray disc formats on 23 March, 2010. During the Great depression in 1933 in Winnipeg, Canada, an old fortune teller is predicting the future for Chester Kent , a failing Broadway producer, and his nymphomaniac amnesiac girlfriend Narcissa . The fortune teller predicts doom, but Chester laughs it off, and rides a train into Winnipeg. The baroness Helen, Lady Port-Huntley  announces a competition to find the saddest music in the world; she hopes that the competition will raise the sales of her beer, especially since Prohibition is about to end. Chester decides to enter the contest representing America. It emerges that Lady Port-Huntley, who has no legs, was once Chester's lover; and saying that \\\"of all the people in the world, you know the least about grief\\\", she orders him to try to make her cry by retelling how she lost her legs. It emerges that his dad Fyodor Kent  was also in love with her. After she left him, Fyodor became an alcoholic. One day as they were driving as Helen performs oral sex on Chester, they crashed into Fyodor's car, and Helen's left leg was trapped in the wreckage. A drunken Fyodor, determined to save and marry his beloved, amputated her leg but removed the wrong one accidentally. In the present, Lady Port-Huntley tells Chester he can try, but she doesn't think he'll succeed. Fyodor also shows up and enters the contest to represent Canada. Musicians are streaming into Winnipeg, including Roderick Kent , representing Serbia. Roderick is swathed in mourning and hypochondria, because his young son died and his wife is missing. As soon as he arrives, he and Chester begin grating on each other. A sober Fyodor also reveals that he has been making prosthetic legs for Helen to atone for his tragic mistake. She's allergic to wood and leather, so he uses glass ones, and fills them with her brand of beer. The contest begins, with various countries pitted against each other. Fyodor's melodramatic piano ballad is soon defeated, but Chester's glitzy \\\"Swing Low, Sweet Chariot\\\" act wins over the audience. Unfortunately Roderick sees Narcissa singing from a swinging seat, and collapses in horror realizing it's his wife singing. Roderick manages to do his act, and defeats everyone with his heartbreaking cello music. After, Roderick gives his father's glass legs to Lady Port-Huntley, who is able to walk for the first time in years. Overjoyed, she reunites with Chester, but when Fyodor begs her for forgiveness, she refuses to give it. Shattered, Fyodor returns to drinking, falls through the glass ceiling of the contest arena into a pool of beer, and dies. Meanwhile, Roderick has reunited with his wife; since Narcissa doesn't remember him or their son, however, she simply regards him as a one-night stand, and sings a tragic love song as if it were a showtune. Roderick accidentally drops a jar containing his dead son's heart, and it shatters. Roderick becomes determined to defeat his brother, and plays his most plaintive music ever, while Chester manipulates the audience with his showtunes, often buying out other countries he's defeated in the contest to \\\"join America\\\" in his performance. Soon the brothers are the only ones left in the competition, and Lady Port-Huntley &mdash; with her glass legs &mdash; is part of Chester's final act. But a few jagged notes from Roderick's cello are enough to spring leaks in the glass, and the legs collapse. Horrified and humiliated, she orders her gigolo to carry her back to her office. Roderick plays his most tragic piece, and Narcissa sings sadly to it as her memories return. Chester goes to comfort Helen, but she stabs him with a giant piece of glass from her shattered legs. The bleeding Chester staggers out smoking a cigar, dropping a match in a puddle of spilled beer. Soon the entire building goes up in flames. Teddy rescues Helen, and Roderick and Narcissa escape. Chester staggers to a piano and plays Narcissa's ballad &mdash; the saddest music in the world &mdash; as he burns in the fire. The film begins with a boy named Michael , a kid who has the hots for a beautiful girl named Jada , but is always rejected because Jada is stuck with a gangster, Lorenzo , and when Michael comes close to her, he is threatened with bodily harm by getting beat up by both Lorenzo and his homeboys, T-Bone  and Baby Boy . But Michael is secretly involved in black magic, and tries to bring a doll that he keeps calling Killjoy to life. But the spell does not work quickly; after he is abducted by the gangsters and brought into an abandoned area of the woods, Michael is accidentally shot and killed by Lorenzo when they were supposedly joking around with him. A year later, Jada is now going out with a guy named Jamal , who is just as nice as Michael was. Meanwhile, Lorenzo is now going out with a girl named Kahara , who is just like Jada. When Lorenzo leaves to have sex with her, T-Bone and Baby Boy go to get some ice-cream to get munchies, when the ice-cream man, who's dressed up like a clown  really sells drugs. Baby Boy and T-Bone hop in the truck, when suddenly, they end up in some abandoned building, far away from where they live. They split up to find a way out. Baby Boy finds a way out, but before he can make a run for it, he gets rammed into the wall by the ice-cream truck. Meanwhile, T-Bone finds some pot lying on the ground and starts to smoke it, when suddenly, the pot starts to burn him, and his body vanishes, and ends up back to his hide-out, along with Baby Boy. Meanwhile, Lorenzo, after having sex with Kahara, hears something outside her apartment building, and goes outside to check. He finds the ice-cream truck and opens the door, and the ice-cream man pulls him in, and ends up at the abandoned building. After finding the ice-cream man, he confronts him and shows him the  corpses of T-Bone and Baby Boy; after they fade away, he shoots the ice-cream man dozens of times, but the ice-cream man sucks up the bullets (a spoof of [[The Mask  and shoots the bullets out of his mouth, killing Lorenzo. Meanwhile, one of Jada's friends, Monique , calls Jada, telling her that some guy  came in to her room and needs them to come over. The homeless man tells them that Lorenzo killed Michael a year ago, and explains that Michael was brought back to life by the Ice Cream Man, whose real name's Killjoy, the doll Michael has, and tells them that Killjoy just killed Lorenzo, Baby Boy, and T-Bone. Then he tells them that Killjoy/Michael can be killed by Jada, because the love of a young woman can destroy the evil in the heart. Before leaving, he tells them that they have to kill the doll the spirit of the ice cream man came from, and the ice cream truck is outside. Still not believing what the homeless man said, they go inside the ice-cream truck to check it out, and they end up in the abandoned building, where they're confronted by T-Bone, Baby Boy, and Lorenzo, who souls' are under Killjoy's control and are now his accomplices. The trio start fighting the accomplices until all three are killed. Then Killjoy comes out and knocks Jamal and Monique out. He asks Jada for a kiss, upon which Jada agrees to do so, under one condition: that he will leave her world and never come back. But instead of disappearing, Killjoy transforms into Michael. Michael tells Jada that he did it all for her. Jada, who desperately wants to stop Michael/Killjoy from killing, stabs Michael to death, and Michael fades away. Jamal, Jada, and Monique are about to leave when Killjoy, Lorenzo, T-Bone, and Baby Boy appear behind them. Jada then remembers from the Homeless man that they have to kill the doll. The trio frantically run back into the ice-cream truck, where they end up in Michael's house, where the doll lies on the floor. The doll turns into Michael, who constantly begs her for forgiveness, but Jada continues to stab it. The earth starts to shake, and while Jada, Jamal, and Monique try to stay still within the circle of candles without breaking it, Baby Boy, T-Bone, and Lorenzo's souls are sucked into a portal. The trio then watch as Killjoy finishes off Michael , and the trio are sent back to Jada's room, where the homeless man thanks them, and vanishes, meaning he's an angel from heaven. The trio decides to go out and eat, when they are confronted by Ray Jackson , and Tamara , who are both in Jada's English class. Ray says that he gained access into the club free because his brother owns the place, and his name is......Killjoy! The trio then see that Ray turns into Killjoy, and Tamara turns into Lorenzo. Killjoy starts laughing maniacally at the trio, with Jada screaming \\\"NO!\\\", until Jada wakes up in bed, along with Jamal, indicating that the entire experience was all a dream. Jamal tries to calm Jada down by going under the covers to perform oral sex on her, but then rises from the covers as Killjoy. The film ends with a shot of Jada screaming and Killjoy stating, \\\"That was some good pussay!!!\\\", followed by evil laughter.\"\n",
    "length = len(test_text.split())\n",
    "print(length)\n",
    "result = extract_words(test_text)"
   ],
   "metadata": {
    "collapsed": false
   }
  },
  {
   "cell_type": "code",
   "execution_count": null,
   "outputs": [],
   "source": [],
   "metadata": {
    "collapsed": false
   }
  }
 ],
 "metadata": {
  "kernelspec": {
   "name": "venv",
   "language": "python",
   "display_name": "venv"
  },
  "language_info": {
   "codemirror_mode": {
    "name": "ipython",
    "version": 2
   },
   "file_extension": ".py",
   "mimetype": "text/x-python",
   "name": "python",
   "nbconvert_exporter": "python",
   "pygments_lexer": "ipython2",
   "version": "2.7.6"
  }
 },
 "nbformat": 4,
 "nbformat_minor": 0
}
